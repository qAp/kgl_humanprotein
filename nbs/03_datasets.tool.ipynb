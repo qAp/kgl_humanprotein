{
 "cells": [
  {
   "cell_type": "markdown",
   "metadata": {},
   "source": [
    "# `datasets.tool`"
   ]
  },
  {
   "cell_type": "code",
   "execution_count": null,
   "metadata": {},
   "outputs": [],
   "source": [
    "# %load ../../HPA-competition-solutions/bestfitting/src/datasets/tool.py"
   ]
  },
  {
   "cell_type": "code",
   "execution_count": 2,
   "metadata": {},
   "outputs": [],
   "source": [
    "#default_exp datasets.tool"
   ]
  },
  {
   "cell_type": "code",
   "execution_count": null,
   "metadata": {},
   "outputs": [],
   "source": [
    "#export\n",
    "\n",
    "# from common import *\n",
    "import os\n",
    "import math\n",
    "import numpy as np\n",
    "import cv2\n",
    "import torch\n",
    "opj = os.path.join\n",
    "\n",
    "def tensor_to_image(tensor, mean=0, std=1):\n",
    "    image = tensor.numpy()\n",
    "    if len(image.shape) == 3 :\n",
    "        image = np.transpose(image, (1, 2, 0))\n",
    "    image = image*std + mean\n",
    "    image = image.astype(dtype=np.uint8)\n",
    "    return image\n",
    "\n",
    "def tensor_to_label(tensor):\n",
    "    label = tensor.numpy()\n",
    "    label = label.astype(dtype=np.uint8)\n",
    "    return label\n",
    "\n",
    "## transform (input is numpy array, read in by cv2)\n",
    "def image_to_tensor(image, mean=0, std=1.):\n",
    "    image = image.astype(np.float32)\n",
    "    image = (image-mean)/std\n",
    "    if len(image.shape) == 3:\n",
    "        image = image.transpose((2,0,1))\n",
    "    tensor = torch.from_numpy(image)\n",
    "\n",
    "    return tensor\n",
    "\n",
    "def label_to_tensor(label, threshold=0.5):\n",
    "    label_ret  = (label>threshold).astype(np.float32)\n",
    "    label_ret[label<0]=-1.0\n",
    "    tensor = torch.from_numpy(label_ret).type(torch.FloatTensor)\n",
    "    return tensor\n",
    "\n",
    "\n",
    "# main #################################################################\n",
    "if __name__ == '__main__':\n",
    "    print( '%s: calling main function ... ' % os.path.basename(__file__))"
   ]
  },
  {
   "cell_type": "code",
   "execution_count": null,
   "metadata": {},
   "outputs": [],
   "source": []
  }
 ],
 "metadata": {
  "kernelspec": {
   "display_name": "Python 3",
   "language": "python",
   "name": "python3"
  },
  "language_info": {
   "codemirror_mode": {
    "name": "ipython",
    "version": 3
   },
   "file_extension": ".py",
   "mimetype": "text/x-python",
   "name": "python",
   "nbconvert_exporter": "python",
   "pygments_lexer": "ipython3",
   "version": "3.7.7"
  },
  "toc": {
   "base_numbering": 1,
   "nav_menu": {},
   "number_sections": true,
   "sideBar": true,
   "skip_h1_title": false,
   "title_cell": "Table of Contents",
   "title_sidebar": "Contents",
   "toc_cell": false,
   "toc_position": {},
   "toc_section_display": true,
   "toc_window_display": false
  }
 },
 "nbformat": 4,
 "nbformat_minor": 4
}
