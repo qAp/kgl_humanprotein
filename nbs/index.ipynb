{
 "cells": [
  {
   "cell_type": "code",
   "execution_count": null,
   "metadata": {},
   "outputs": [],
   "source": [
    "#hide"
   ]
  },
  {
   "cell_type": "markdown",
   "metadata": {},
   "source": [
    "# kgl_humanprotein\n",
    "\n",
    "> A top 12% solution for Human Protein Atlas Single-cell Classification Kaggle\n"
   ]
  },
  {
   "cell_type": "markdown",
   "metadata": {},
   "source": [
    "Competition page: https://www.kaggle.com/c/hpa-single-cell-image-classification/"
   ]
  },
  {
   "cell_type": "markdown",
   "metadata": {},
   "source": [
    "## Main approach"
   ]
  },
  {
   "cell_type": "markdown",
   "metadata": {},
   "source": [
    "1. No segmentation training.\n",
    "2. Train classifier on single-label cells.\n",
    "3. Generate labels for multi-label images' cells using model from step 2.\n",
    "4. Train classifier on single-label cells and cells with generated labels."
   ]
  },
  {
   "cell_type": "markdown",
   "metadata": {},
   "source": [
    "## What didn't work well"
   ]
  },
  {
   "cell_type": "markdown",
   "metadata": {},
   "source": [
    "1. The use of 'soft' labels.  "
   ]
  },
  {
   "cell_type": "markdown",
   "metadata": {},
   "source": [
    "# Reference & Resources"
   ]
  },
  {
   "cell_type": "markdown",
   "metadata": {},
   "source": [
    "- https://github.com/CellProfiling/HPA-competition-solutions/tree/master/bestfitting\n",
    "- https://www.kaggle.com/its7171/mmdetection-for-segmentation-training\n",
    "- https://www.kaggle.com/its7171/mmdetection-for-segmentation-inference\n",
    "- https://www.kaggle.com/lnhtrang/hpa-public-data-download-and-hpacellseg\n",
    "- https://www.kaggle.com/dschettler8845/hpa-cellwise-classification-inference\n",
    "- https://www.kaggle.com/dschettler8845/hpa-cellwise-classification-training\n",
    "- https://www.kaggle.com/thedrcat/hpa-single-cell-classification-eda\n",
    "- https://www.kaggle.com/c/hpa-single-cell-image-classification/discussion/216430"
   ]
  },
  {
   "cell_type": "code",
   "execution_count": null,
   "metadata": {},
   "outputs": [],
   "source": []
  }
 ],
 "metadata": {
  "kernelspec": {
   "display_name": "Python 3",
   "language": "python",
   "name": "python3"
  }
 },
 "nbformat": 4,
 "nbformat_minor": 2
}
