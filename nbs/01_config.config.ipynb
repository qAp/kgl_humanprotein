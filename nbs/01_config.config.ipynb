{
 "cells": [
  {
   "cell_type": "code",
   "execution_count": null,
   "metadata": {},
   "outputs": [],
   "source": [
    "# %load ../../../HPA-competition-solutions/bestfitting/src/config/config.py"
   ]
  },
  {
   "cell_type": "markdown",
   "metadata": {},
   "source": [
    "# Config"
   ]
  },
  {
   "cell_type": "code",
   "execution_count": null,
   "metadata": {},
   "outputs": [],
   "source": [
    "#default_exp config.config"
   ]
  },
  {
   "cell_type": "code",
   "execution_count": null,
   "metadata": {},
   "outputs": [],
   "source": [
    "#export\n",
    "\n",
    "import os\n",
    "ope = os.path.exists\n",
    "from pathlib import Path\n",
    "import numpy as np\n",
    "import torch\n",
    "import socket\n",
    "import warnings\n",
    "warnings.filterwarnings('ignore')\n",
    "\n",
    "from kgl_humanprotein.utils.common_util import *"
   ]
  },
  {
   "cell_type": "code",
   "execution_count": null,
   "metadata": {},
   "outputs": [
    {
     "name": "stdout",
     "output_type": "stream",
     "text": [
      "run on collie.local\n"
     ]
    }
   ],
   "source": [
    "#export\n",
    "\n",
    "sk = socket.socket(socket.AF_INET, socket.SOCK_DGRAM)\n",
    "hostname = socket.gethostname()\n",
    "print('run on %s' % hostname)"
   ]
  },
  {
   "cell_type": "code",
   "execution_count": null,
   "metadata": {},
   "outputs": [],
   "source": [
    "#export\n",
    "\n",
    "DEVICE = torch.device('cuda' if torch.cuda.is_available() else 'cpu')"
   ]
  },
  {
   "cell_type": "code",
   "execution_count": null,
   "metadata": {},
   "outputs": [],
   "source": [
    "#export\n",
    "\n",
    "RESULT_DIR     = Path(\"../../kgl_humanprotein_data/result\")\n",
    "DATA_DIR       = Path(\"../../kgl_humanprotein_data/protein\")\n",
    "PRETRAINED_DIR = Path(\"../../kgl_humanprotein_data/pretrained\")\n",
    "TIF_DIR        = Path(\"/data2/data/protein\")\n",
    "EXTERNEL_DIR   = Path(\"/data/data/protein\")"
   ]
  },
  {
   "cell_type": "code",
   "execution_count": null,
   "metadata": {},
   "outputs": [],
   "source": [
    "#export\n",
    "\n",
    "PI  = np.pi\n",
    "INF = np.inf\n",
    "EPS = 1e-12"
   ]
  },
  {
   "cell_type": "code",
   "execution_count": null,
   "metadata": {},
   "outputs": [],
   "source": [
    "#export\n",
    "\n",
    "IMG_SIZE      = 512\n",
    "NUM_CLASSES   = 19\n",
    "ID            = 'Id'\n",
    "PREDICTED     = 'Predicted'\n",
    "TARGET        = 'Target'\n",
    "PARENTID      = 'ParentId'\n",
    "EXTERNAL      = 'External'\n",
    "ANTIBODY      = 'antibody'\n",
    "ANTIBODY_CODE = 'antibody_code'"
   ]
  },
  {
   "cell_type": "code",
   "execution_count": null,
   "metadata": {},
   "outputs": [],
   "source": [
    "#export\n",
    "LABEL_NAMES = {\n",
    "    0: 'Nucleoplasm',\n",
    "    1: 'Nuclear membrane',\n",
    "    2: 'Nucleoli',\n",
    "    3: 'Nucleoli fibrillar center',\n",
    "    4: 'Nuclear speckles',\n",
    "    5: 'Nuclear bodies',\n",
    "    6: 'Endoplasmic reticulum',\n",
    "    7: 'Golgi apparatus',\n",
    "    8: 'Intermediate filaments',\n",
    "    9: 'Actin filaments',\n",
    "    10: 'Microtubules',\n",
    "    11: 'Mitotic spindle',\n",
    "    12: 'Centrosome',\n",
    "    13: 'Plasma membrane',\n",
    "    14: 'Mitochondria',\n",
    "    15: 'Aggresome',\n",
    "    16: 'Cytosol',\n",
    "    17: 'Vesicles and punctate cytosolic patterns',\n",
    "    18: 'Negative'}\n",
    "\n",
    "LABEL_NAME_LIST = [LABEL_NAMES[idx] for idx in range(len(LABEL_NAMES))]"
   ]
  },
  {
   "cell_type": "code",
   "execution_count": null,
   "metadata": {},
   "outputs": [],
   "source": [
    "#export\n",
    "\n",
    "COLOR_INDEXS = {\n",
    "    'red': 0,\n",
    "    'green': 1,\n",
    "    'blue': 2,\n",
    "    'yellow': 0,\n",
    "}"
   ]
  },
  {
   "cell_type": "code",
   "execution_count": null,
   "metadata": {},
   "outputs": [],
   "source": []
  }
 ],
 "metadata": {
  "kernelspec": {
   "display_name": "Python 3",
   "language": "python",
   "name": "python3"
  }
 },
 "nbformat": 4,
 "nbformat_minor": 4
}
