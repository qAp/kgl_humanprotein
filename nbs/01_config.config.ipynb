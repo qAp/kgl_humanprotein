{
 "cells": [
  {
   "cell_type": "code",
   "execution_count": null,
   "metadata": {},
   "outputs": [],
   "source": [
    "# %load ../../../HPA-competition-solutions/bestfitting/src/config/config.py"
   ]
  },
  {
   "cell_type": "markdown",
   "metadata": {},
   "source": [
    "# Config"
   ]
  },
  {
   "cell_type": "code",
   "execution_count": null,
   "metadata": {},
   "outputs": [],
   "source": [
    "#default_exp config.config"
   ]
  },
  {
   "cell_type": "code",
   "execution_count": null,
   "metadata": {},
   "outputs": [],
   "source": [
    "#export\n",
    "\n",
    "import os\n",
    "ope = os.path.exists\n",
    "import numpy as np\n",
    "import torch\n",
    "import socket\n",
    "import warnings\n",
    "warnings.filterwarnings('ignore')\n",
    "\n",
    "sk = socket.socket(socket.AF_INET, socket.SOCK_DGRAM)\n",
    "hostname = socket.gethostname()\n",
    "print('run on %s' % hostname)\n",
    "\n",
    "DEVICE = torch.device('cuda' if torch.cuda.is_available() else 'cpu')\n",
    "\n",
    "RESULT_DIR     = \"../../kgl_humanprotein_data/result\"\n",
    "DATA_DIR       = \"../../kgl_humanprotein_data/protein\"\n",
    "PRETRAINED_DIR = \"../../kgl_humanprotein_data/pretrained\"\n",
    "TIF_DIR        = \"/data2/data/protein\"\n",
    "EXTERNEL_DIR   = \"/data/data/protein\"\n",
    "\n",
    "PI  = np.pi\n",
    "INF = np.inf\n",
    "EPS = 1e-12\n",
    "\n",
    "IMG_SIZE      = 512\n",
    "NUM_CLASSES   = 28\n",
    "ID            = 'Id'\n",
    "PREDICTED     = 'Predicted'\n",
    "TARGET        = 'Target'\n",
    "PARENTID      = 'ParentId'\n",
    "EXTERNAL      = 'External'\n",
    "ANTIBODY      = 'antibody'\n",
    "ANTIBODY_CODE = 'antibody_code'\n",
    "\n",
    "LABEL_NAMES = {\n",
    "    0:  \"Nucleoplasm\",\n",
    "    1:  \"Nuclear membrane\",\n",
    "    2:  \"Nucleoli\",\n",
    "    3:  \"Nucleoli fibrillar center\",\n",
    "    4:  \"Nuclear speckles\",\n",
    "    5:  \"Nuclear bodies\",\n",
    "    6:  \"Endoplasmic reticulum\",\n",
    "    7:  \"Golgi apparatus\",\n",
    "    8:  \"Peroxisomes\",\n",
    "    9:  \"Endosomes\",\n",
    "    10:  \"Lysosomes\",\n",
    "    11:  \"Intermediate filaments\",\n",
    "    12:  \"Actin filaments\",\n",
    "    13:  \"Focal adhesion sites\",\n",
    "    14:  \"Microtubules\",\n",
    "    15:  \"Microtubule ends\",\n",
    "    16:  \"Cytokinetic bridge\",\n",
    "    17:  \"Mitotic spindle\",\n",
    "    18:  \"Microtubule organizing center\",\n",
    "    19:  \"Centrosome\",\n",
    "    20:  \"Lipid droplets\",\n",
    "    21:  \"Plasma membrane\",\n",
    "    22:  \"Cell junctions\",\n",
    "    23:  \"Mitochondria\",\n",
    "    24:  \"Aggresome\",\n",
    "    25:  \"Cytosol\",\n",
    "    26:  \"Cytoplasmic bodies\",\n",
    "    27:  \"Rods & rings\"\n",
    "}\n",
    "LABEL_NAME_LIST = [LABEL_NAMES[idx] for idx in range(len(LABEL_NAMES))]\n",
    "\n",
    "COLOR_INDEXS = {\n",
    "    'red': 0,\n",
    "    'green': 1,\n",
    "    'blue': 2,\n",
    "    'yellow': 0,\n",
    "}"
   ]
  },
  {
   "cell_type": "code",
   "execution_count": null,
   "metadata": {},
   "outputs": [],
   "source": []
  }
 ],
 "metadata": {
  "kernelspec": {
   "display_name": "Python 3",
   "language": "python",
   "name": "python3"
  }
 },
 "nbformat": 4,
 "nbformat_minor": 4
}
