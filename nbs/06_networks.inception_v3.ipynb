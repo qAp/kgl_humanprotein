{
 "cells": [
  {
   "cell_type": "markdown",
   "metadata": {},
   "source": [
    "# `networks.inception_v3`"
   ]
  },
  {
   "cell_type": "code",
   "execution_count": 3,
   "metadata": {},
   "outputs": [],
   "source": [
    "%reload_ext autoreload\n",
    "%autoreload 2"
   ]
  },
  {
   "cell_type": "code",
   "execution_count": 4,
   "metadata": {},
   "outputs": [],
   "source": [
    "# %load ../../HPA-competition-solutions/bestfitting/src/networks/inception_v3.py"
   ]
  },
  {
   "cell_type": "code",
   "execution_count": 5,
   "metadata": {},
   "outputs": [],
   "source": [
    "#default_exp networks.inception_v3"
   ]
  },
  {
   "cell_type": "code",
   "execution_count": 6,
   "metadata": {},
   "outputs": [],
   "source": [
    "#export\n",
    "\n",
    "import torch\n",
    "import torch.nn as nn\n",
    "import torch.nn.functional as F\n",
    "from kgl_humanprotein.layers.backbone.inception_v3 import *"
   ]
  },
  {
   "cell_type": "code",
   "execution_count": null,
   "metadata": {},
   "outputs": [],
   "source": [
    "#export\n",
    "\n",
    "class ClassInceptionV3(nn.Module):\n",
    "\n",
    "    def load_pretrain(self, pretrain_file):\n",
    "        print('loading pretrain...%s' % pretrain_file)\n",
    "        self.inception.load_state_dict(torch.load(pretrain_file, map_location=lambda storage, loc: storage))\n",
    "\n",
    "    def __init__(self, num_classes=28,\n",
    "                 in_channels=3,\n",
    "                 pretrained_file=None,\n",
    "                 dropout=False,):\n",
    "        super().__init__()\n",
    "        self.in_channels = in_channels\n",
    "        self.dropout = dropout\n",
    "\n",
    "        self.inception = inception_v3()\n",
    "        self.load_pretrain(pretrained_file)\n",
    "        if self.in_channels > 3:\n",
    "            # https://www.kaggle.com/iafoss/pretrained-resnet34-with-rgby-0-460-public-lb\n",
    "            w = self.inception.Conv2d_1a_3x3.conv.weight\n",
    "            self.inception.Conv2d_1a_3x3.conv = nn.Conv2d(4, 32, kernel_size=(3, 3), stride=(2, 2), bias=False)\n",
    "            self.inception.Conv2d_1a_3x3.conv.weight = torch.nn.Parameter(torch.cat((w, w[:, :1, :, :]), dim=1))\n",
    "\n",
    "        self.Conv2d_1a_3x3 = self.inception.Conv2d_1a_3x3\n",
    "        self.Conv2d_2a_3x3 = self.inception.Conv2d_2a_3x3\n",
    "        self.Conv2d_2b_3x3 = self.inception.Conv2d_2b_3x3\n",
    "        self.Conv2d_3b_1x1 = self.inception.Conv2d_3b_1x1\n",
    "        self.Conv2d_4a_3x3 = self.inception.Conv2d_4a_3x3\n",
    "        self.Mixed_5b = self.inception.Mixed_5b\n",
    "        self.Mixed_5c = self.inception.Mixed_5c\n",
    "        self.Mixed_5d = self.inception.Mixed_5d\n",
    "        self.Mixed_6a = self.inception.Mixed_6a\n",
    "        self.Mixed_6b = self.inception.Mixed_6b\n",
    "        self.Mixed_6c = self.inception.Mixed_6c\n",
    "        self.Mixed_6d = self.inception.Mixed_6d\n",
    "        self.Mixed_6e = self.inception.Mixed_6e\n",
    "        self.Mixed_7a = self.inception.Mixed_7a\n",
    "        self.Mixed_7b = self.inception.Mixed_7b\n",
    "        self.Mixed_7c = self.inception.Mixed_7c\n",
    "        self.avgpool = nn.AdaptiveAvgPool2d(1)\n",
    "        self.logit = nn.Linear(2048, num_classes)\n",
    "\n",
    "        # https://www.kaggle.com/iafoss/pretrained-resnet34-with-rgby-0-460-public-lb\n",
    "        if self.dropout:\n",
    "            self.bn1 = nn.BatchNorm1d(2048 * 2)\n",
    "            self.fc1 = nn.Linear(2048 * 2, 2048)\n",
    "            self.bn2 = nn.BatchNorm1d(2048)\n",
    "            self.relu = nn.ReLU(inplace=True)\n",
    "        self.extract_feature = False\n",
    "\n",
    "    def set_configs(self, extract_feature=False, **kwargs):\n",
    "        self.extract_feature = extract_feature\n",
    "\n",
    "    def forward(self, x):\n",
    "        mean = [0.074598, 0.050630, 0.050891, 0.076287]#rgby\n",
    "        std =  [0.122813, 0.085745, 0.129882, 0.119411]\n",
    "        for i in range(self.in_channels):\n",
    "            x[:,i,:,:] = (x[:,i,:,:] - mean[i]) / std[i]\n",
    "\n",
    "        x = self.Conv2d_1a_3x3(x)#;print(x.size())\n",
    "        x = self.Conv2d_2a_3x3(x)#;print(x.size())\n",
    "        x = self.Conv2d_2b_3x3(x)#;print(x.size())\n",
    "        x = F.max_pool2d(x, kernel_size=3, stride=2)\n",
    "        x = self.Conv2d_3b_1x1(x)\n",
    "        x = self.Conv2d_4a_3x3(x)\n",
    "        x = F.max_pool2d(x, kernel_size=3, stride=2)\n",
    "        x = self.Mixed_5b(x)\n",
    "        x = self.Mixed_5c(x)\n",
    "        x = self.Mixed_5d(x)\n",
    "        x = self.Mixed_6a(x)\n",
    "        x = self.Mixed_6b(x)\n",
    "        x = self.Mixed_6c(x)\n",
    "        x = self.Mixed_6d(x)\n",
    "        x = self.Mixed_6e(x)\n",
    "        x = self.Mixed_7a(x)\n",
    "        x = self.Mixed_7b(x)\n",
    "        x = self.Mixed_7c(x);#print(x.size())\n",
    "        if self.dropout:\n",
    "            x = torch.cat((nn.AdaptiveAvgPool2d(1)(x), nn.AdaptiveMaxPool2d(1)(x)), dim=1)\n",
    "            x = x.view(x.size(0), -1)\n",
    "            x = self.bn1(x)\n",
    "            x = F.dropout(x, p=0.5, training=self.training)\n",
    "            x = self.fc1(x)\n",
    "            x = self.relu(x)\n",
    "            x = self.bn2(x)\n",
    "            x = F.dropout(x, p=0.5, training=self.training)\n",
    "        else:\n",
    "            x = self.avgpool(x)\n",
    "        x_feats = x.view(x.size(0), -1)\n",
    "        x = self.logit(x_feats)\n",
    "        if self.extract_feature:\n",
    "            return x, x_feats\n",
    "        else:\n",
    "            return x\n",
    "\n",
    "def class_inceptionv3_dropout(**kwargs):\n",
    "    num_classes = kwargs['num_classes']\n",
    "    in_channels = kwargs['in_channels']\n",
    "    pretrained_file = kwargs['pretrained_file']\n",
    "    model = ClassInceptionV3(num_classes=num_classes,\n",
    "                             in_channels=in_channels, pretrained_file=pretrained_file, dropout=True)\n",
    "    return model"
   ]
  },
  {
   "cell_type": "code",
   "execution_count": null,
   "metadata": {},
   "outputs": [],
   "source": []
  }
 ],
 "metadata": {
  "kernelspec": {
   "display_name": "Python 3",
   "language": "python",
   "name": "python3"
  },
  "language_info": {
   "codemirror_mode": {
    "name": "ipython",
    "version": 3
   },
   "file_extension": ".py",
   "mimetype": "text/x-python",
   "name": "python",
   "nbconvert_exporter": "python",
   "pygments_lexer": "ipython3",
   "version": "3.7.7"
  },
  "toc": {
   "base_numbering": 1,
   "nav_menu": {},
   "number_sections": true,
   "sideBar": true,
   "skip_h1_title": false,
   "title_cell": "Table of Contents",
   "title_sidebar": "Contents",
   "toc_cell": false,
   "toc_position": {},
   "toc_section_display": true,
   "toc_window_display": false
  }
 },
 "nbformat": 4,
 "nbformat_minor": 4
}
