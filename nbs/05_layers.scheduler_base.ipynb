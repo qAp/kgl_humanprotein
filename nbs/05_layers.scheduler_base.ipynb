{
 "cells": [
  {
   "cell_type": "markdown",
   "metadata": {},
   "source": [
    "# `layers.scheduler_base`"
   ]
  },
  {
   "cell_type": "code",
   "execution_count": null,
   "metadata": {},
   "outputs": [],
   "source": [
    "#default_exp layers.scheduler_base"
   ]
  },
  {
   "cell_type": "code",
   "execution_count": null,
   "metadata": {},
   "outputs": [],
   "source": [
    "#export\n",
    "\n",
    "class SchedulerBase(object):\n",
    "    def __init__(self):\n",
    "        self._is_load_best_weight = True\n",
    "        self._is_load_best_optim = True\n",
    "        self._is_freeze_bn=False\n",
    "        self._is_adjust_lr = True\n",
    "        self._lr = 0.01\n",
    "        self._cur_optimizer = None\n",
    "\n",
    "    def schedule(self, net, epoch, epochs, **kwargs):\n",
    "        raise Exception('Did not implemented')\n",
    "\n",
    "    def step(self, net, epoch, epochs):\n",
    "        optimizer, lr = self.schedule(net, epoch, epochs)\n",
    "        for param_group in optimizer.param_groups:\n",
    "            param_group['lr'] = lr\n",
    "\n",
    "        lr_list = []\n",
    "        for param_group in optimizer.param_groups:\n",
    "            lr_list += [param_group['lr']]\n",
    "        return lr_list\n",
    "\n",
    "    def is_load_best_weight(self):\n",
    "        return self._is_load_best_weight\n",
    "\n",
    "    def is_load_best_optim(self):\n",
    "        return self._is_load_best_optim\n",
    "\n",
    "    def is_freeze_bn(self):\n",
    "        return self._is_freeze_bn\n",
    "\n",
    "    def reset(self):\n",
    "        self._is_load_best_weight = True\n",
    "        self._load_best_optim = True\n",
    "        self._is_freeze_bn = False\n",
    "\n",
    "    def is_adjust_lr(self):\n",
    "        return self._is_adjust_lr\n"
   ]
  },
  {
   "cell_type": "code",
   "execution_count": null,
   "metadata": {},
   "outputs": [],
   "source": []
  }
 ],
 "metadata": {
  "kernelspec": {
   "display_name": "Python 3",
   "language": "python",
   "name": "python3"
  }
 },
 "nbformat": 4,
 "nbformat_minor": 4
}
