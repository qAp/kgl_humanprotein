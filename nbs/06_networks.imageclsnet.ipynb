{
 "cells": [
  {
   "cell_type": "markdown",
   "metadata": {},
   "source": [
    "# `networks.imageclsnet`"
   ]
  },
  {
   "cell_type": "code",
   "execution_count": null,
   "metadata": {},
   "outputs": [],
   "source": [
    "%reload_ext autoreload\n",
    "%autoreload 2"
   ]
  },
  {
   "cell_type": "code",
   "execution_count": null,
   "metadata": {},
   "outputs": [],
   "source": [
    "# %load ../../HPA-competition-solutions/bestfitting/src/networks/imageclsnet.py"
   ]
  },
  {
   "cell_type": "code",
   "execution_count": null,
   "metadata": {},
   "outputs": [],
   "source": [
    "#default_exp networks.imageclsnet"
   ]
  },
  {
   "cell_type": "code",
   "execution_count": null,
   "metadata": {},
   "outputs": [
    {
     "name": "stdout",
     "output_type": "stream",
     "text": [
      "run on collie.local\n"
     ]
    }
   ],
   "source": [
    "#export\n",
    "from kgl_humanprotein.config.config import *\n",
    "from kgl_humanprotein.utils.common_util import *\n",
    "from kgl_humanprotein.networks.densenet import class_densenet121_dropout, class_densenet121_large_dropout\n",
    "from kgl_humanprotein.networks.inception_v3 import class_inceptionv3_dropout\n",
    "from kgl_humanprotein.networks.resnet import class_resnet34_dropout, class_resnet18_dropout"
   ]
  },
  {
   "cell_type": "code",
   "execution_count": null,
   "metadata": {},
   "outputs": [],
   "source": [
    "#export\n",
    "\n",
    "model_names = {\n",
    "    'class_densenet121_dropout': 'densenet121-a639ec97.pth',\n",
    "    'class_densenet121_large_dropout': 'densenet121-a639ec97.pth',\n",
    "    'class_inceptionv3_dropout': 'inception_v3_google-1a9a5a14.pth',\n",
    "    'class_resnet34_dropout': 'resnet34-333f7ec4.pth',\n",
    "    'class_resnet18_dropout': 'resnet18-5c106cde.pth',\n",
    "}\n",
    "\n",
    "def init_network(params):\n",
    "    architecture = params.get('architecture', 'class_densenet121_dropout')\n",
    "    num_classes = params.get('num_classes', 28)\n",
    "    in_channels = params.get('in_channels', 4)\n",
    "\n",
    "    pretrained_file = opj(PRETRAINED_DIR, model_names[architecture])\n",
    "    print(\">> Using pre-trained model.\")\n",
    "    net = eval(architecture)(num_classes=num_classes, in_channels=in_channels, pretrained_file=pretrained_file)\n",
    "    return net"
   ]
  },
  {
   "cell_type": "code",
   "execution_count": null,
   "metadata": {},
   "outputs": [],
   "source": []
  }
 ],
 "metadata": {
  "kernelspec": {
   "display_name": "Python 3",
   "language": "python",
   "name": "python3"
  }
 },
 "nbformat": 4,
 "nbformat_minor": 4
}
