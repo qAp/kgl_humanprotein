{
 "cells": [
  {
   "cell_type": "markdown",
   "metadata": {},
   "source": [
    "# `layers.hard_example`"
   ]
  },
  {
   "cell_type": "code",
   "execution_count": null,
   "metadata": {},
   "outputs": [],
   "source": [
    "# %load ../../HPA-competition-solutions/bestfitting/src/layers/hard_example.py"
   ]
  },
  {
   "cell_type": "code",
   "execution_count": null,
   "metadata": {},
   "outputs": [],
   "source": [
    "#default_exp layers.hard_example"
   ]
  },
  {
   "cell_type": "code",
   "execution_count": null,
   "metadata": {},
   "outputs": [],
   "source": [
    "import torch\n",
    "\n",
    "def hard_mining(neg_output, neg_labels, num_hard):\n",
    "    _, idcs = torch.topk(neg_output, min(num_hard, len(neg_output)))\n",
    "    neg_output = torch.index_select(neg_output, 0, idcs)\n",
    "    neg_labels = torch.index_select(neg_labels, 0, idcs)\n",
    "    return neg_output, neg_labels\n",
    "\n",
    "def get_hard_samples(logits,labels,neg_more=2,neg_least_ratio=0.5,neg_max_ratio=0.7):\n",
    "    logits = logits.view(-1)\n",
    "    labels = labels.view(-1)\n",
    "\n",
    "    pos_idcs = labels > 0\n",
    "    pos_output = logits[pos_idcs]\n",
    "    pos_labels = labels[pos_idcs]\n",
    "\n",
    "    neg_idcs = labels <= 0\n",
    "    neg_output = logits[neg_idcs]\n",
    "    neg_labels = labels[neg_idcs]\n",
    "\n",
    "    neg_at_least=max(neg_more,int(neg_least_ratio * neg_output.size(0)))\n",
    "    hard_num = min(neg_output.size(0),pos_output.size(0) + neg_at_least, int(neg_max_ratio * neg_output.size(0)) + neg_more)\n",
    "    if hard_num > 0:\n",
    "        neg_output, neg_labels = hard_mining(neg_output, neg_labels, hard_num)\n",
    "\n",
    "    logits=torch.cat([pos_output,neg_output])\n",
    "    labels = torch.cat([pos_labels, neg_labels])\n",
    "\n",
    "\n",
    "    return logits,labels"
   ]
  },
  {
   "cell_type": "code",
   "execution_count": null,
   "metadata": {},
   "outputs": [],
   "source": []
  }
 ],
 "metadata": {
  "kernelspec": {
   "display_name": "Python 3",
   "language": "python",
   "name": "python3"
  },
  "language_info": {
   "codemirror_mode": {
    "name": "ipython",
    "version": 3
   },
   "file_extension": ".py",
   "mimetype": "text/x-python",
   "name": "python",
   "nbconvert_exporter": "python",
   "pygments_lexer": "ipython3",
   "version": "3.7.7"
  },
  "toc": {
   "base_numbering": 1,
   "nav_menu": {},
   "number_sections": true,
   "sideBar": true,
   "skip_h1_title": false,
   "title_cell": "Table of Contents",
   "title_sidebar": "Contents",
   "toc_cell": false,
   "toc_position": {},
   "toc_section_display": true,
   "toc_window_display": false
  }
 },
 "nbformat": 4,
 "nbformat_minor": 4
}
