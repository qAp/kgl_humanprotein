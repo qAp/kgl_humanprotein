{
 "cells": [
  {
   "cell_type": "markdown",
   "metadata": {},
   "source": [
    "# Notes"
   ]
  },
  {
   "cell_type": "markdown",
   "metadata": {},
   "source": [
    "## Quick links\n",
    "- https://www.kaggle.com/c/hpa-single-cell-image-classification\n",
    "- https://github.com/CellProfiling/HPA-competition-solutions/tree/master/bestfitting"
   ]
  },
  {
   "cell_type": "markdown",
   "metadata": {},
   "source": [
    "## TODOs"
   ]
  },
  {
   "cell_type": "markdown",
   "metadata": {},
   "source": [
    "1. `nbdev` on Kaggle?\n",
    "2. Public HPAv18 for class imbalance.\n",
    "3. Pre-trained models.\n",
    "4. Get its7171's training notebook to run on CPU.\n",
    "5. Parse `data_root` at execution time."
   ]
  },
  {
   "cell_type": "markdown",
   "metadata": {},
   "source": [
    "## Workflow"
   ]
  },
  {
   "cell_type": "markdown",
   "metadata": {},
   "source": [
    "Inference:\n",
    "\n",
    "1. Use HPA's Cell Segmenter to segment cells from image.\n",
    "2. Identify those cells that have proteins of interest.\n",
    "3. Crop out these cells.\n",
    "4. Classify these cells' protein(s) of interest with a CNN."
   ]
  },
  {
   "cell_type": "markdown",
   "metadata": {},
   "source": [
    "## Related reading"
   ]
  },
  {
   "cell_type": "markdown",
   "metadata": {},
   "source": [
    "### mAP"
   ]
  },
  {
   "cell_type": "markdown",
   "metadata": {},
   "source": [
    "- https://www.kaggle.com/its7171/map-understanding-with-code-and-its-tips"
   ]
  },
  {
   "cell_type": "markdown",
   "metadata": {
    "heading_collapsed": true
   },
   "source": [
    "### Last challenge's paper"
   ]
  },
  {
   "cell_type": "markdown",
   "metadata": {
    "hidden": true
   },
   "source": [
    "[Analysis of the Human Protein Atlas Image Classification competition](https://www.nature.com/articles/s41592-019-0658-6.epdf?no_publisher_access=1&r3_referer=nature)"
   ]
  },
  {
   "cell_type": "markdown",
   "metadata": {
    "heading_collapsed": true
   },
   "source": [
    "### ArcFace paper"
   ]
  },
  {
   "cell_type": "markdown",
   "metadata": {
    "hidden": true
   },
   "source": [
    "https://arxiv.org/pdf/1801.07698v1.pdf"
   ]
  },
  {
   "cell_type": "markdown",
   "metadata": {
    "hidden": true
   },
   "source": [
    "Types of loss functions:\n",
    "1. **Euclidean margin-based loss**  \n",
    "  Examples: Centre Loss, Range Loss, Marginal Loss, Constrastive Loss, and Triplet Loss.  \n",
    "  Disadvantage: when number of identities becomes large, the classification layer consumes large GPU memory.  \n",
    "2. **Angular and cosine margin-based loss**  \n",
    "  Examples: multiplicative angular margin $cos(m\\theta)$ (SphereFace), additive cosine margin $cos(\\theta) - m$ (CosineFace), and additive angular margin $cos(\\theta + m)$ (ArcFace)."
   ]
  },
  {
   "cell_type": "code",
   "execution_count": null,
   "metadata": {
    "hidden": true
   },
   "outputs": [],
   "source": []
  }
 ],
 "metadata": {
  "kernelspec": {
   "display_name": "Python 3",
   "language": "python",
   "name": "python3"
  },
  "language_info": {
   "codemirror_mode": {
    "name": "ipython",
    "version": 3
   },
   "file_extension": ".py",
   "mimetype": "text/x-python",
   "name": "python",
   "nbconvert_exporter": "python",
   "pygments_lexer": "ipython3",
   "version": "3.7.7"
  },
  "toc": {
   "base_numbering": 1,
   "nav_menu": {},
   "number_sections": true,
   "sideBar": true,
   "skip_h1_title": false,
   "title_cell": "Table of Contents",
   "title_sidebar": "Contents",
   "toc_cell": false,
   "toc_position": {},
   "toc_section_display": true,
   "toc_window_display": false
  }
 },
 "nbformat": 4,
 "nbformat_minor": 4
}
