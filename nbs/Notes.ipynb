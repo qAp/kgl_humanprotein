{
 "cells": [
  {
   "cell_type": "markdown",
   "metadata": {},
   "source": [
    "# Notes"
   ]
  },
  {
   "cell_type": "markdown",
   "metadata": {},
   "source": [
    "## Quick links\n",
    "- https://www.kaggle.com/c/hpa-single-cell-image-classification\n",
    "- https://github.com/CellProfiling/HPA-competition-solutions/tree/master/bestfitting"
   ]
  },
  {
   "cell_type": "markdown",
   "metadata": {},
   "source": [
    "## TODOs"
   ]
  },
  {
   "cell_type": "markdown",
   "metadata": {},
   "source": [
    "\n",
    "* Public HPAv18 for class imbalance.\n",
    "* Cells cut off at the edges."
   ]
  },
  {
   "cell_type": "markdown",
   "metadata": {},
   "source": [
    "## Workflow"
   ]
  },
  {
   "cell_type": "markdown",
   "metadata": {},
   "source": [
    "Inference:\n",
    "\n",
    "1. Use HPA's Cell Segmenter to segment cells from image.\n",
    "2. Identify those cells that have proteins of interest.\n",
    "3. Crop out these cells.\n",
    "4. Classify these cells' protein(s) of interest with a CNN."
   ]
  },
  {
   "cell_type": "markdown",
   "metadata": {},
   "source": [
    "## Related reading"
   ]
  },
  {
   "cell_type": "markdown",
   "metadata": {},
   "source": [
    "### mAP"
   ]
  },
  {
   "cell_type": "markdown",
   "metadata": {},
   "source": [
    "- https://www.kaggle.com/its7171/map-understanding-with-code-and-its-tips"
   ]
  },
  {
   "cell_type": "markdown",
   "metadata": {},
   "source": [
    "### Last challenge's paper"
   ]
  },
  {
   "cell_type": "markdown",
   "metadata": {},
   "source": [
    "[Analysis of the Human Protein Atlas Image Classification competition](https://www.nature.com/articles/s41592-019-0658-6.epdf?no_publisher_access=1&r3_referer=nature)"
   ]
  },
  {
   "cell_type": "markdown",
   "metadata": {},
   "source": [
    "### ArcFace paper"
   ]
  },
  {
   "cell_type": "markdown",
   "metadata": {},
   "source": [
    "https://arxiv.org/pdf/1801.07698v1.pdf"
   ]
  },
  {
   "cell_type": "markdown",
   "metadata": {},
   "source": [
    "Types of loss functions:\n",
    "1. **Euclidean margin-based loss**  \n",
    "  Examples: Centre Loss, Range Loss, Marginal Loss, Constrastive Loss, and Triplet Loss.  \n",
    "  Disadvantage: when number of identities becomes large, the classification layer consumes large GPU memory.  \n",
    "2. **Angular and cosine margin-based loss**  \n",
    "  Examples: multiplicative angular margin $cos(m\\theta)$ (SphereFace), additive cosine margin $cos(\\theta) - m$ (CosineFace), and additive angular margin $cos(\\theta + m)$ (ArcFace)."
   ]
  },
  {
   "cell_type": "code",
   "execution_count": null,
   "metadata": {},
   "outputs": [],
   "source": []
  }
 ],
 "metadata": {
  "kernelspec": {
   "display_name": "Python 3",
   "language": "python",
   "name": "python3"
  }
 },
 "nbformat": 4,
 "nbformat_minor": 4
}
