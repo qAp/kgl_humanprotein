{
 "cells": [
  {
   "cell_type": "markdown",
   "metadata": {
    "papermill": {
     "duration": 0.01991,
     "end_time": "2021-04-18T07:11:13.084661",
     "exception": false,
     "start_time": "2021-04-18T07:11:13.064751",
     "status": "completed"
    },
    "tags": []
   },
   "source": [
    "# Classifier Training"
   ]
  },
  {
   "cell_type": "markdown",
   "metadata": {
    "papermill": {
     "duration": 0.017974,
     "end_time": "2021-04-18T07:11:13.120518",
     "exception": false,
     "start_time": "2021-04-18T07:11:13.102544",
     "status": "completed"
    },
    "tags": []
   },
   "source": [
    "Make image size and crop size the same."
   ]
  },
  {
   "cell_type": "code",
   "execution_count": 1,
   "metadata": {
    "_kg_hide-output": true,
    "execution": {
     "iopub.execute_input": "2021-04-18T07:11:13.175942Z",
     "iopub.status.busy": "2021-04-18T07:11:13.170758Z",
     "iopub.status.idle": "2021-04-18T07:13:46.265116Z",
     "shell.execute_reply": "2021-04-18T07:13:46.265946Z"
    },
    "papermill": {
     "duration": 153.127844,
     "end_time": "2021-04-18T07:13:46.266460",
     "exception": false,
     "start_time": "2021-04-18T07:11:13.138616",
     "status": "completed"
    },
    "tags": []
   },
   "outputs": [
    {
     "name": "stdout",
     "output_type": "stream",
     "text": [
      "Processing /kaggle/input/mmdetection-v280/src/mmpycocotools-12.0.3/mmpycocotools-12.0.3\r\n",
      "Requirement already satisfied: setuptools>=18.0 in /opt/conda/lib/python3.7/site-packages (from mmpycocotools==12.0.3) (49.6.0.post20201009)\r\n",
      "Requirement already satisfied: cython>=0.27.3 in /opt/conda/lib/python3.7/site-packages (from mmpycocotools==12.0.3) (0.29.21)\r\n",
      "Requirement already satisfied: matplotlib>=2.1.0 in /opt/conda/lib/python3.7/site-packages (from mmpycocotools==12.0.3) (3.3.3)\r\n",
      "Requirement already satisfied: kiwisolver>=1.0.1 in /opt/conda/lib/python3.7/site-packages (from matplotlib>=2.1.0->mmpycocotools==12.0.3) (1.3.1)\r\n",
      "Requirement already satisfied: pillow>=6.2.0 in /opt/conda/lib/python3.7/site-packages (from matplotlib>=2.1.0->mmpycocotools==12.0.3) (7.2.0)\r\n",
      "Requirement already satisfied: cycler>=0.10 in /opt/conda/lib/python3.7/site-packages (from matplotlib>=2.1.0->mmpycocotools==12.0.3) (0.10.0)\r\n",
      "Requirement already satisfied: python-dateutil>=2.1 in /opt/conda/lib/python3.7/site-packages (from matplotlib>=2.1.0->mmpycocotools==12.0.3) (2.8.1)\r\n",
      "Requirement already satisfied: pyparsing!=2.0.4,!=2.1.2,!=2.1.6,>=2.0.3 in /opt/conda/lib/python3.7/site-packages (from matplotlib>=2.1.0->mmpycocotools==12.0.3) (2.4.7)\r\n",
      "Requirement already satisfied: numpy>=1.15 in /opt/conda/lib/python3.7/site-packages (from matplotlib>=2.1.0->mmpycocotools==12.0.3) (1.19.5)\r\n",
      "Requirement already satisfied: six in /opt/conda/lib/python3.7/site-packages (from cycler>=0.10->matplotlib>=2.1.0->mmpycocotools==12.0.3) (1.15.0)\r\n",
      "Building wheels for collected packages: mmpycocotools\r\n",
      "  Building wheel for mmpycocotools (setup.py) ... \u001b[?25l-\b \b\\\b \b|\b \b/\b \b-\b \b\\\b \b|\b \b/\b \b-\b \b\\\b \bdone\r\n",
      "\u001b[?25h  Created wheel for mmpycocotools: filename=mmpycocotools-12.0.3-cp37-cp37m-linux_x86_64.whl size=272915 sha256=21c802f514d5c4968fc959af7f5dda7204a64111a6d78ae9fdfb0787dc48bf21\r\n",
      "  Stored in directory: /root/.cache/pip/wheels/80/e0/da/3288fdf3965b5c9090f368462db9d28be2c82013f51821090a\r\n",
      "Successfully built mmpycocotools\r\n",
      "Installing collected packages: mmpycocotools\r\n",
      "Successfully installed mmpycocotools-12.0.3\r\n",
      "Processing /kaggle/input/hpapytorchzoo/pytorch_zoo-master\r\n",
      "Building wheels for collected packages: pytorch-zoo\r\n",
      "  Building wheel for pytorch-zoo (setup.py) ... \u001b[?25l-\b \b\\\b \bdone\r\n",
      "\u001b[?25h  Created wheel for pytorch-zoo: filename=pytorch_zoo-0.0.0-py3-none-any.whl size=30139 sha256=569f1c4d21b90403367fe780a0f7a4235526fecd6f1ca0b195293135627d6f19\r\n",
      "  Stored in directory: /root/.cache/pip/wheels/7f/18/21/aff5a8914e22461b2b025a9629c2b70464c36183caaf12bc09\r\n",
      "Successfully built pytorch-zoo\r\n",
      "Installing collected packages: pytorch-zoo\r\n",
      "Successfully installed pytorch-zoo-0.0.0\r\n",
      "Processing /kaggle/input/hpacellsegmentation/HPA-Cell-Segmentation\r\n",
      "Building wheels for collected packages: hpacellseg\r\n",
      "  Building wheel for hpacellseg (setup.py) ... \u001b[?25l-\b \b\\\b \bdone\r\n",
      "\u001b[?25h  Created wheel for hpacellseg: filename=hpacellseg-0.1.8-py3-none-any.whl size=14815 sha256=46f6c5187b355c1659f49219f0455a8daa980d34330451a50e3bdd2419e1a1d1\r\n",
      "  Stored in directory: /root/.cache/pip/wheels/50/41/15/9f15b23726cf96bdbc26670ce1c7526c719d4bce49418c1a20\r\n",
      "Successfully built hpacellseg\r\n",
      "Installing collected packages: hpacellseg\r\n",
      "Successfully installed hpacellseg-0.1.8\r\n",
      "Processing /kaggle/input/iterative-stratification/iterative-stratification-master\r\n",
      "Requirement already satisfied: numpy in /opt/conda/lib/python3.7/site-packages (from iterative-stratification==0.1.6) (1.19.5)\r\n",
      "Requirement already satisfied: scipy in /opt/conda/lib/python3.7/site-packages (from iterative-stratification==0.1.6) (1.5.4)\r\n",
      "Requirement already satisfied: scikit-learn in /opt/conda/lib/python3.7/site-packages (from iterative-stratification==0.1.6) (0.24.1)\r\n",
      "Requirement already satisfied: joblib>=0.11 in /opt/conda/lib/python3.7/site-packages (from scikit-learn->iterative-stratification==0.1.6) (1.0.0)\r\n",
      "Requirement already satisfied: threadpoolctl>=2.0.0 in /opt/conda/lib/python3.7/site-packages (from scikit-learn->iterative-stratification==0.1.6) (2.1.0)\r\n",
      "Building wheels for collected packages: iterative-stratification\r\n",
      "  Building wheel for iterative-stratification (setup.py) ... \u001b[?25l-\b \b\\\b \bdone\r\n",
      "\u001b[?25h  Created wheel for iterative-stratification: filename=iterative_stratification-0.1.6-py3-none-any.whl size=8401 sha256=cac582c2c75cf5ac446b5c08978230188ab060d814be4e035181904078e89cec\r\n",
      "  Stored in directory: /root/.cache/pip/wheels/b8/47/3f/eb4af42d124f37d23d6f13a4c8bbc32c1d70140e6e1cecb4aa\r\n",
      "Successfully built iterative-stratification\r\n",
      "Installing collected packages: iterative-stratification\r\n",
      "Successfully installed iterative-stratification-0.1.6\r\n"
     ]
    }
   ],
   "source": [
    "! rsync -a /kaggle/input/mmdetection-v280/mmdetection /\n",
    "! pip install /kaggle/input/mmdetection-v280/src/mmpycocotools-12.0.3/mmpycocotools-12.0.3/\n",
    "! pip install /kaggle/input/hpapytorchzoo/pytorch_zoo-master/\n",
    "! pip install /kaggle/input/hpacellsegmentation/HPA-Cell-Segmentation/\n",
    "! pip install /kaggle/input/iterative-stratification/iterative-stratification-master/\n",
    "\n",
    "! cp -r /kaggle/input/kgl-humanprotein-data/kgl_humanprotein_data /\n",
    "! cp -r /kaggle/input/humanpro/kgl_humanprotein /\n",
    "\n",
    "import sys\n",
    "sys.path.append('/kgl_humanprotein/')"
   ]
  },
  {
   "cell_type": "code",
   "execution_count": 2,
   "metadata": {
    "execution": {
     "iopub.execute_input": "2021-04-18T07:13:46.408696Z",
     "iopub.status.busy": "2021-04-18T07:13:46.407672Z",
     "iopub.status.idle": "2021-04-18T07:13:51.218110Z",
     "shell.execute_reply": "2021-04-18T07:13:51.216405Z"
    },
    "papermill": {
     "duration": 4.880918,
     "end_time": "2021-04-18T07:13:51.218387",
     "exception": false,
     "start_time": "2021-04-18T07:13:46.337469",
     "status": "completed"
    },
    "tags": []
   },
   "outputs": [
    {
     "name": "stdout",
     "output_type": "stream",
     "text": [
      "run on 52b0d1eadd16\n"
     ]
    }
   ],
   "source": [
    "import os\n",
    "import time\n",
    "from pathlib import Path\n",
    "import shutil\n",
    "import zipfile\n",
    "import functools\n",
    "import multiprocessing\n",
    "import numpy as np\n",
    "import pandas as pd\n",
    "import cv2\n",
    "from sklearn.model_selection import KFold,StratifiedKFold\n",
    "from iterstrat.ml_stratifiers import MultilabelStratifiedKFold\n",
    "import torch\n",
    "from torch.backends import cudnn\n",
    "from torch.utils.data import Dataset, DataLoader, RandomSampler, SequentialSampler\n",
    "from torch.nn import DataParallel\n",
    "import matplotlib.pyplot as plt\n",
    "from tqdm import tqdm\n",
    "\n",
    "from kgl_humanprotein.utils.common_util import *\n",
    "from kgl_humanprotein.config.config import *\n",
    "from kgl_humanprotein.data_process import *\n",
    "from kgl_humanprotein.datasets.tool import image_to_tensor\n",
    "from kgl_humanprotein.networks.imageclsnet import init_network\n",
    "from kgl_humanprotein.layers.loss import *\n",
    "from kgl_humanprotein.layers.scheduler import *\n",
    "from kgl_humanprotein.utils.augment_util import train_multi_augment2\n",
    "from kgl_humanprotein.utils.log_util import Logger\n",
    "from kgl_humanprotein.run.train import *"
   ]
  },
  {
   "cell_type": "code",
   "execution_count": 3,
   "metadata": {
    "execution": {
     "iopub.execute_input": "2021-04-18T07:13:51.380983Z",
     "iopub.status.busy": "2021-04-18T07:13:51.377514Z",
     "iopub.status.idle": "2021-04-18T07:13:51.386075Z",
     "shell.execute_reply": "2021-04-18T07:13:51.387913Z"
    },
    "papermill": {
     "duration": 0.09244,
     "end_time": "2021-04-18T07:13:51.388282",
     "exception": false,
     "start_time": "2021-04-18T07:13:51.295842",
     "status": "completed"
    },
    "tags": []
   },
   "outputs": [
    {
     "name": "stdout",
     "output_type": "stream",
     "text": [
      "/kaggle\n"
     ]
    }
   ],
   "source": [
    "%cd /kaggle"
   ]
  },
  {
   "cell_type": "markdown",
   "metadata": {
    "papermill": {
     "duration": 0.067737,
     "end_time": "2021-04-18T07:13:51.540154",
     "exception": false,
     "start_time": "2021-04-18T07:13:51.472417",
     "status": "completed"
    },
    "tags": []
   },
   "source": [
    "## Write out 6 image-level samples from each subset for testing on laptop"
   ]
  },
  {
   "cell_type": "code",
   "execution_count": 4,
   "metadata": {
    "execution": {
     "iopub.execute_input": "2021-04-18T07:13:51.674752Z",
     "iopub.status.busy": "2021-04-18T07:13:51.673654Z",
     "iopub.status.idle": "2021-04-18T07:13:51.676499Z",
     "shell.execute_reply": "2021-04-18T07:13:51.677371Z"
    },
    "papermill": {
     "duration": 0.07276,
     "end_time": "2021-04-18T07:13:51.677602",
     "exception": false,
     "start_time": "2021-04-18T07:13:51.604842",
     "status": "completed"
    },
    "tags": []
   },
   "outputs": [],
   "source": [
    "# import shutil"
   ]
  },
  {
   "cell_type": "code",
   "execution_count": 5,
   "metadata": {
    "execution": {
     "iopub.execute_input": "2021-04-18T07:13:51.807810Z",
     "iopub.status.busy": "2021-04-18T07:13:51.806638Z",
     "iopub.status.idle": "2021-04-18T07:13:51.808876Z",
     "shell.execute_reply": "2021-04-18T07:13:51.810552Z"
    },
    "papermill": {
     "duration": 0.071094,
     "end_time": "2021-04-18T07:13:51.810826",
     "exception": false,
     "start_time": "2021-04-18T07:13:51.739732",
     "status": "completed"
    },
    "tags": []
   },
   "outputs": [],
   "source": [
    "# def generate_testing_samples(isubset, n_images=6, sz_img=384, dir_out=None):\n",
    "#     dir_subset = Path(f'/kaggle/input/humanpro-train-cells-subset{isubset}')\n",
    "#     dir_subset = dir_subset / f'humanpro_train_cells_subset{isubset}/train'\n",
    "    \n",
    "#     df = pd.read_feather(dir_subset / 'train.feather')\n",
    "#     imgids = df['Id'].apply(lambda o: o.split('_')[0])\n",
    "#     sample_imgids = np.random.choice(imgids.unique(), n_images)\n",
    "#     df_sample = df[imgids.isin(sample_imgids)].reset_index(drop=True)\n",
    "    \n",
    "#     if dir_out is not None:\n",
    "#         dir_subset_out = dir_out/'train'\n",
    "#         dir_subset_out.mkdir(exist_ok=True, parents=True)\n",
    "#         df_sample.to_feather(dir_subset_out/'train.feather')\n",
    "        \n",
    "#         dir_img = dir_subset/f'images_{sz_img}'\n",
    "#         dir_img_out = dir_subset_out/f'images_{sz_img}'\n",
    "#         dir_img_out.mkdir(exist_ok=True, parents=True)\n",
    "#         for _, row in df_sample.iterrows():\n",
    "#             srcs = list(dir_img.glob(f\"{row['Id']}*.png\"))\n",
    "#             for src in srcs:\n",
    "#                 shutil.copy(src, dir_img_out/src.name)\n",
    "                \n",
    "#     return df_sample"
   ]
  },
  {
   "cell_type": "code",
   "execution_count": 6,
   "metadata": {
    "execution": {
     "iopub.execute_input": "2021-04-18T07:13:51.909519Z",
     "iopub.status.busy": "2021-04-18T07:13:51.907137Z",
     "iopub.status.idle": "2021-04-18T07:13:51.910262Z",
     "shell.execute_reply": "2021-04-18T07:13:51.910780Z"
    },
    "papermill": {
     "duration": 0.040729,
     "end_time": "2021-04-18T07:13:51.910942",
     "exception": false,
     "start_time": "2021-04-18T07:13:51.870213",
     "status": "completed"
    },
    "tags": []
   },
   "outputs": [],
   "source": [
    "# n_subsets = 5\n",
    "\n",
    "# for isubset in range(n_subsets):\n",
    "#     print(f'\\rProcessing subset {isubset}...', end='', flush=True)\n",
    "#     dir_out = Path(f'/kaggle/working/humanpro_train_cells_subset{isubset}')\n",
    "#     generate_testing_samples(isubset, dir_out=dir_out)"
   ]
  },
  {
   "cell_type": "code",
   "execution_count": 7,
   "metadata": {
    "execution": {
     "iopub.execute_input": "2021-04-18T07:13:51.980505Z",
     "iopub.status.busy": "2021-04-18T07:13:51.979690Z",
     "iopub.status.idle": "2021-04-18T07:13:51.984345Z",
     "shell.execute_reply": "2021-04-18T07:13:51.983769Z"
    },
    "papermill": {
     "duration": 0.041056,
     "end_time": "2021-04-18T07:13:51.984469",
     "exception": false,
     "start_time": "2021-04-18T07:13:51.943413",
     "status": "completed"
    },
    "tags": []
   },
   "outputs": [],
   "source": [
    "# ! zip -qr humanpro_train_cells_subset0.zip humanpro_train_cells_subset0/\n",
    "# ! zip -qr humanpro_train_cells_subset1.zip humanpro_train_cells_subset1/\n",
    "# ! zip -qr humanpro_train_cells_subset2.zip humanpro_train_cells_subset2/\n",
    "# ! zip -qr humanpro_train_cells_subset3.zip humanpro_train_cells_subset3/\n",
    "# ! zip -qr humanpro_train_cells_subset4.zip humanpro_train_cells_subset4/"
   ]
  },
  {
   "cell_type": "markdown",
   "metadata": {
    "papermill": {
     "duration": 0.033006,
     "end_time": "2021-04-18T07:13:52.050743",
     "exception": false,
     "start_time": "2021-04-18T07:13:52.017737",
     "status": "completed"
    },
    "tags": []
   },
   "source": [
    "## Combine subsets' meta data"
   ]
  },
  {
   "cell_type": "code",
   "execution_count": 8,
   "metadata": {
    "execution": {
     "iopub.execute_input": "2021-04-18T07:13:52.121700Z",
     "iopub.status.busy": "2021-04-18T07:13:52.121038Z",
     "iopub.status.idle": "2021-04-18T07:13:52.126439Z",
     "shell.execute_reply": "2021-04-18T07:13:52.125893Z"
    },
    "papermill": {
     "duration": 0.042852,
     "end_time": "2021-04-18T07:13:52.126611",
     "exception": false,
     "start_time": "2021-04-18T07:13:52.083759",
     "status": "completed"
    },
    "tags": []
   },
   "outputs": [],
   "source": [
    "dir_data = Path('/kaggle/input')\n",
    "dir_mdata = Path('/kaggle/mdata')\n",
    "n_subsets = 5\n",
    "# sz_img = 384"
   ]
  },
  {
   "cell_type": "code",
   "execution_count": 9,
   "metadata": {
    "execution": {
     "iopub.execute_input": "2021-04-18T07:13:52.200109Z",
     "iopub.status.busy": "2021-04-18T07:13:52.199089Z",
     "iopub.status.idle": "2021-04-18T07:14:00.474057Z",
     "shell.execute_reply": "2021-04-18T07:14:00.474983Z"
    },
    "papermill": {
     "duration": 8.315135,
     "end_time": "2021-04-18T07:14:00.475273",
     "exception": false,
     "start_time": "2021-04-18T07:13:52.160138",
     "status": "completed"
    },
    "tags": []
   },
   "outputs": [
    {
     "name": "stdout",
     "output_type": "stream",
     "text": [
      "Processing subset 4...CPU times: user 1.83 s, sys: 1.09 s, total: 2.92 s\n",
      "Wall time: 8.27 s\n"
     ]
    }
   ],
   "source": [
    "%%time\n",
    "df_cells = combine_subsets_metadata(dir_data, n_subsets)"
   ]
  },
  {
   "cell_type": "code",
   "execution_count": 10,
   "metadata": {
    "execution": {
     "iopub.execute_input": "2021-04-18T07:14:00.553275Z",
     "iopub.status.busy": "2021-04-18T07:14:00.552390Z",
     "iopub.status.idle": "2021-04-18T07:14:04.764026Z",
     "shell.execute_reply": "2021-04-18T07:14:04.765461Z"
    },
    "papermill": {
     "duration": 4.254327,
     "end_time": "2021-04-18T07:14:04.765784",
     "exception": false,
     "start_time": "2021-04-18T07:14:00.511457",
     "status": "completed"
    },
    "tags": []
   },
   "outputs": [],
   "source": [
    "dir_mdata_raw = dir_mdata/'raw'\n",
    "dir_mdata_raw.mkdir(exist_ok=True, parents=True)\n",
    "\n",
    "df_cells.to_feather(dir_mdata_raw/'train.feather')"
   ]
  },
  {
   "cell_type": "code",
   "execution_count": 11,
   "metadata": {
    "execution": {
     "iopub.execute_input": "2021-04-18T07:14:05.203656Z",
     "iopub.status.busy": "2021-04-18T07:14:05.202463Z",
     "iopub.status.idle": "2021-04-18T07:14:05.208969Z",
     "shell.execute_reply": "2021-04-18T07:14:05.210374Z"
    },
    "papermill": {
     "duration": 0.384471,
     "end_time": "2021-04-18T07:14:05.210688",
     "exception": false,
     "start_time": "2021-04-18T07:14:04.826217",
     "status": "completed"
    },
    "tags": []
   },
   "outputs": [],
   "source": [
    "del df_cells"
   ]
  },
  {
   "cell_type": "markdown",
   "metadata": {
    "papermill": {
     "duration": 0.037121,
     "end_time": "2021-04-18T07:14:05.306410",
     "exception": false,
     "start_time": "2021-04-18T07:14:05.269289",
     "status": "completed"
    },
    "tags": []
   },
   "source": [
    "## Filter samples"
   ]
  },
  {
   "cell_type": "code",
   "execution_count": 12,
   "metadata": {
    "execution": {
     "iopub.execute_input": "2021-04-18T07:14:05.389285Z",
     "iopub.status.busy": "2021-04-18T07:14:05.388561Z",
     "iopub.status.idle": "2021-04-18T07:14:08.256164Z",
     "shell.execute_reply": "2021-04-18T07:14:08.256778Z"
    },
    "papermill": {
     "duration": 2.912495,
     "end_time": "2021-04-18T07:14:08.256989",
     "exception": false,
     "start_time": "2021-04-18T07:14:05.344494",
     "status": "completed"
    },
    "tags": []
   },
   "outputs": [],
   "source": [
    "# Keep single labels\n",
    "df_cells = pd.read_feather(dir_mdata_raw/'train.feather')\n",
    "df_cells = (df_cells[df_cells['Target'].apply(lambda o: len(o.split('|'))==1)]\n",
    "            .reset_index(drop=True))"
   ]
  },
  {
   "cell_type": "code",
   "execution_count": 13,
   "metadata": {
    "execution": {
     "iopub.execute_input": "2021-04-18T07:14:08.332702Z",
     "iopub.status.busy": "2021-04-18T07:14:08.332049Z",
     "iopub.status.idle": "2021-04-18T07:14:08.337312Z",
     "shell.execute_reply": "2021-04-18T07:14:08.336758Z"
    },
    "papermill": {
     "duration": 0.046112,
     "end_time": "2021-04-18T07:14:08.337451",
     "exception": false,
     "start_time": "2021-04-18T07:14:08.291339",
     "status": "completed"
    },
    "tags": []
   },
   "outputs": [],
   "source": [
    "# Limit number of samples per label\n",
    "\n",
    "def cap_number_per_label(df_cells, cap=10_000, idx_start=0):\n",
    "    df_cells_cap = pd.DataFrame()\n",
    "    for label in df_cells.Target.unique():\n",
    "        df = df_cells[df_cells.Target==label]\n",
    "        if len(df) > cap:\n",
    "            df = df.iloc[idx_start:idx_start + cap]\n",
    "        df_cells_cap = df_cells_cap.append(df, ignore_index=True)\n",
    "    return df_cells_cap"
   ]
  },
  {
   "cell_type": "code",
   "execution_count": 14,
   "metadata": {
    "execution": {
     "iopub.execute_input": "2021-04-18T07:14:08.440318Z",
     "iopub.status.busy": "2021-04-18T07:14:08.439352Z",
     "iopub.status.idle": "2021-04-18T07:14:09.283967Z",
     "shell.execute_reply": "2021-04-18T07:14:09.283303Z"
    },
    "papermill": {
     "duration": 0.905939,
     "end_time": "2021-04-18T07:14:09.284127",
     "exception": false,
     "start_time": "2021-04-18T07:14:08.378188",
     "status": "completed"
    },
    "tags": []
   },
   "outputs": [],
   "source": [
    "df_cells = cap_number_per_label(df_cells, cap=10_000, idx_start=0) "
   ]
  },
  {
   "cell_type": "code",
   "execution_count": 15,
   "metadata": {
    "execution": {
     "iopub.execute_input": "2021-04-18T07:14:09.401159Z",
     "iopub.status.busy": "2021-04-18T07:14:09.398987Z",
     "iopub.status.idle": "2021-04-18T07:14:09.404856Z",
     "shell.execute_reply": "2021-04-18T07:14:09.404217Z"
    },
    "papermill": {
     "duration": 0.084103,
     "end_time": "2021-04-18T07:14:09.405000",
     "exception": false,
     "start_time": "2021-04-18T07:14:09.320897",
     "status": "completed"
    },
    "tags": []
   },
   "outputs": [
    {
     "data": {
      "text/plain": [
       "14    10000\n",
       "12    10000\n",
       "16    10000\n",
       "7     10000\n",
       "4     10000\n",
       "13    10000\n",
       "8     10000\n",
       "2     10000\n",
       "5     10000\n",
       "0     10000\n",
       "3     10000\n",
       "6     10000\n",
       "10     7789\n",
       "17     5619\n",
       "9      5322\n",
       "1      4845\n",
       "15     2275\n",
       "18      952\n",
       "11       10\n",
       "Name: Target, dtype: int64"
      ]
     },
     "execution_count": 15,
     "metadata": {},
     "output_type": "execute_result"
    }
   ],
   "source": [
    "df_cells.Target.value_counts()"
   ]
  },
  {
   "cell_type": "code",
   "execution_count": 16,
   "metadata": {
    "execution": {
     "iopub.execute_input": "2021-04-18T07:14:09.993789Z",
     "iopub.status.busy": "2021-04-18T07:14:09.983285Z",
     "iopub.status.idle": "2021-04-18T07:14:10.900185Z",
     "shell.execute_reply": "2021-04-18T07:14:10.898676Z"
    },
    "papermill": {
     "duration": 1.458436,
     "end_time": "2021-04-18T07:14:10.900330",
     "exception": false,
     "start_time": "2021-04-18T07:14:09.441894",
     "status": "completed"
    },
    "tags": []
   },
   "outputs": [],
   "source": [
    "df_cells.to_feather(dir_mdata_raw/'train.feather')"
   ]
  },
  {
   "cell_type": "markdown",
   "metadata": {
    "papermill": {
     "duration": 0.046143,
     "end_time": "2021-04-18T07:14:10.982919",
     "exception": false,
     "start_time": "2021-04-18T07:14:10.936776",
     "status": "completed"
    },
    "tags": []
   },
   "source": [
    "## One-hot encode labels"
   ]
  },
  {
   "cell_type": "code",
   "execution_count": 17,
   "metadata": {
    "execution": {
     "iopub.execute_input": "2021-04-18T07:14:11.064760Z",
     "iopub.status.busy": "2021-04-18T07:14:11.063524Z",
     "iopub.status.idle": "2021-04-18T07:15:11.675279Z",
     "shell.execute_reply": "2021-04-18T07:15:11.675846Z"
    },
    "papermill": {
     "duration": 60.65649,
     "end_time": "2021-04-18T07:15:11.676026",
     "exception": false,
     "start_time": "2021-04-18T07:14:11.019536",
     "status": "completed"
    },
    "tags": []
   },
   "outputs": [
    {
     "name": "stdout",
     "output_type": "stream",
     "text": [
      "CPU times: user 59.8 s, sys: 662 ms, total: 1min\n",
      "Wall time: 1min\n"
     ]
    }
   ],
   "source": [
    "%%time\n",
    "generate_meta(dir_mdata, 'train.feather')"
   ]
  },
  {
   "cell_type": "markdown",
   "metadata": {
    "papermill": {
     "duration": 0.036075,
     "end_time": "2021-04-18T07:15:11.750235",
     "exception": false,
     "start_time": "2021-04-18T07:15:11.714160",
     "status": "completed"
    },
    "tags": []
   },
   "source": [
    "## Split generation"
   ]
  },
  {
   "cell_type": "code",
   "execution_count": 18,
   "metadata": {
    "execution": {
     "iopub.execute_input": "2021-04-18T07:15:11.842405Z",
     "iopub.status.busy": "2021-04-18T07:15:11.841270Z",
     "iopub.status.idle": "2021-04-18T07:15:25.227306Z",
     "shell.execute_reply": "2021-04-18T07:15:25.226447Z"
    },
    "papermill": {
     "duration": 13.43983,
     "end_time": "2021-04-18T07:15:25.227545",
     "exception": false,
     "start_time": "2021-04-18T07:15:11.787715",
     "status": "completed"
    },
    "tags": []
   },
   "outputs": [
    {
     "name": "stdout",
     "output_type": "stream",
     "text": [
      "Nucleoplasm 8000 2000\n",
      "Nuclear membrane 3876 969\n",
      "Nucleoli 8000 2000\n",
      "Nucleoli fibrillar center 8000 2000\n",
      "Nuclear speckles 8000 2000\n",
      "Nuclear bodies 8000 2000\n",
      "Endoplasmic reticulum 8000 2000\n",
      "Golgi apparatus 8000 2000\n",
      "Intermediate filaments 8000 2000\n",
      "Actin filaments 4258 1064\n",
      "Microtubules 6232 1557\n",
      "Mitotic spindle 8 2\n",
      "Centrosome 8000 2000\n",
      "Plasma membrane 8000 2000\n",
      "Mitochondria 8000 2000\n",
      "Aggresome 1820 455\n",
      "Cytosol 8000 2000\n",
      "Vesicles and punctate cytosolic patterns 4495 1124\n",
      "Negative 761 191\n",
      "create split file: /kaggle/mdata/split/random_folds5/random_train_cv0.feather, shape: (117450, 26)\n",
      "create split file: /kaggle/mdata/split/random_folds5/random_valid_cv0.feather, shape: (29362, 26)\n",
      "create split file: /kaggle/mdata/split/random_folds5/random_train_cv1.feather, shape: (117450, 26)\n",
      "create split file: /kaggle/mdata/split/random_folds5/random_valid_cv1.feather, shape: (29362, 26)\n",
      "create split file: /kaggle/mdata/split/random_folds5/random_train_cv2.feather, shape: (117449, 26)\n",
      "create split file: /kaggle/mdata/split/random_folds5/random_valid_cv2.feather, shape: (29363, 26)\n",
      "create split file: /kaggle/mdata/split/random_folds5/random_train_cv3.feather, shape: (117449, 26)\n",
      "create split file: /kaggle/mdata/split/random_folds5/random_valid_cv3.feather, shape: (29363, 26)\n",
      "create split file: /kaggle/mdata/split/random_folds5/random_train_cv4.feather, shape: (117450, 26)\n",
      "create split file: /kaggle/mdata/split/random_folds5/random_valid_cv4.feather, shape: (29362, 26)\n",
      "CPU times: user 12.1 s, sys: 1.58 s, total: 13.7 s\n",
      "Wall time: 13.4 s\n"
     ]
    }
   ],
   "source": [
    "%%time\n",
    "train_meta = pd.read_feather(dir_mdata/'meta'/'train_meta.feather')\n",
    "create_random_split(dir_mdata, train_meta, n_splits=5, alias='random')\n",
    "del train_meta"
   ]
  },
  {
   "cell_type": "markdown",
   "metadata": {
    "papermill": {
     "duration": 0.039673,
     "end_time": "2021-04-18T07:15:25.311101",
     "exception": false,
     "start_time": "2021-04-18T07:15:25.271428",
     "status": "completed"
    },
    "tags": []
   },
   "source": [
    "## Training"
   ]
  },
  {
   "cell_type": "code",
   "execution_count": 19,
   "metadata": {
    "execution": {
     "iopub.execute_input": "2021-04-18T07:15:25.405404Z",
     "iopub.status.busy": "2021-04-18T07:15:25.404435Z",
     "iopub.status.idle": "2021-04-18T07:15:25.408980Z",
     "shell.execute_reply": "2021-04-18T07:15:25.408439Z"
    },
    "papermill": {
     "duration": 0.055948,
     "end_time": "2021-04-18T07:15:25.409138",
     "exception": false,
     "start_time": "2021-04-18T07:15:25.353190",
     "status": "completed"
    },
    "tags": []
   },
   "outputs": [],
   "source": [
    "model_multicell = (\n",
    "    '../../kgl_humanprotein_data/result/models/'\n",
    "    'external_crop512_focal_slov_hardlog_class_densenet121_dropout_i768_aug2_5folds/'\n",
    "    'fold0/final.pth')\n",
    "gpu_id = '0' # '0,1,2,3'\n",
    "arch = 'class_densenet121_dropout'\n",
    "num_classes = len(LABEL_NAME_LIST)\n",
    "scheduler = 'Adam55'\n",
    "epochs = 10 #55\n",
    "resume = Path('/kaggle/input/humanpro-classifier/results/models/'\n",
    "              'external_crop384_focal_slov_hardlog_class_densenet121_dropout_i384_aug2_5folds/fold0/final.pth')\n",
    "sz_img = 384\n",
    "crop_size = 384\n",
    "batch_size = 32\n",
    "split_name = 'random_folds5'\n",
    "fold = 0\n",
    "workers = 3\n",
    "pin_memory = True\n",
    "\n",
    "dir_results = Path('results')\n",
    "dir_results.mkdir(exist_ok=True, parents=True)\n",
    "\n",
    "out_dir = Path(f'external_crop{crop_size}_focal_slov_hardlog_class_densenet121_dropout_i{sz_img}_aug2_5folds')"
   ]
  },
  {
   "cell_type": "code",
   "execution_count": 20,
   "metadata": {
    "execution": {
     "iopub.execute_input": "2021-04-18T07:15:25.497811Z",
     "iopub.status.busy": "2021-04-18T07:15:25.496735Z",
     "iopub.status.idle": "2021-04-18T14:39:00.049413Z",
     "shell.execute_reply": "2021-04-18T14:39:00.048761Z"
    },
    "papermill": {
     "duration": 26614.598811,
     "end_time": "2021-04-18T14:39:00.049579",
     "exception": false,
     "start_time": "2021-04-18T07:15:25.450768",
     "status": "completed"
    },
    "tags": []
   },
   "outputs": [
    {
     "name": "stdout",
     "output_type": "stream",
     "text": [
      ">> Creating directory if it does not exist:\n",
      ">> 'results/models/external_crop384_focal_slov_hardlog_class_densenet121_dropout_i384_aug2_5folds/fold0'\n",
      ">> Using pre-trained model.\n",
      ">> Loading multi-cell model.\n",
      ">> Loading checkpoint:\n",
      ">> '/kaggle/input/humanpro-classifier/results/models/external_crop384_focal_slov_hardlog_class_densenet121_dropout_i384_aug2_5folds/fold0/final.pth'\n",
      ">> Loading checkpoint:\n",
      ">> '/kaggle/input/humanpro-classifier/results/models/external_crop384_focal_slov_hardlog_class_densenet121_dropout_i384_aug2_5folds/fold0/final_optim.pth'\n",
      ">>>> loaded checkpoint:\n",
      ">>>> '/kaggle/input/humanpro-classifier/results/models/external_crop384_focal_slov_hardlog_class_densenet121_dropout_i384_aug2_5folds/fold0/final.pth' (epoch 3)\n",
      "** start training here! **\n",
      "\n",
      "epoch    iter      rate     |  train_loss/acc  |    valid_loss/acc/focal/kaggle     |best_epoch/best_focal|  min \n",
      "-----------------------------------------------------------------------------------------------------------------\n",
      "  4.0    3670    0.000300   |  0.7664  0.9664  |    28.6586  0.9636 42.4583 0.5449    |     3.0    1.3889   | 65.0 min \n",
      "  5.0    3670    0.000300   |  0.7011  0.9688  |    32.2796  0.9671 43.2645 0.5660    |     3.0    1.3889   | 64.4 min \n",
      "  6.0    3670    0.000300   |  0.6479  0.9709  |    0.9893  0.9695 1.2439 0.6035    |     6.0    1.2439   | 62.7 min \n",
      "  7.0    3670    0.000300   |  0.6058  0.9722  |    37.5953  0.9701 48.5047 0.6168    |     6.0    1.2439   | 62.2 min \n",
      "  8.0    3670    0.000300   |  0.5603  0.9740  |    4.5893  0.9716 6.2746 0.6413    |     6.0    1.2439   | 62.2 min \n",
      "  9.0    3670    0.000300   |  0.5274  0.9751  |    0.4417  0.9736 0.4278 0.7100    |     9.0    0.4278   | 62.9 min \n",
      " 10.0    3670    0.000300   |  0.4961  0.9766  |    0.4350  0.9738 0.4207 0.7111    |    10.0    0.4207   | 63.8 min \n"
     ]
    }
   ],
   "source": [
    "main_training(dir_data, dir_mdata, dir_results, out_dir, \n",
    "              split_name=split_name, fold=fold,\n",
    "              arch=arch, model_multicell=model_multicell, scheduler=scheduler,\n",
    "              epochs=epochs, resume=resume,\n",
    "              img_size=sz_img, crop_size=crop_size, batch_size=batch_size, \n",
    "              gpu_id=gpu_id, workers=workers, pin_memory=pin_memory)"
   ]
  },
  {
   "cell_type": "code",
   "execution_count": 21,
   "metadata": {
    "execution": {
     "iopub.execute_input": "2021-04-18T14:39:18.633978Z",
     "iopub.status.busy": "2021-04-18T14:39:18.600773Z",
     "iopub.status.idle": "2021-04-18T14:39:21.957452Z",
     "shell.execute_reply": "2021-04-18T14:39:21.956363Z"
    },
    "papermill": {
     "duration": 13.04928,
     "end_time": "2021-04-18T14:39:21.957730",
     "exception": false,
     "start_time": "2021-04-18T14:39:08.908450",
     "status": "completed"
    },
    "tags": []
   },
   "outputs": [],
   "source": [
    "! cp -r results/ /kaggle/working/."
   ]
  },
  {
   "cell_type": "code",
   "execution_count": null,
   "metadata": {
    "papermill": {
     "duration": 9.309736,
     "end_time": "2021-04-18T14:39:40.593729",
     "exception": false,
     "start_time": "2021-04-18T14:39:31.283993",
     "status": "completed"
    },
    "tags": []
   },
   "outputs": [],
   "source": []
  }
 ],
 "metadata": {
  "kernelspec": {
   "display_name": "Python 3",
   "language": "python",
   "name": "python3"
  },
  "language_info": {
   "codemirror_mode": {
    "name": "ipython",
    "version": 3
   },
   "file_extension": ".py",
   "mimetype": "text/x-python",
   "name": "python",
   "nbconvert_exporter": "python",
   "pygments_lexer": "ipython3",
   "version": "3.7.9"
  },
  "papermill": {
   "default_parameters": {},
   "duration": 26927.635256,
   "end_time": "2021-04-18T14:39:54.757666",
   "environment_variables": {},
   "exception": null,
   "input_path": "__notebook__.ipynb",
   "output_path": "__notebook__.ipynb",
   "parameters": {},
   "start_time": "2021-04-18T07:11:07.122410",
   "version": "2.2.2"
  }
 },
 "nbformat": 4,
 "nbformat_minor": 4
}
