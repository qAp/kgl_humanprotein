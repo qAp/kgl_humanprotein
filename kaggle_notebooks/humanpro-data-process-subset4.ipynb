{
 "cells": [
  {
   "cell_type": "markdown",
   "metadata": {
    "papermill": {
     "duration": 0.017485,
     "end_time": "2021-03-29T06:09:28.584505",
     "exception": false,
     "start_time": "2021-03-29T06:09:28.567020",
     "status": "completed"
    },
    "tags": []
   },
   "source": [
    "# Data processing"
   ]
  },
  {
   "cell_type": "code",
   "execution_count": 1,
   "metadata": {
    "_kg_hide-output": true,
    "collapsed": true,
    "execution": {
     "iopub.execute_input": "2021-03-29T06:09:28.632233Z",
     "iopub.status.busy": "2021-03-29T06:09:28.627128Z",
     "iopub.status.idle": "2021-03-29T06:11:54.624825Z",
     "shell.execute_reply": "2021-03-29T06:11:54.625384Z"
    },
    "papermill": {
     "duration": 146.024567,
     "end_time": "2021-03-29T06:11:54.625778",
     "exception": false,
     "start_time": "2021-03-29T06:09:28.601211",
     "status": "completed"
    },
    "tags": []
   },
   "outputs": [
    {
     "name": "stdout",
     "output_type": "stream",
     "text": [
      "Processing /kaggle/input/mmdetection-v280/src/mmpycocotools-12.0.3/mmpycocotools-12.0.3\r\n",
      "Requirement already satisfied: setuptools>=18.0 in /opt/conda/lib/python3.7/site-packages (from mmpycocotools==12.0.3) (49.6.0.post20201009)\r\n",
      "Requirement already satisfied: cython>=0.27.3 in /opt/conda/lib/python3.7/site-packages (from mmpycocotools==12.0.3) (0.29.21)\r\n",
      "Requirement already satisfied: matplotlib>=2.1.0 in /opt/conda/lib/python3.7/site-packages (from mmpycocotools==12.0.3) (3.3.3)\r\n",
      "Requirement already satisfied: pyparsing!=2.0.4,!=2.1.2,!=2.1.6,>=2.0.3 in /opt/conda/lib/python3.7/site-packages (from matplotlib>=2.1.0->mmpycocotools==12.0.3) (2.4.7)\r\n",
      "Requirement already satisfied: numpy>=1.15 in /opt/conda/lib/python3.7/site-packages (from matplotlib>=2.1.0->mmpycocotools==12.0.3) (1.19.5)\r\n",
      "Requirement already satisfied: pillow>=6.2.0 in /opt/conda/lib/python3.7/site-packages (from matplotlib>=2.1.0->mmpycocotools==12.0.3) (7.2.0)\r\n",
      "Requirement already satisfied: kiwisolver>=1.0.1 in /opt/conda/lib/python3.7/site-packages (from matplotlib>=2.1.0->mmpycocotools==12.0.3) (1.3.1)\r\n",
      "Requirement already satisfied: python-dateutil>=2.1 in /opt/conda/lib/python3.7/site-packages (from matplotlib>=2.1.0->mmpycocotools==12.0.3) (2.8.1)\r\n",
      "Requirement already satisfied: cycler>=0.10 in /opt/conda/lib/python3.7/site-packages (from matplotlib>=2.1.0->mmpycocotools==12.0.3) (0.10.0)\r\n",
      "Requirement already satisfied: six in /opt/conda/lib/python3.7/site-packages (from cycler>=0.10->matplotlib>=2.1.0->mmpycocotools==12.0.3) (1.15.0)\r\n",
      "Building wheels for collected packages: mmpycocotools\r\n",
      "  Building wheel for mmpycocotools (setup.py) ... \u001b[?25l-\b \b\\\b \b|\b \b/\b \b-\b \b\\\b \b|\b \b/\b \b-\b \b\\\b \bdone\r\n",
      "\u001b[?25h  Created wheel for mmpycocotools: filename=mmpycocotools-12.0.3-cp37-cp37m-linux_x86_64.whl size=272913 sha256=c75ee35b5f2406e8d89c47b327e66cb4cc2c91bd4d2d9b4577d05560e8ff941d\r\n",
      "  Stored in directory: /root/.cache/pip/wheels/80/e0/da/3288fdf3965b5c9090f368462db9d28be2c82013f51821090a\r\n",
      "Successfully built mmpycocotools\r\n",
      "Installing collected packages: mmpycocotools\r\n",
      "Successfully installed mmpycocotools-12.0.3\r\n",
      "Processing /kaggle/input/hpapytorchzoo/pytorch_zoo-master\r\n",
      "Building wheels for collected packages: pytorch-zoo\r\n",
      "  Building wheel for pytorch-zoo (setup.py) ... \u001b[?25l-\b \b\\\b \bdone\r\n",
      "\u001b[?25h  Created wheel for pytorch-zoo: filename=pytorch_zoo-0.0.0-py3-none-any.whl size=30139 sha256=38290172fe3b0bccfc0a1d41d1b2951efa979169ca7057ac9e05f56e5ae7a60a\r\n",
      "  Stored in directory: /root/.cache/pip/wheels/7f/18/21/aff5a8914e22461b2b025a9629c2b70464c36183caaf12bc09\r\n",
      "Successfully built pytorch-zoo\r\n",
      "Installing collected packages: pytorch-zoo\r\n",
      "Successfully installed pytorch-zoo-0.0.0\r\n",
      "Processing /kaggle/input/hpacellsegmentation/HPA-Cell-Segmentation\r\n",
      "Building wheels for collected packages: hpacellseg\r\n",
      "  Building wheel for hpacellseg (setup.py) ... \u001b[?25l-\b \b\\\b \bdone\r\n",
      "\u001b[?25h  Created wheel for hpacellseg: filename=hpacellseg-0.1.8-py3-none-any.whl size=14815 sha256=b39f7dbe829cade9d90f0df697b8de9735932a1fb3a893160fd11929058f6504\r\n",
      "  Stored in directory: /root/.cache/pip/wheels/50/41/15/9f15b23726cf96bdbc26670ce1c7526c719d4bce49418c1a20\r\n",
      "Successfully built hpacellseg\r\n",
      "Installing collected packages: hpacellseg\r\n",
      "Successfully installed hpacellseg-0.1.8\r\n",
      "Processing /kaggle/input/iterative-stratification/iterative-stratification-master\r\n",
      "Requirement already satisfied: numpy in /opt/conda/lib/python3.7/site-packages (from iterative-stratification==0.1.6) (1.19.5)\r\n",
      "Requirement already satisfied: scipy in /opt/conda/lib/python3.7/site-packages (from iterative-stratification==0.1.6) (1.5.4)\r\n",
      "Requirement already satisfied: scikit-learn in /opt/conda/lib/python3.7/site-packages (from iterative-stratification==0.1.6) (0.24.1)\r\n",
      "Requirement already satisfied: joblib>=0.11 in /opt/conda/lib/python3.7/site-packages (from scikit-learn->iterative-stratification==0.1.6) (1.0.0)\r\n",
      "Requirement already satisfied: threadpoolctl>=2.0.0 in /opt/conda/lib/python3.7/site-packages (from scikit-learn->iterative-stratification==0.1.6) (2.1.0)\r\n",
      "Building wheels for collected packages: iterative-stratification\r\n",
      "  Building wheel for iterative-stratification (setup.py) ... \u001b[?25l-\b \b\\\b \bdone\r\n",
      "\u001b[?25h  Created wheel for iterative-stratification: filename=iterative_stratification-0.1.6-py3-none-any.whl size=8401 sha256=45ff5460cb8b69fedc32fac0162701e082450e8cde66cb4aeb3be9c5b6917a42\r\n",
      "  Stored in directory: /root/.cache/pip/wheels/b8/47/3f/eb4af42d124f37d23d6f13a4c8bbc32c1d70140e6e1cecb4aa\r\n",
      "Successfully built iterative-stratification\r\n",
      "Installing collected packages: iterative-stratification\r\n",
      "Successfully installed iterative-stratification-0.1.6\r\n",
      "/kgl_humanprotein/nbs\n"
     ]
    }
   ],
   "source": [
    "! rsync -a /kaggle/input/mmdetection-v280/mmdetection /\n",
    "! pip install /kaggle/input/mmdetection-v280/src/mmpycocotools-12.0.3/mmpycocotools-12.0.3/\n",
    "! pip install /kaggle/input/hpapytorchzoo/pytorch_zoo-master/\n",
    "! pip install /kaggle/input/hpacellsegmentation/HPA-Cell-Segmentation/\n",
    "! pip install /kaggle/input/iterative-stratification/iterative-stratification-master/\n",
    "\n",
    "! cp -r /kaggle/input/kgl-humanprotein-data/kgl_humanprotein_data /\n",
    "! cp -r /kaggle/input/humanpro/kgl_humanprotein /\n",
    "\n",
    "%cd /kgl_humanprotein/nbs/\n",
    "import sys\n",
    "sys.path.append('/kgl_humanprotein/')"
   ]
  },
  {
   "cell_type": "code",
   "execution_count": 2,
   "metadata": {
    "execution": {
     "iopub.execute_input": "2021-03-29T06:11:54.680502Z",
     "iopub.status.busy": "2021-03-29T06:11:54.679744Z",
     "iopub.status.idle": "2021-03-29T06:11:58.539450Z",
     "shell.execute_reply": "2021-03-29T06:11:58.540546Z"
    },
    "papermill": {
     "duration": 3.889847,
     "end_time": "2021-03-29T06:11:58.540851",
     "exception": false,
     "start_time": "2021-03-29T06:11:54.651004",
     "status": "completed"
    },
    "tags": []
   },
   "outputs": [
    {
     "name": "stdout",
     "output_type": "stream",
     "text": [
      "run on 61bf9d1683e7\n"
     ]
    }
   ],
   "source": [
    "from pathlib import Path\n",
    "import shutil\n",
    "import zipfile\n",
    "import numpy as np\n",
    "import pandas as pd\n",
    "import matplotlib.pyplot as plt\n",
    "\n",
    "from kgl_humanprotein.utils.common_util import *\n",
    "from kgl_humanprotein.config.config import *\n",
    "from kgl_humanprotein.data_process import *"
   ]
  },
  {
   "cell_type": "code",
   "execution_count": 3,
   "metadata": {
    "execution": {
     "iopub.execute_input": "2021-03-29T06:11:58.614245Z",
     "iopub.status.busy": "2021-03-29T06:11:58.613547Z",
     "iopub.status.idle": "2021-03-29T06:11:58.617294Z",
     "shell.execute_reply": "2021-03-29T06:11:58.616668Z"
    },
    "papermill": {
     "duration": 0.041087,
     "end_time": "2021-03-29T06:11:58.617464",
     "exception": false,
     "start_time": "2021-03-29T06:11:58.576377",
     "status": "completed"
    },
    "tags": []
   },
   "outputs": [],
   "source": [
    "# import holoviews as hv\n",
    "# hv.extension('bokeh')"
   ]
  },
  {
   "cell_type": "code",
   "execution_count": 4,
   "metadata": {
    "execution": {
     "iopub.execute_input": "2021-03-29T06:11:58.688385Z",
     "iopub.status.busy": "2021-03-29T06:11:58.685083Z",
     "iopub.status.idle": "2021-03-29T06:11:58.691112Z",
     "shell.execute_reply": "2021-03-29T06:11:58.691796Z"
    },
    "papermill": {
     "duration": 0.042347,
     "end_time": "2021-03-29T06:11:58.692051",
     "exception": false,
     "start_time": "2021-03-29T06:11:58.649704",
     "status": "completed"
    },
    "tags": []
   },
   "outputs": [],
   "source": [
    "dir_hpa = Path('/kaggle/input/hpa-single-cell-image-classification')\n",
    "dir_trn = dir_hpa/'train'\n",
    "dir_test = dir_hpa/'test'"
   ]
  },
  {
   "cell_type": "markdown",
   "metadata": {
    "papermill": {
     "duration": 0.032254,
     "end_time": "2021-03-29T06:11:58.761864",
     "exception": false,
     "start_time": "2021-03-29T06:11:58.729610",
     "status": "completed"
    },
    "tags": []
   },
   "source": [
    "## Segment `train` images"
   ]
  },
  {
   "cell_type": "code",
   "execution_count": 5,
   "metadata": {
    "execution": {
     "iopub.execute_input": "2021-03-29T06:11:58.843430Z",
     "iopub.status.busy": "2021-03-29T06:11:58.842360Z",
     "iopub.status.idle": "2021-03-29T06:11:58.844676Z",
     "shell.execute_reply": "2021-03-29T06:11:58.845329Z"
    },
    "papermill": {
     "duration": 0.049067,
     "end_time": "2021-03-29T06:11:58.845545",
     "exception": false,
     "start_time": "2021-03-29T06:11:58.796478",
     "status": "completed"
    },
    "tags": []
   },
   "outputs": [],
   "source": [
    "# dir_seg_trn = Path('/kaggle/input/hpa-processed-train-dataframe-with-cellwise-rle')\n",
    "# pth_seg_trn = dir_seg_trn / 'train_df_w_masks_shape_bboxes.csv'"
   ]
  },
  {
   "cell_type": "code",
   "execution_count": 6,
   "metadata": {
    "execution": {
     "iopub.execute_input": "2021-03-29T06:11:58.907626Z",
     "iopub.status.busy": "2021-03-29T06:11:58.906794Z",
     "iopub.status.idle": "2021-03-29T06:11:58.912397Z",
     "shell.execute_reply": "2021-03-29T06:11:58.913274Z"
    },
    "papermill": {
     "duration": 0.041136,
     "end_time": "2021-03-29T06:11:58.913573",
     "exception": false,
     "start_time": "2021-03-29T06:11:58.872437",
     "status": "completed"
    },
    "tags": []
   },
   "outputs": [],
   "source": [
    "# df_seg_trn = load_seg_trn(pth_seg_trn)"
   ]
  },
  {
   "cell_type": "code",
   "execution_count": 7,
   "metadata": {
    "execution": {
     "iopub.execute_input": "2021-03-29T06:11:59.000966Z",
     "iopub.status.busy": "2021-03-29T06:11:58.999608Z",
     "iopub.status.idle": "2021-03-29T06:11:59.004889Z",
     "shell.execute_reply": "2021-03-29T06:11:59.006190Z"
    },
    "papermill": {
     "duration": 0.050916,
     "end_time": "2021-03-29T06:11:59.006411",
     "exception": false,
     "start_time": "2021-03-29T06:11:58.955495",
     "status": "completed"
    },
    "tags": []
   },
   "outputs": [],
   "source": [
    "# # This takes ~ 3 hours\n",
    "# df_cells_trn = split_cells(df_seg_trn)"
   ]
  },
  {
   "cell_type": "code",
   "execution_count": 8,
   "metadata": {
    "execution": {
     "iopub.execute_input": "2021-03-29T06:11:59.066212Z",
     "iopub.status.busy": "2021-03-29T06:11:59.065165Z",
     "iopub.status.idle": "2021-03-29T06:11:59.067541Z",
     "shell.execute_reply": "2021-03-29T06:11:59.068119Z"
    },
    "papermill": {
     "duration": 0.034286,
     "end_time": "2021-03-29T06:11:59.068321",
     "exception": false,
     "start_time": "2021-03-29T06:11:59.034035",
     "status": "completed"
    },
    "tags": []
   },
   "outputs": [],
   "source": [
    "# df_cells_trn.to_feather('/kaggle/working/df_cells_trn.feather')"
   ]
  },
  {
   "cell_type": "code",
   "execution_count": 9,
   "metadata": {
    "execution": {
     "iopub.execute_input": "2021-03-29T06:11:59.145965Z",
     "iopub.status.busy": "2021-03-29T06:11:59.145127Z",
     "iopub.status.idle": "2021-03-29T06:12:07.772767Z",
     "shell.execute_reply": "2021-03-29T06:12:07.772016Z"
    },
    "papermill": {
     "duration": 8.669067,
     "end_time": "2021-03-29T06:12:07.772957",
     "exception": false,
     "start_time": "2021-03-29T06:11:59.103890",
     "status": "completed"
    },
    "tags": []
   },
   "outputs": [
    {
     "name": "stdout",
     "output_type": "stream",
     "text": [
      "Loading cell segmentations...\n"
     ]
    }
   ],
   "source": [
    "print('Loading cell segmentations...')\n",
    "\n",
    "df_cells_trn = pd.read_feather('/kaggle/input/humanpro-df-cells-trn/df_cells_trn.feather')"
   ]
  },
  {
   "cell_type": "markdown",
   "metadata": {
    "papermill": {
     "duration": 0.026836,
     "end_time": "2021-03-29T06:12:07.827037",
     "exception": false,
     "start_time": "2021-03-29T06:12:07.800201",
     "status": "completed"
    },
    "tags": []
   },
   "source": [
    "## Generate `train` crops"
   ]
  },
  {
   "cell_type": "markdown",
   "metadata": {
    "papermill": {
     "duration": 0.027258,
     "end_time": "2021-03-29T06:12:07.881564",
     "exception": false,
     "start_time": "2021-03-29T06:12:07.854306",
     "status": "completed"
    },
    "tags": []
   },
   "source": [
    "10 cells at image size 384 equals 1.9 MB."
   ]
  },
  {
   "cell_type": "code",
   "execution_count": 10,
   "metadata": {
    "execution": {
     "iopub.execute_input": "2021-03-29T06:12:07.942621Z",
     "iopub.status.busy": "2021-03-29T06:12:07.941607Z",
     "iopub.status.idle": "2021-03-29T06:12:07.945543Z",
     "shell.execute_reply": "2021-03-29T06:12:07.944836Z"
    },
    "papermill": {
     "duration": 0.03631,
     "end_time": "2021-03-29T06:12:07.945717",
     "exception": false,
     "start_time": "2021-03-29T06:12:07.909407",
     "status": "completed"
    },
    "tags": []
   },
   "outputs": [],
   "source": [
    "crop_sz = 384"
   ]
  },
  {
   "cell_type": "code",
   "execution_count": 11,
   "metadata": {
    "execution": {
     "iopub.execute_input": "2021-03-29T06:12:08.010204Z",
     "iopub.status.busy": "2021-03-29T06:12:08.009099Z",
     "iopub.status.idle": "2021-03-29T06:12:08.013305Z",
     "shell.execute_reply": "2021-03-29T06:12:08.012549Z"
    },
    "papermill": {
     "duration": 0.039139,
     "end_time": "2021-03-29T06:12:08.013478",
     "exception": false,
     "start_time": "2021-03-29T06:12:07.974339",
     "status": "completed"
    },
    "tags": []
   },
   "outputs": [],
   "source": [
    "subset_sz = 100_000"
   ]
  },
  {
   "cell_type": "code",
   "execution_count": 12,
   "metadata": {
    "execution": {
     "iopub.execute_input": "2021-03-29T06:12:08.078974Z",
     "iopub.status.busy": "2021-03-29T06:12:08.078097Z",
     "iopub.status.idle": "2021-03-29T06:12:08.108337Z",
     "shell.execute_reply": "2021-03-29T06:12:08.107621Z"
    },
    "papermill": {
     "duration": 0.066891,
     "end_time": "2021-03-29T06:12:08.108512",
     "exception": false,
     "start_time": "2021-03-29T06:12:08.041621",
     "status": "completed"
    },
    "tags": []
   },
   "outputs": [
    {
     "data": {
      "text/html": [
       "<div>\n",
       "<style scoped>\n",
       "    .dataframe tbody tr th:only-of-type {\n",
       "        vertical-align: middle;\n",
       "    }\n",
       "\n",
       "    .dataframe tbody tr th {\n",
       "        vertical-align: top;\n",
       "    }\n",
       "\n",
       "    .dataframe thead th {\n",
       "        text-align: right;\n",
       "    }\n",
       "</style>\n",
       "<table border=\"1\" class=\"dataframe\">\n",
       "  <thead>\n",
       "    <tr style=\"text-align: right;\">\n",
       "      <th></th>\n",
       "      <th>Id</th>\n",
       "      <th>rle</th>\n",
       "      <th>bbox</th>\n",
       "      <th>Target</th>\n",
       "    </tr>\n",
       "  </thead>\n",
       "  <tbody>\n",
       "    <tr>\n",
       "      <th>0</th>\n",
       "      <td>d17f83aa-bb99-11e8-b2b9-ac1f6b6435d0_10</td>\n",
       "      <td>{'counts': b'iff8&gt;bo13M1N3M2N2O1N2N2N8H4L2N2N:...</td>\n",
       "      <td>[139, 486, 786, 930]</td>\n",
       "      <td>2|0</td>\n",
       "    </tr>\n",
       "    <tr>\n",
       "      <th>1</th>\n",
       "      <td>d17f83aa-bb99-11e8-b2b9-ac1f6b6435d0_11</td>\n",
       "      <td>{'counts': b'bfVc22mo11J600[LNeTNg0k0UOaN7ok1b...</td>\n",
       "      <td>[1331, 546, 1512, 750]</td>\n",
       "      <td>2|0</td>\n",
       "    </tr>\n",
       "    <tr>\n",
       "      <th>2</th>\n",
       "      <td>d17f83aa-bb99-11e8-b2b9-ac1f6b6435d0_12</td>\n",
       "      <td>{'counts': b'`c`d11oo13L9G2N2N4Jb1YN9O1O3M&gt;A2O...</td>\n",
       "      <td>[840, 555, 1298, 1110]</td>\n",
       "      <td>2|0</td>\n",
       "    </tr>\n",
       "    <tr>\n",
       "      <th>3</th>\n",
       "      <td>d17f83aa-bb99-11e8-b2b9-ac1f6b6435d0_13</td>\n",
       "      <td>{'counts': b'ceVk1V1gn16L2N2Gc0C8I3L3L4M6K3L3K...</td>\n",
       "      <td>[947, 571, 1173, 817]</td>\n",
       "      <td>2|0</td>\n",
       "    </tr>\n",
       "    <tr>\n",
       "      <th>4</th>\n",
       "      <td>d17f83aa-bb99-11e8-b2b9-ac1f6b6435d0_14</td>\n",
       "      <td>{'counts': b'nddW2h1Xn10O2N2H=F4O2N2N4L2N1O2N2...</td>\n",
       "      <td>[1146, 581, 1339, 794]</td>\n",
       "      <td>2|0</td>\n",
       "    </tr>\n",
       "  </tbody>\n",
       "</table>\n",
       "</div>"
      ],
      "text/plain": [
       "                                        Id  \\\n",
       "0  d17f83aa-bb99-11e8-b2b9-ac1f6b6435d0_10   \n",
       "1  d17f83aa-bb99-11e8-b2b9-ac1f6b6435d0_11   \n",
       "2  d17f83aa-bb99-11e8-b2b9-ac1f6b6435d0_12   \n",
       "3  d17f83aa-bb99-11e8-b2b9-ac1f6b6435d0_13   \n",
       "4  d17f83aa-bb99-11e8-b2b9-ac1f6b6435d0_14   \n",
       "\n",
       "                                                 rle                    bbox  \\\n",
       "0  {'counts': b'iff8>bo13M1N3M2N2O1N2N2N8H4L2N2N:...    [139, 486, 786, 930]   \n",
       "1  {'counts': b'bfVc22mo11J600[LNeTNg0k0UOaN7ok1b...  [1331, 546, 1512, 750]   \n",
       "2  {'counts': b'`c`d11oo13L9G2N2N4Jb1YN9O1O3M>A2O...  [840, 555, 1298, 1110]   \n",
       "3  {'counts': b'ceVk1V1gn16L2N2Gc0C8I3L3L4M6K3L3K...   [947, 571, 1173, 817]   \n",
       "4  {'counts': b'nddW2h1Xn10O2N2H=F4O2N2N4L2N1O2N2...  [1146, 581, 1339, 794]   \n",
       "\n",
       "  Target  \n",
       "0    2|0  \n",
       "1    2|0  \n",
       "2    2|0  \n",
       "3    2|0  \n",
       "4    2|0  "
      ]
     },
     "execution_count": 12,
     "metadata": {},
     "output_type": "execute_result"
    }
   ],
   "source": [
    "idx_subset = 4\n",
    "\n",
    "df_cells_trn_subset = df_cells_trn.iloc[idx_subset * subset_sz: (idx_subset + 1) * subset_sz]\n",
    "df_cells_trn_subset.reset_index(inplace=True, drop=True)\n",
    "\n",
    "df_cells_trn_subset.head()"
   ]
  },
  {
   "cell_type": "code",
   "execution_count": 13,
   "metadata": {
    "execution": {
     "iopub.execute_input": "2021-03-29T06:12:08.171896Z",
     "iopub.status.busy": "2021-03-29T06:12:08.171127Z",
     "iopub.status.idle": "2021-03-29T07:05:36.297334Z",
     "shell.execute_reply": "2021-03-29T07:05:36.297954Z"
    },
    "papermill": {
     "duration": 3208.161491,
     "end_time": "2021-03-29T07:05:36.298348",
     "exception": false,
     "start_time": "2021-03-29T06:12:08.136857",
     "status": "completed"
    },
    "tags": []
   },
   "outputs": [
    {
     "name": "stdout",
     "output_type": "stream",
     "text": [
      "Writing out crops...\n",
      "CPU times: user 51min 33s, sys: 6min 1s, total: 57min 34s\n",
      "Wall time: 53min 28s\n"
     ]
    }
   ],
   "source": [
    "%%time\n",
    "\n",
    "print('Writing out crops...')\n",
    "\n",
    "dir_crops_trn = DATA_DIR / 'train' / f'images_{crop_sz}'\n",
    "dir_crops_trn.mkdir(exist_ok=True, parents=True)\n",
    "\n",
    "df_cells_trn_subset = generate_crops(\n",
    "    df_cells_trn_subset, dir_trn, dir_crops_trn, out_sz=crop_sz)"
   ]
  },
  {
   "cell_type": "code",
   "execution_count": 14,
   "metadata": {
    "execution": {
     "iopub.execute_input": "2021-03-29T07:05:36.378076Z",
     "iopub.status.busy": "2021-03-29T07:05:36.376849Z",
     "iopub.status.idle": "2021-03-29T07:05:37.585501Z",
     "shell.execute_reply": "2021-03-29T07:05:37.584289Z"
    },
    "papermill": {
     "duration": 1.251035,
     "end_time": "2021-03-29T07:05:37.585694",
     "exception": false,
     "start_time": "2021-03-29T07:05:36.334659",
     "status": "completed"
    },
    "tags": []
   },
   "outputs": [
    {
     "name": "stdout",
     "output_type": "stream",
     "text": [
      "Writing out df_cells_trn_subset...\n"
     ]
    }
   ],
   "source": [
    "print('Writing out df_cells_trn_subset...')\n",
    "\n",
    "dir_data_raw = DATA_DIR / 'raw'\n",
    "dir_data_raw.mkdir(exist_ok=True)\n",
    "\n",
    "df_cells_trn_subset.to_feather(dir_data_raw / 'train.feather')"
   ]
  },
  {
   "cell_type": "markdown",
   "metadata": {
    "papermill": {
     "duration": 0.029853,
     "end_time": "2021-03-29T07:05:37.649406",
     "exception": false,
     "start_time": "2021-03-29T07:05:37.619553",
     "status": "completed"
    },
    "tags": []
   },
   "source": [
    "## Backup data"
   ]
  },
  {
   "cell_type": "code",
   "execution_count": 15,
   "metadata": {
    "execution": {
     "iopub.execute_input": "2021-03-29T07:05:37.718874Z",
     "iopub.status.busy": "2021-03-29T07:05:37.717982Z",
     "iopub.status.idle": "2021-03-29T07:20:30.285749Z",
     "shell.execute_reply": "2021-03-29T07:20:30.284479Z"
    },
    "papermill": {
     "duration": 892.606149,
     "end_time": "2021-03-29T07:20:30.286007",
     "exception": false,
     "start_time": "2021-03-29T07:05:37.679858",
     "status": "completed"
    },
    "tags": []
   },
   "outputs": [
    {
     "name": "stdout",
     "output_type": "stream",
     "text": [
      "Writing to Kaggle output...\n"
     ]
    }
   ],
   "source": [
    "print('Writing to Kaggle output...')\n",
    "\n",
    "dir_kaggle_output = Path('/kaggle/working')\n",
    "\n",
    "with zipfile.ZipFile(dir_kaggle_output/f'protein_{idx_subset}.zip', mode='w') as f:\n",
    "    \n",
    "    for n in dir_data_raw.ls():\n",
    "        f.write(n)\n",
    "        \n",
    "    for n in dir_crops_trn.ls():\n",
    "        f.write(n)"
   ]
  },
  {
   "cell_type": "code",
   "execution_count": null,
   "metadata": {
    "papermill": {
     "duration": 0.033122,
     "end_time": "2021-03-29T07:20:30.372041",
     "exception": false,
     "start_time": "2021-03-29T07:20:30.338919",
     "status": "completed"
    },
    "tags": []
   },
   "outputs": [],
   "source": []
  }
 ],
 "metadata": {
  "kernelspec": {
   "display_name": "Python 3",
   "language": "python",
   "name": "python3"
  },
  "language_info": {
   "codemirror_mode": {
    "name": "ipython",
    "version": 3
   },
   "file_extension": ".py",
   "mimetype": "text/x-python",
   "name": "python",
   "nbconvert_exporter": "python",
   "pygments_lexer": "ipython3",
   "version": "3.7.9"
  },
  "papermill": {
   "default_parameters": {},
   "duration": 4271.652862,
   "end_time": "2021-03-29T07:20:33.560443",
   "environment_variables": {},
   "exception": null,
   "input_path": "__notebook__.ipynb",
   "output_path": "__notebook__.ipynb",
   "parameters": {},
   "start_time": "2021-03-29T06:09:21.907581",
   "version": "2.2.2"
  }
 },
 "nbformat": 4,
 "nbformat_minor": 4
}
