{
 "cells": [
  {
   "cell_type": "code",
   "execution_count": 1,
   "metadata": {
    "execution": {
     "iopub.execute_input": "2021-04-08T07:53:20.481578Z",
     "iopub.status.busy": "2021-04-08T07:53:20.480885Z",
     "iopub.status.idle": "2021-04-08T07:53:20.486610Z",
     "shell.execute_reply": "2021-04-08T07:53:20.485795Z"
    },
    "papermill": {
     "duration": 0.018077,
     "end_time": "2021-04-08T07:53:20.486810",
     "exception": false,
     "start_time": "2021-04-08T07:53:20.468733",
     "status": "completed"
    },
    "tags": []
   },
   "outputs": [],
   "source": [
    "import pandas as pd"
   ]
  },
  {
   "cell_type": "code",
   "execution_count": 2,
   "metadata": {
    "execution": {
     "iopub.execute_input": "2021-04-08T07:53:20.501734Z",
     "iopub.status.busy": "2021-04-08T07:53:20.501039Z",
     "iopub.status.idle": "2021-04-08T07:53:20.504817Z",
     "shell.execute_reply": "2021-04-08T07:53:20.504152Z"
    },
    "papermill": {
     "duration": 0.013102,
     "end_time": "2021-04-08T07:53:20.504959",
     "exception": false,
     "start_time": "2021-04-08T07:53:20.491857",
     "status": "completed"
    },
    "tags": []
   },
   "outputs": [],
   "source": [
    "isubset = 1"
   ]
  },
  {
   "cell_type": "code",
   "execution_count": 3,
   "metadata": {
    "execution": {
     "iopub.execute_input": "2021-04-08T07:53:20.525476Z",
     "iopub.status.busy": "2021-04-08T07:53:20.523057Z",
     "iopub.status.idle": "2021-04-08T08:15:32.797954Z",
     "shell.execute_reply": "2021-04-08T08:15:32.796372Z"
    },
    "papermill": {
     "duration": 1332.288001,
     "end_time": "2021-04-08T08:15:32.798125",
     "exception": false,
     "start_time": "2021-04-08T07:53:20.510124",
     "status": "completed"
    },
    "tags": []
   },
   "outputs": [],
   "source": [
    "! unzip -qq /kaggle/input/humanpro-train-0{isubset}/protein_{isubset}.zip\n",
    "\n",
    "df_cells = pd.read_feather('/kaggle/working/kgl_humanprotein_data/protein/raw/train.feather')\n",
    "df_cells['subset'] = 0\n",
    "df_cells.to_feather('train.feather')\n",
    "\n",
    "! mv train.feather /kaggle/working/kgl_humanprotein_data/protein/train/.\n",
    "\n",
    "! mv /kaggle/working/kgl_humanprotein_data/protein/train /.\n",
    "\n",
    "! zip -qr humanpro_train_cells_subset{isubset}.zip /train \n"
   ]
  },
  {
   "cell_type": "code",
   "execution_count": null,
   "metadata": {
    "papermill": {
     "duration": 0.004744,
     "end_time": "2021-04-08T08:15:32.832562",
     "exception": false,
     "start_time": "2021-04-08T08:15:32.827818",
     "status": "completed"
    },
    "tags": []
   },
   "outputs": [],
   "source": []
  },
  {
   "cell_type": "code",
   "execution_count": null,
   "metadata": {
    "papermill": {
     "duration": 0.004476,
     "end_time": "2021-04-08T08:15:32.841915",
     "exception": false,
     "start_time": "2021-04-08T08:15:32.837439",
     "status": "completed"
    },
    "tags": []
   },
   "outputs": [],
   "source": []
  }
 ],
 "metadata": {
  "kernelspec": {
   "display_name": "Python 3",
   "language": "python",
   "name": "python3"
  },
  "language_info": {
   "codemirror_mode": {
    "name": "ipython",
    "version": 3
   },
   "file_extension": ".py",
   "mimetype": "text/x-python",
   "name": "python",
   "nbconvert_exporter": "python",
   "pygments_lexer": "ipython3",
   "version": "3.7.9"
  },
  "papermill": {
   "default_parameters": {},
   "duration": 1341.382284,
   "end_time": "2021-04-08T08:15:33.684989",
   "environment_variables": {},
   "exception": null,
   "input_path": "__notebook__.ipynb",
   "output_path": "__notebook__.ipynb",
   "parameters": {},
   "start_time": "2021-04-08T07:53:12.302705",
   "version": "2.2.2"
  }
 },
 "nbformat": 4,
 "nbformat_minor": 4
}
