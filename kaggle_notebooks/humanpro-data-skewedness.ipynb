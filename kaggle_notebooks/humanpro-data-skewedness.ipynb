{
 "cells": [
  {
   "cell_type": "markdown",
   "metadata": {
    "papermill": {
     "duration": 0.011243,
     "end_time": "2021-05-05T08:31:39.601813",
     "exception": false,
     "start_time": "2021-05-05T08:31:39.590570",
     "status": "completed"
    },
    "tags": []
   },
   "source": [
    "# Data Skewedeness"
   ]
  },
  {
   "cell_type": "code",
   "execution_count": 1,
   "metadata": {
    "_kg_hide-output": true,
    "collapsed": true,
    "execution": {
     "iopub.execute_input": "2021-05-05T08:31:39.655430Z",
     "iopub.status.busy": "2021-05-05T08:31:39.642805Z",
     "iopub.status.idle": "2021-05-05T08:34:12.229547Z",
     "shell.execute_reply": "2021-05-05T08:34:12.228532Z"
    },
    "jupyter": {
     "outputs_hidden": true
    },
    "papermill": {
     "duration": 152.617387,
     "end_time": "2021-05-05T08:34:12.229809",
     "exception": false,
     "start_time": "2021-05-05T08:31:39.612422",
     "status": "completed"
    },
    "tags": []
   },
   "outputs": [
    {
     "name": "stdout",
     "output_type": "stream",
     "text": [
      "Processing /kaggle/input/mmdetection-v280/src/mmpycocotools-12.0.3/mmpycocotools-12.0.3\r\n",
      "Requirement already satisfied: setuptools>=18.0 in /opt/conda/lib/python3.7/site-packages (from mmpycocotools==12.0.3) (49.6.0.post20201009)\r\n",
      "Requirement already satisfied: cython>=0.27.3 in /opt/conda/lib/python3.7/site-packages (from mmpycocotools==12.0.3) (0.29.21)\r\n",
      "Requirement already satisfied: matplotlib>=2.1.0 in /opt/conda/lib/python3.7/site-packages (from mmpycocotools==12.0.3) (3.3.3)\r\n",
      "Requirement already satisfied: cycler>=0.10 in /opt/conda/lib/python3.7/site-packages (from matplotlib>=2.1.0->mmpycocotools==12.0.3) (0.10.0)\r\n",
      "Requirement already satisfied: pillow>=6.2.0 in /opt/conda/lib/python3.7/site-packages (from matplotlib>=2.1.0->mmpycocotools==12.0.3) (7.2.0)\r\n",
      "Requirement already satisfied: pyparsing!=2.0.4,!=2.1.2,!=2.1.6,>=2.0.3 in /opt/conda/lib/python3.7/site-packages (from matplotlib>=2.1.0->mmpycocotools==12.0.3) (2.4.7)\r\n",
      "Requirement already satisfied: python-dateutil>=2.1 in /opt/conda/lib/python3.7/site-packages (from matplotlib>=2.1.0->mmpycocotools==12.0.3) (2.8.1)\r\n",
      "Requirement already satisfied: kiwisolver>=1.0.1 in /opt/conda/lib/python3.7/site-packages (from matplotlib>=2.1.0->mmpycocotools==12.0.3) (1.3.1)\r\n",
      "Requirement already satisfied: numpy>=1.15 in /opt/conda/lib/python3.7/site-packages (from matplotlib>=2.1.0->mmpycocotools==12.0.3) (1.19.5)\r\n",
      "Requirement already satisfied: six in /opt/conda/lib/python3.7/site-packages (from cycler>=0.10->matplotlib>=2.1.0->mmpycocotools==12.0.3) (1.15.0)\r\n",
      "Building wheels for collected packages: mmpycocotools\r\n",
      "  Building wheel for mmpycocotools (setup.py) ... \u001b[?25l-\b \b\\\b \b|\b \b/\b \b-\b \b\\\b \b|\b \b/\b \b-\b \bdone\r\n",
      "\u001b[?25h  Created wheel for mmpycocotools: filename=mmpycocotools-12.0.3-cp37-cp37m-linux_x86_64.whl size=272908 sha256=44d8993e8b6d4bace55a7908b24bd635fe48df52c3cfc13d6c99731be5c13b12\r\n",
      "  Stored in directory: /root/.cache/pip/wheels/80/e0/da/3288fdf3965b5c9090f368462db9d28be2c82013f51821090a\r\n",
      "Successfully built mmpycocotools\r\n",
      "Installing collected packages: mmpycocotools\r\n",
      "Successfully installed mmpycocotools-12.0.3\r\n",
      "Processing /kaggle/input/hpapytorchzoo/pytorch_zoo-master\r\n",
      "Building wheels for collected packages: pytorch-zoo\r\n",
      "  Building wheel for pytorch-zoo (setup.py) ... \u001b[?25l-\b \b\\\b \bdone\r\n",
      "\u001b[?25h  Created wheel for pytorch-zoo: filename=pytorch_zoo-0.0.0-py3-none-any.whl size=30139 sha256=dc9671a2eeb85e8e7fbb7ace2ff49f14d982dc12c14744a89dd27345d68851a6\r\n",
      "  Stored in directory: /root/.cache/pip/wheels/7f/18/21/aff5a8914e22461b2b025a9629c2b70464c36183caaf12bc09\r\n",
      "Successfully built pytorch-zoo\r\n",
      "Installing collected packages: pytorch-zoo\r\n",
      "Successfully installed pytorch-zoo-0.0.0\r\n",
      "Processing /kaggle/input/hpacellsegmentation/HPA-Cell-Segmentation\r\n",
      "Building wheels for collected packages: hpacellseg\r\n",
      "  Building wheel for hpacellseg (setup.py) ... \u001b[?25l-\b \b\\\b \bdone\r\n",
      "\u001b[?25h  Created wheel for hpacellseg: filename=hpacellseg-0.1.8-py3-none-any.whl size=14815 sha256=0ed134e33fba007227060d80267acb0c0c71f1da89856edd4b2215d7c4af5a8a\r\n",
      "  Stored in directory: /root/.cache/pip/wheels/50/41/15/9f15b23726cf96bdbc26670ce1c7526c719d4bce49418c1a20\r\n",
      "Successfully built hpacellseg\r\n",
      "Installing collected packages: hpacellseg\r\n",
      "Successfully installed hpacellseg-0.1.8\r\n",
      "Processing /kaggle/input/iterative-stratification/iterative-stratification-master\r\n",
      "Requirement already satisfied: numpy in /opt/conda/lib/python3.7/site-packages (from iterative-stratification==0.1.6) (1.19.5)\r\n",
      "Requirement already satisfied: scipy in /opt/conda/lib/python3.7/site-packages (from iterative-stratification==0.1.6) (1.5.4)\r\n",
      "Requirement already satisfied: scikit-learn in /opt/conda/lib/python3.7/site-packages (from iterative-stratification==0.1.6) (0.24.1)\r\n",
      "Requirement already satisfied: threadpoolctl>=2.0.0 in /opt/conda/lib/python3.7/site-packages (from scikit-learn->iterative-stratification==0.1.6) (2.1.0)\r\n",
      "Requirement already satisfied: joblib>=0.11 in /opt/conda/lib/python3.7/site-packages (from scikit-learn->iterative-stratification==0.1.6) (1.0.0)\r\n",
      "Building wheels for collected packages: iterative-stratification\r\n",
      "  Building wheel for iterative-stratification (setup.py) ... \u001b[?25l-\b \b\\\b \bdone\r\n",
      "\u001b[?25h  Created wheel for iterative-stratification: filename=iterative_stratification-0.1.6-py3-none-any.whl size=8401 sha256=928163da6dc7efc708a957ef8c537319ec92363ad2f6d8cc9e403bd4048b9b60\r\n",
      "  Stored in directory: /root/.cache/pip/wheels/b8/47/3f/eb4af42d124f37d23d6f13a4c8bbc32c1d70140e6e1cecb4aa\r\n",
      "Successfully built iterative-stratification\r\n",
      "Installing collected packages: iterative-stratification\r\n",
      "Successfully installed iterative-stratification-0.1.6\r\n"
     ]
    }
   ],
   "source": [
    "! rsync -a /kaggle/input/mmdetection-v280/mmdetection /\n",
    "! pip install /kaggle/input/mmdetection-v280/src/mmpycocotools-12.0.3/mmpycocotools-12.0.3/\n",
    "! pip install /kaggle/input/hpapytorchzoo/pytorch_zoo-master/\n",
    "! pip install /kaggle/input/hpacellsegmentation/HPA-Cell-Segmentation/\n",
    "! pip install /kaggle/input/iterative-stratification/iterative-stratification-master/\n",
    "\n",
    "! cp -r /kaggle/input/kgl-humanprotein-data/kgl_humanprotein_data /\n",
    "! cp -r /kaggle/input/humanpro/kgl_humanprotein /\n",
    "\n",
    "import sys\n",
    "sys.path.append('/kgl_humanprotein/')"
   ]
  },
  {
   "cell_type": "code",
   "execution_count": 2,
   "metadata": {
    "execution": {
     "iopub.execute_input": "2021-05-05T08:34:12.289023Z",
     "iopub.status.busy": "2021-05-05T08:34:12.288295Z",
     "iopub.status.idle": "2021-05-05T08:34:16.508262Z",
     "shell.execute_reply": "2021-05-05T08:34:16.507050Z"
    },
    "papermill": {
     "duration": 4.252478,
     "end_time": "2021-05-05T08:34:16.508431",
     "exception": false,
     "start_time": "2021-05-05T08:34:12.255953",
     "status": "completed"
    },
    "tags": []
   },
   "outputs": [
    {
     "name": "stdout",
     "output_type": "stream",
     "text": [
      "run on 1ea06715a297\n"
     ]
    }
   ],
   "source": [
    "import os\n",
    "import time\n",
    "from pathlib import Path\n",
    "import shutil\n",
    "import zipfile\n",
    "import functools\n",
    "import multiprocessing\n",
    "import numpy as np\n",
    "import pandas as pd\n",
    "import cv2\n",
    "from sklearn.model_selection import KFold,StratifiedKFold\n",
    "from iterstrat.ml_stratifiers import MultilabelStratifiedKFold\n",
    "import torch\n",
    "from torch.backends import cudnn\n",
    "from torch.utils.data import Dataset, DataLoader, RandomSampler, SequentialSampler\n",
    "from torch.nn import DataParallel\n",
    "import matplotlib.pyplot as plt\n",
    "from tqdm import tqdm\n",
    "\n",
    "from kgl_humanprotein.utils.common_util import *\n",
    "from kgl_humanprotein.config.config import *\n",
    "from kgl_humanprotein.data_process import *\n",
    "from kgl_humanprotein.datasets.tool import image_to_tensor\n",
    "from kgl_humanprotein.networks.imageclsnet import init_network\n",
    "from kgl_humanprotein.layers.loss import *\n",
    "from kgl_humanprotein.layers.scheduler import *\n",
    "from kgl_humanprotein.utils.augment_util import train_multi_augment2\n",
    "from kgl_humanprotein.utils.log_util import Logger\n",
    "from kgl_humanprotein.run.train import *"
   ]
  },
  {
   "cell_type": "code",
   "execution_count": 3,
   "metadata": {
    "execution": {
     "iopub.execute_input": "2021-05-05T08:34:16.559004Z",
     "iopub.status.busy": "2021-05-05T08:34:16.557958Z",
     "iopub.status.idle": "2021-05-05T08:34:16.563362Z",
     "shell.execute_reply": "2021-05-05T08:34:16.562686Z"
    },
    "papermill": {
     "duration": 0.032798,
     "end_time": "2021-05-05T08:34:16.563516",
     "exception": false,
     "start_time": "2021-05-05T08:34:16.530718",
     "status": "completed"
    },
    "tags": []
   },
   "outputs": [
    {
     "name": "stdout",
     "output_type": "stream",
     "text": [
      "/kaggle\n"
     ]
    }
   ],
   "source": [
    "%cd /kaggle"
   ]
  },
  {
   "cell_type": "code",
   "execution_count": 4,
   "metadata": {
    "execution": {
     "iopub.execute_input": "2021-05-05T08:34:16.615417Z",
     "iopub.status.busy": "2021-05-05T08:34:16.614361Z",
     "iopub.status.idle": "2021-05-05T08:34:16.618078Z",
     "shell.execute_reply": "2021-05-05T08:34:16.617548Z"
    },
    "papermill": {
     "duration": 0.032162,
     "end_time": "2021-05-05T08:34:16.618285",
     "exception": false,
     "start_time": "2021-05-05T08:34:16.586123",
     "status": "completed"
    },
    "tags": []
   },
   "outputs": [],
   "source": [
    "dir_data = Path('/kaggle/input')\n",
    "dir_mdata = Path('/kaggle/mdata')"
   ]
  },
  {
   "cell_type": "markdown",
   "metadata": {
    "papermill": {
     "duration": 0.022238,
     "end_time": "2021-05-05T08:34:16.663345",
     "exception": false,
     "start_time": "2021-05-05T08:34:16.641107",
     "status": "completed"
    },
    "tags": []
   },
   "source": [
    "# Data"
   ]
  },
  {
   "cell_type": "code",
   "execution_count": 5,
   "metadata": {
    "execution": {
     "iopub.execute_input": "2021-05-05T08:34:16.712845Z",
     "iopub.status.busy": "2021-05-05T08:34:16.712117Z",
     "iopub.status.idle": "2021-05-05T08:34:16.728423Z",
     "shell.execute_reply": "2021-05-05T08:34:16.728954Z"
    },
    "papermill": {
     "duration": 0.04254,
     "end_time": "2021-05-05T08:34:16.729150",
     "exception": false,
     "start_time": "2021-05-05T08:34:16.686610",
     "status": "completed"
    },
    "tags": []
   },
   "outputs": [],
   "source": [
    "def load_subset5_raw():\n",
    "    pth = Path('/kaggle/input/humanpro-train-cells-subset5/humanpro_train_cells_subset5/train/train.feather')\n",
    "    df = pd.read_feather(pth)\n",
    "    df['subset'] = 5\n",
    "    return df\n",
    "\n",
    "def load_subsets_raw():\n",
    "    df_0to4 = pd.read_feather('/kaggle/input/humanpro-raw-meta-channel-max/train.feather')    \n",
    "    df_5 = load_subset5_raw()\n",
    "    df = pd.concat([df_0to4, df_5], axis=0, ignore_index=True)\n",
    "    return df\n",
    "\n",
    "def load_pseudo_raw():\n",
    "    return pd.read_feather('/kaggle/input/humanpro-data-multilabel-cells-meta/train.feather')    \n",
    "\n",
    "def load_soft_pseudo_multi_labels(neg=False):\n",
    "    '''\n",
    "    `neg` True will return non-zero pseudo-label for the \"Negative\" class.\n",
    "    '''\n",
    "    pth = f\"/kaggle/input/humanpro-data-soft-pseudolabel/df_cells_softlabel{'_neg' if neg else ''}.feather\"\n",
    "    return pd.read_feather(pth)\n",
    "\n",
    "def seperate_single_multi_labels(df):\n",
    "    is_singlelabel = df.Target.apply(lambda o: len(o.split('|')) == 1)\n",
    "    return df[is_singlelabel], df[~is_singlelabel]\n",
    "\n",
    "def replace_multi_with_pseudo(df_orig_multi, df_pseudo):\n",
    "    df = pd.merge(df_orig_multi, df_pseudo[['Id', 'Target']], left_on='Id', right_on='Id', how='inner')\n",
    "    df.rename({'Target_x':'original_target', 'Target_y':'Target'}, axis=1, inplace=True)\n",
    "    return df\n",
    "\n",
    "def sort_target_labels(target):\n",
    "    labels = sorted(set(int(label) for label in target.split('|')))\n",
    "    target = '|'.join(str(label) for label in labels)\n",
    "    return target\n",
    "\n",
    "\n",
    "def get_label_nsample_summary(df, col_targ='Target', standard_scale=False):\n",
    "    '''\n",
    "    For each class label and target length, return the number\n",
    "    of samples.\n",
    "    '''\n",
    "    df = df.copy()\n",
    "    df['label_list'] = df[col_targ].apply(lambda targ: targ.split('|'))\n",
    "    df['target_length'] = df.label_list.apply(lambda label_list: len(label_list))\n",
    "    \n",
    "    labels = [str(label) for label in range(19)]\n",
    "    \n",
    "    summary = pd.concat(\n",
    "        [df[df.label_list.apply(lambda xs: f'{label}' in xs)].groupby('target_length').count().iloc[:,0]\n",
    "         for label in labels], \n",
    "        axis=1, keys=labels, names='label')\n",
    "    \n",
    "    summary.fillna(0, inplace=True)\n",
    "    \n",
    "    if standard_scale:\n",
    "        summary = summary.apply(lambda row: row / (row.max() - row.min()), axis=1)\n",
    "        \n",
    "    return summary"
   ]
  },
  {
   "cell_type": "code",
   "execution_count": 6,
   "metadata": {
    "execution": {
     "iopub.execute_input": "2021-05-05T08:34:16.778380Z",
     "iopub.status.busy": "2021-05-05T08:34:16.777668Z",
     "iopub.status.idle": "2021-05-05T08:34:35.496820Z",
     "shell.execute_reply": "2021-05-05T08:34:35.495918Z"
    },
    "papermill": {
     "duration": 18.745414,
     "end_time": "2021-05-05T08:34:35.497282",
     "exception": false,
     "start_time": "2021-05-05T08:34:16.751868",
     "status": "completed"
    },
    "tags": []
   },
   "outputs": [
    {
     "name": "stdout",
     "output_type": "stream",
     "text": [
      "CPU times: user 5.28 s, sys: 6.39 s, total: 11.7 s\n",
      "Wall time: 18.7 s\n"
     ]
    },
    {
     "data": {
      "text/plain": [
       "(526066, 9)"
      ]
     },
     "execution_count": 6,
     "metadata": {},
     "output_type": "execute_result"
    }
   ],
   "source": [
    "%%time\n",
    "\n",
    "df_orig = load_subsets_raw()\n",
    "df_orig['Target'] = df_orig.Target.apply(sort_target_labels)\n",
    "\n",
    "df_orig.shape"
   ]
  },
  {
   "cell_type": "markdown",
   "metadata": {
    "papermill": {
     "duration": 0.023632,
     "end_time": "2021-05-05T08:34:35.549249",
     "exception": false,
     "start_time": "2021-05-05T08:34:35.525617",
     "status": "completed"
    },
    "tags": []
   },
   "source": [
    "# Identify under-represented classes at each target length"
   ]
  },
  {
   "cell_type": "code",
   "execution_count": 7,
   "metadata": {
    "execution": {
     "iopub.execute_input": "2021-05-05T08:34:35.611203Z",
     "iopub.status.busy": "2021-05-05T08:34:35.610494Z",
     "iopub.status.idle": "2021-05-05T08:34:35.614990Z",
     "shell.execute_reply": "2021-05-05T08:34:35.614117Z"
    },
    "papermill": {
     "duration": 0.042269,
     "end_time": "2021-05-05T08:34:35.615159",
     "exception": false,
     "start_time": "2021-05-05T08:34:35.572890",
     "status": "completed"
    },
    "tags": []
   },
   "outputs": [],
   "source": [
    "def get_label_nsample_summary(df, col_targ='Target', standard_scale=False):\n",
    "    '''\n",
    "    For each class label and target length, return the number\n",
    "    of samples.\n",
    "    '''\n",
    "    df = df.copy()\n",
    "    df['label_list'] = df[col_targ].apply(lambda targ: targ.split('|'))\n",
    "    df['target_length'] = df.label_list.apply(lambda label_list: len(label_list))\n",
    "    \n",
    "    labels = [str(label) for label in range(19)]\n",
    "    \n",
    "    summary = pd.concat(\n",
    "        [df[df.label_list.apply(lambda xs: f'{label}' in xs)].groupby('target_length').count().iloc[:,0]\n",
    "         for label in labels], \n",
    "        axis=1, keys=labels, names='label')\n",
    "    \n",
    "    summary.fillna(0, inplace=True)\n",
    "    \n",
    "    if standard_scale:\n",
    "        summary = summary.apply(lambda row: row / (row.max() - row.min()), axis=1)\n",
    "        \n",
    "    return summary"
   ]
  },
  {
   "cell_type": "code",
   "execution_count": 8,
   "metadata": {
    "execution": {
     "iopub.execute_input": "2021-05-05T08:34:35.670373Z",
     "iopub.status.busy": "2021-05-05T08:34:35.669658Z",
     "iopub.status.idle": "2021-05-05T08:34:42.406745Z",
     "shell.execute_reply": "2021-05-05T08:34:42.405650Z"
    },
    "papermill": {
     "duration": 6.766794,
     "end_time": "2021-05-05T08:34:42.406917",
     "exception": false,
     "start_time": "2021-05-05T08:34:35.640123",
     "status": "completed"
    },
    "tags": []
   },
   "outputs": [],
   "source": [
    "label_summary = get_label_nsample_summary(df_orig, col_targ='Target',)"
   ]
  },
  {
   "cell_type": "code",
   "execution_count": 9,
   "metadata": {
    "execution": {
     "iopub.execute_input": "2021-05-05T08:34:42.527906Z",
     "iopub.status.busy": "2021-05-05T08:34:42.527175Z",
     "iopub.status.idle": "2021-05-05T08:34:42.567376Z",
     "shell.execute_reply": "2021-05-05T08:34:42.565407Z"
    },
    "papermill": {
     "duration": 0.105901,
     "end_time": "2021-05-05T08:34:42.567771",
     "exception": false,
     "start_time": "2021-05-05T08:34:42.461870",
     "status": "completed"
    },
    "tags": []
   },
   "outputs": [
    {
     "data": {
      "text/html": [
       "<div>\n",
       "<style scoped>\n",
       "    .dataframe tbody tr th:only-of-type {\n",
       "        vertical-align: middle;\n",
       "    }\n",
       "\n",
       "    .dataframe tbody tr th {\n",
       "        vertical-align: top;\n",
       "    }\n",
       "\n",
       "    .dataframe thead th {\n",
       "        text-align: right;\n",
       "    }\n",
       "</style>\n",
       "<table border=\"1\" class=\"dataframe\">\n",
       "  <thead>\n",
       "    <tr style=\"text-align: right;\">\n",
       "      <th>label</th>\n",
       "      <th>0</th>\n",
       "      <th>1</th>\n",
       "      <th>2</th>\n",
       "      <th>3</th>\n",
       "      <th>4</th>\n",
       "      <th>5</th>\n",
       "      <th>6</th>\n",
       "      <th>7</th>\n",
       "      <th>8</th>\n",
       "      <th>9</th>\n",
       "      <th>10</th>\n",
       "      <th>11</th>\n",
       "      <th>12</th>\n",
       "      <th>13</th>\n",
       "      <th>14</th>\n",
       "      <th>15</th>\n",
       "      <th>16</th>\n",
       "      <th>17</th>\n",
       "      <th>18</th>\n",
       "    </tr>\n",
       "    <tr>\n",
       "      <th>target_length</th>\n",
       "      <th></th>\n",
       "      <th></th>\n",
       "      <th></th>\n",
       "      <th></th>\n",
       "      <th></th>\n",
       "      <th></th>\n",
       "      <th></th>\n",
       "      <th></th>\n",
       "      <th></th>\n",
       "      <th></th>\n",
       "      <th></th>\n",
       "      <th></th>\n",
       "      <th></th>\n",
       "      <th></th>\n",
       "      <th></th>\n",
       "      <th></th>\n",
       "      <th></th>\n",
       "      <th></th>\n",
       "      <th></th>\n",
       "    </tr>\n",
       "  </thead>\n",
       "  <tbody>\n",
       "    <tr>\n",
       "      <th>1</th>\n",
       "      <td>37472</td>\n",
       "      <td>4845.0</td>\n",
       "      <td>12672</td>\n",
       "      <td>12882</td>\n",
       "      <td>17527</td>\n",
       "      <td>15337</td>\n",
       "      <td>10198.0</td>\n",
       "      <td>18825</td>\n",
       "      <td>11194.0</td>\n",
       "      <td>5400</td>\n",
       "      <td>7789.0</td>\n",
       "      <td>172</td>\n",
       "      <td>13952</td>\n",
       "      <td>22395</td>\n",
       "      <td>27494</td>\n",
       "      <td>2275.0</td>\n",
       "      <td>22738</td>\n",
       "      <td>6130</td>\n",
       "      <td>952.0</td>\n",
       "    </tr>\n",
       "    <tr>\n",
       "      <th>2</th>\n",
       "      <td>120356</td>\n",
       "      <td>11553.0</td>\n",
       "      <td>27083</td>\n",
       "      <td>10412</td>\n",
       "      <td>10598</td>\n",
       "      <td>18921</td>\n",
       "      <td>4479.0</td>\n",
       "      <td>18181</td>\n",
       "      <td>6109.0</td>\n",
       "      <td>7679</td>\n",
       "      <td>6106.0</td>\n",
       "      <td>3188</td>\n",
       "      <td>20693</td>\n",
       "      <td>30686</td>\n",
       "      <td>15909</td>\n",
       "      <td>3187.0</td>\n",
       "      <td>68767</td>\n",
       "      <td>4255</td>\n",
       "      <td>0.0</td>\n",
       "    </tr>\n",
       "    <tr>\n",
       "      <th>3</th>\n",
       "      <td>52750</td>\n",
       "      <td>6671.0</td>\n",
       "      <td>15999</td>\n",
       "      <td>5006</td>\n",
       "      <td>4311</td>\n",
       "      <td>8577</td>\n",
       "      <td>4170.0</td>\n",
       "      <td>10433</td>\n",
       "      <td>2405.0</td>\n",
       "      <td>4095</td>\n",
       "      <td>3878.0</td>\n",
       "      <td>3083</td>\n",
       "      <td>8010</td>\n",
       "      <td>19875</td>\n",
       "      <td>5011</td>\n",
       "      <td>1639.0</td>\n",
       "      <td>41741</td>\n",
       "      <td>22507</td>\n",
       "      <td>0.0</td>\n",
       "    </tr>\n",
       "    <tr>\n",
       "      <th>4</th>\n",
       "      <td>7135</td>\n",
       "      <td>1993.0</td>\n",
       "      <td>3205</td>\n",
       "      <td>873</td>\n",
       "      <td>274</td>\n",
       "      <td>1078</td>\n",
       "      <td>345.0</td>\n",
       "      <td>1674</td>\n",
       "      <td>620.0</td>\n",
       "      <td>1115</td>\n",
       "      <td>223.0</td>\n",
       "      <td>94</td>\n",
       "      <td>1438</td>\n",
       "      <td>3717</td>\n",
       "      <td>486</td>\n",
       "      <td>122.0</td>\n",
       "      <td>6639</td>\n",
       "      <td>1621</td>\n",
       "      <td>0.0</td>\n",
       "    </tr>\n",
       "    <tr>\n",
       "      <th>5</th>\n",
       "      <td>186</td>\n",
       "      <td>0.0</td>\n",
       "      <td>34</td>\n",
       "      <td>32</td>\n",
       "      <td>63</td>\n",
       "      <td>32</td>\n",
       "      <td>0.0</td>\n",
       "      <td>34</td>\n",
       "      <td>0.0</td>\n",
       "      <td>57</td>\n",
       "      <td>0.0</td>\n",
       "      <td>63</td>\n",
       "      <td>34</td>\n",
       "      <td>120</td>\n",
       "      <td>32</td>\n",
       "      <td>0.0</td>\n",
       "      <td>186</td>\n",
       "      <td>57</td>\n",
       "      <td>0.0</td>\n",
       "    </tr>\n",
       "  </tbody>\n",
       "</table>\n",
       "</div>"
      ],
      "text/plain": [
       "label               0        1      2      3      4      5        6      7  \\\n",
       "target_length                                                                \n",
       "1               37472   4845.0  12672  12882  17527  15337  10198.0  18825   \n",
       "2              120356  11553.0  27083  10412  10598  18921   4479.0  18181   \n",
       "3               52750   6671.0  15999   5006   4311   8577   4170.0  10433   \n",
       "4                7135   1993.0   3205    873    274   1078    345.0   1674   \n",
       "5                 186      0.0     34     32     63     32      0.0     34   \n",
       "\n",
       "label                8     9      10    11     12     13     14      15  \\\n",
       "target_length                                                             \n",
       "1              11194.0  5400  7789.0   172  13952  22395  27494  2275.0   \n",
       "2               6109.0  7679  6106.0  3188  20693  30686  15909  3187.0   \n",
       "3               2405.0  4095  3878.0  3083   8010  19875   5011  1639.0   \n",
       "4                620.0  1115   223.0    94   1438   3717    486   122.0   \n",
       "5                  0.0    57     0.0    63     34    120     32     0.0   \n",
       "\n",
       "label             16     17     18  \n",
       "target_length                       \n",
       "1              22738   6130  952.0  \n",
       "2              68767   4255    0.0  \n",
       "3              41741  22507    0.0  \n",
       "4               6639   1621    0.0  \n",
       "5                186     57    0.0  "
      ]
     },
     "execution_count": 9,
     "metadata": {},
     "output_type": "execute_result"
    }
   ],
   "source": [
    "label_summary"
   ]
  },
  {
   "cell_type": "markdown",
   "metadata": {
    "papermill": {
     "duration": 0.053913,
     "end_time": "2021-05-05T08:34:42.674912",
     "exception": false,
     "start_time": "2021-05-05T08:34:42.620999",
     "status": "completed"
    },
    "tags": []
   },
   "source": [
    "1. At each target length, some labels have fewer samples than others.\n",
    "2. Images can be looked for that contain the under-represented labels at this target length, to boost their numbers.\n",
    "3. This might also boost the number of samples for labels that are already in abundance, so there's no guarantee that this will reduce skewedness at this target length.  "
   ]
  },
  {
   "cell_type": "code",
   "execution_count": 10,
   "metadata": {
    "execution": {
     "iopub.execute_input": "2021-05-05T08:34:42.787016Z",
     "iopub.status.busy": "2021-05-05T08:34:42.782534Z",
     "iopub.status.idle": "2021-05-05T08:34:42.798970Z",
     "shell.execute_reply": "2021-05-05T08:34:42.797601Z"
    },
    "papermill": {
     "duration": 0.075909,
     "end_time": "2021-05-05T08:34:42.799548",
     "exception": false,
     "start_time": "2021-05-05T08:34:42.723639",
     "status": "completed"
    },
    "tags": []
   },
   "outputs": [
    {
     "data": {
      "text/plain": [
       "{1: [11, 18],\n",
       " 2: [18],\n",
       " 3: [18],\n",
       " 4: [3, 4, 6, 8, 10, 11, 14, 15, 18],\n",
       " 5: [0, 1, 2, 3, 4, 5, 6, 7, 8, 9, 10, 11, 12, 13, 14, 15, 16, 17, 18]}"
      ]
     },
     "execution_count": 10,
     "metadata": {},
     "output_type": "execute_result"
    }
   ],
   "source": [
    "underreps = {i: list(np.where(r.values < 1_000)[0]) for i, r in label_summary.iterrows()}\n",
    "underreps"
   ]
  },
  {
   "cell_type": "code",
   "execution_count": null,
   "metadata": {
    "papermill": {
     "duration": 0.024934,
     "end_time": "2021-05-05T08:34:42.851698",
     "exception": false,
     "start_time": "2021-05-05T08:34:42.826764",
     "status": "completed"
    },
    "tags": []
   },
   "outputs": [],
   "source": []
  },
  {
   "cell_type": "code",
   "execution_count": null,
   "metadata": {
    "papermill": {
     "duration": 0.045167,
     "end_time": "2021-05-05T08:34:42.922662",
     "exception": false,
     "start_time": "2021-05-05T08:34:42.877495",
     "status": "completed"
    },
    "tags": []
   },
   "outputs": [],
   "source": []
  }
 ],
 "metadata": {
  "kernelspec": {
   "display_name": "Python 3",
   "language": "python",
   "name": "python3"
  },
  "language_info": {
   "codemirror_mode": {
    "name": "ipython",
    "version": 3
   },
   "file_extension": ".py",
   "mimetype": "text/x-python",
   "name": "python",
   "nbconvert_exporter": "python",
   "pygments_lexer": "ipython3",
   "version": "3.7.9"
  },
  "papermill": {
   "default_parameters": {},
   "duration": 191.269217,
   "end_time": "2021-05-05T08:34:44.700066",
   "environment_variables": {},
   "exception": null,
   "input_path": "__notebook__.ipynb",
   "output_path": "__notebook__.ipynb",
   "parameters": {},
   "start_time": "2021-05-05T08:31:33.430849",
   "version": "2.2.2"
  }
 },
 "nbformat": 4,
 "nbformat_minor": 4
}
