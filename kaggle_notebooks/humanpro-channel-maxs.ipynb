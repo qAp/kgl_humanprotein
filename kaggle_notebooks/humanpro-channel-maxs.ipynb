{
 "cells": [
  {
   "cell_type": "markdown",
   "metadata": {
    "papermill": {
     "duration": 0.013389,
     "end_time": "2021-04-21T07:35:53.034811",
     "exception": false,
     "start_time": "2021-04-21T07:35:53.021422",
     "status": "completed"
    },
    "tags": []
   },
   "source": [
    "# Record maximum value of each of the RGBY channels in raw meta data"
   ]
  },
  {
   "cell_type": "code",
   "execution_count": 1,
   "metadata": {
    "_kg_hide-output": true,
    "collapsed": true,
    "execution": {
     "iopub.execute_input": "2021-04-21T07:35:53.080302Z",
     "iopub.status.busy": "2021-04-21T07:35:53.068418Z",
     "iopub.status.idle": "2021-04-21T07:38:21.782115Z",
     "shell.execute_reply": "2021-04-21T07:38:21.781199Z"
    },
    "jupyter": {
     "outputs_hidden": true
    },
    "papermill": {
     "duration": 148.735126,
     "end_time": "2021-04-21T07:38:21.782348",
     "exception": false,
     "start_time": "2021-04-21T07:35:53.047222",
     "status": "completed"
    },
    "tags": []
   },
   "outputs": [
    {
     "name": "stdout",
     "output_type": "stream",
     "text": [
      "Processing /kaggle/input/mmdetection-v280/src/mmpycocotools-12.0.3/mmpycocotools-12.0.3\r\n",
      "Requirement already satisfied: setuptools>=18.0 in /opt/conda/lib/python3.7/site-packages (from mmpycocotools==12.0.3) (49.6.0.post20201009)\r\n",
      "Requirement already satisfied: cython>=0.27.3 in /opt/conda/lib/python3.7/site-packages (from mmpycocotools==12.0.3) (0.29.21)\r\n",
      "Requirement already satisfied: matplotlib>=2.1.0 in /opt/conda/lib/python3.7/site-packages (from mmpycocotools==12.0.3) (3.3.3)\r\n",
      "Requirement already satisfied: cycler>=0.10 in /opt/conda/lib/python3.7/site-packages (from matplotlib>=2.1.0->mmpycocotools==12.0.3) (0.10.0)\r\n",
      "Requirement already satisfied: pillow>=6.2.0 in /opt/conda/lib/python3.7/site-packages (from matplotlib>=2.1.0->mmpycocotools==12.0.3) (7.2.0)\r\n",
      "Requirement already satisfied: kiwisolver>=1.0.1 in /opt/conda/lib/python3.7/site-packages (from matplotlib>=2.1.0->mmpycocotools==12.0.3) (1.3.1)\r\n",
      "Requirement already satisfied: pyparsing!=2.0.4,!=2.1.2,!=2.1.6,>=2.0.3 in /opt/conda/lib/python3.7/site-packages (from matplotlib>=2.1.0->mmpycocotools==12.0.3) (2.4.7)\r\n",
      "Requirement already satisfied: python-dateutil>=2.1 in /opt/conda/lib/python3.7/site-packages (from matplotlib>=2.1.0->mmpycocotools==12.0.3) (2.8.1)\r\n",
      "Requirement already satisfied: numpy>=1.15 in /opt/conda/lib/python3.7/site-packages (from matplotlib>=2.1.0->mmpycocotools==12.0.3) (1.19.5)\r\n",
      "Requirement already satisfied: six in /opt/conda/lib/python3.7/site-packages (from cycler>=0.10->matplotlib>=2.1.0->mmpycocotools==12.0.3) (1.15.0)\r\n",
      "Building wheels for collected packages: mmpycocotools\r\n",
      "  Building wheel for mmpycocotools (setup.py) ... \u001b[?25l-\b \b\\\b \b|\b \b/\b \b-\b \b\\\b \b|\b \b/\b \b-\b \bdone\r\n",
      "\u001b[?25h  Created wheel for mmpycocotools: filename=mmpycocotools-12.0.3-cp37-cp37m-linux_x86_64.whl size=272908 sha256=fc7fdcf735de49f70e4ccb674846f8007c24cf1aacbcf7eee45dd81e22d45e0e\r\n",
      "  Stored in directory: /root/.cache/pip/wheels/80/e0/da/3288fdf3965b5c9090f368462db9d28be2c82013f51821090a\r\n",
      "Successfully built mmpycocotools\r\n",
      "Installing collected packages: mmpycocotools\r\n",
      "Successfully installed mmpycocotools-12.0.3\r\n",
      "Processing /kaggle/input/hpapytorchzoo/pytorch_zoo-master\r\n",
      "Building wheels for collected packages: pytorch-zoo\r\n",
      "  Building wheel for pytorch-zoo (setup.py) ... \u001b[?25l-\b \b\\\b \bdone\r\n",
      "\u001b[?25h  Created wheel for pytorch-zoo: filename=pytorch_zoo-0.0.0-py3-none-any.whl size=30139 sha256=a64e73b472f697bdcb1b3ffb4272166df25e06fe8e28d0311e98f4be5ba7fc5e\r\n",
      "  Stored in directory: /root/.cache/pip/wheels/7f/18/21/aff5a8914e22461b2b025a9629c2b70464c36183caaf12bc09\r\n",
      "Successfully built pytorch-zoo\r\n",
      "Installing collected packages: pytorch-zoo\r\n",
      "Successfully installed pytorch-zoo-0.0.0\r\n",
      "Processing /kaggle/input/hpacellsegmentation/HPA-Cell-Segmentation\r\n",
      "Building wheels for collected packages: hpacellseg\r\n",
      "  Building wheel for hpacellseg (setup.py) ... \u001b[?25l-\b \b\\\b \bdone\r\n",
      "\u001b[?25h  Created wheel for hpacellseg: filename=hpacellseg-0.1.8-py3-none-any.whl size=14815 sha256=ceb046a48d5ca65001649d394bc2ba3d1c2c832b8165cc29888c9d88be8c5488\r\n",
      "  Stored in directory: /root/.cache/pip/wheels/50/41/15/9f15b23726cf96bdbc26670ce1c7526c719d4bce49418c1a20\r\n",
      "Successfully built hpacellseg\r\n",
      "Installing collected packages: hpacellseg\r\n",
      "Successfully installed hpacellseg-0.1.8\r\n",
      "Processing /kaggle/input/iterative-stratification/iterative-stratification-master\r\n",
      "Requirement already satisfied: numpy in /opt/conda/lib/python3.7/site-packages (from iterative-stratification==0.1.6) (1.19.5)\r\n",
      "Requirement already satisfied: scipy in /opt/conda/lib/python3.7/site-packages (from iterative-stratification==0.1.6) (1.5.4)\r\n",
      "Requirement already satisfied: scikit-learn in /opt/conda/lib/python3.7/site-packages (from iterative-stratification==0.1.6) (0.24.1)\r\n",
      "Requirement already satisfied: joblib>=0.11 in /opt/conda/lib/python3.7/site-packages (from scikit-learn->iterative-stratification==0.1.6) (1.0.0)\r\n",
      "Requirement already satisfied: threadpoolctl>=2.0.0 in /opt/conda/lib/python3.7/site-packages (from scikit-learn->iterative-stratification==0.1.6) (2.1.0)\r\n",
      "Building wheels for collected packages: iterative-stratification\r\n",
      "  Building wheel for iterative-stratification (setup.py) ... \u001b[?25l-\b \b\\\b \bdone\r\n",
      "\u001b[?25h  Created wheel for iterative-stratification: filename=iterative_stratification-0.1.6-py3-none-any.whl size=8401 sha256=2d40a2da7fb940aeab3f6def5f4f58ed0f157470c25acc8bcb48e3864fb5d604\r\n",
      "  Stored in directory: /root/.cache/pip/wheels/b8/47/3f/eb4af42d124f37d23d6f13a4c8bbc32c1d70140e6e1cecb4aa\r\n",
      "Successfully built iterative-stratification\r\n",
      "Installing collected packages: iterative-stratification\r\n",
      "Successfully installed iterative-stratification-0.1.6\r\n"
     ]
    }
   ],
   "source": [
    "! rsync -a /kaggle/input/mmdetection-v280/mmdetection /\n",
    "! pip install /kaggle/input/mmdetection-v280/src/mmpycocotools-12.0.3/mmpycocotools-12.0.3/\n",
    "! pip install /kaggle/input/hpapytorchzoo/pytorch_zoo-master/\n",
    "! pip install /kaggle/input/hpacellsegmentation/HPA-Cell-Segmentation/\n",
    "! pip install /kaggle/input/iterative-stratification/iterative-stratification-master/\n",
    "\n",
    "! cp -r /kaggle/input/kgl-humanprotein-data/kgl_humanprotein_data /\n",
    "! cp -r /kaggle/input/humanpro/kgl_humanprotein /\n",
    "\n",
    "import sys\n",
    "sys.path.append('/kgl_humanprotein/')"
   ]
  },
  {
   "cell_type": "code",
   "execution_count": 2,
   "metadata": {
    "execution": {
     "iopub.execute_input": "2021-04-21T07:38:21.841664Z",
     "iopub.status.busy": "2021-04-21T07:38:21.840934Z",
     "iopub.status.idle": "2021-04-21T07:38:25.972125Z",
     "shell.execute_reply": "2021-04-21T07:38:25.971059Z"
    },
    "papermill": {
     "duration": 4.165991,
     "end_time": "2021-04-21T07:38:25.972311",
     "exception": false,
     "start_time": "2021-04-21T07:38:21.806320",
     "status": "completed"
    },
    "tags": []
   },
   "outputs": [
    {
     "name": "stdout",
     "output_type": "stream",
     "text": [
      "run on 230322a9e782\n"
     ]
    }
   ],
   "source": [
    "import os\n",
    "import time\n",
    "from pathlib import Path\n",
    "import shutil\n",
    "import zipfile\n",
    "import functools\n",
    "import multiprocessing\n",
    "import numpy as np\n",
    "import pandas as pd\n",
    "import cv2\n",
    "from sklearn.model_selection import KFold,StratifiedKFold\n",
    "from iterstrat.ml_stratifiers import MultilabelStratifiedKFold\n",
    "import torch\n",
    "from torch.backends import cudnn\n",
    "from torch.utils.data import Dataset, DataLoader, RandomSampler, SequentialSampler\n",
    "from torch.nn import DataParallel\n",
    "import matplotlib.pyplot as plt\n",
    "from tqdm import tqdm\n",
    "\n",
    "from kgl_humanprotein.utils.common_util import *\n",
    "from kgl_humanprotein.config.config import *\n",
    "from kgl_humanprotein.data_process import *\n",
    "from kgl_humanprotein.datasets.tool import image_to_tensor\n",
    "from kgl_humanprotein.networks.imageclsnet import init_network\n",
    "from kgl_humanprotein.layers.loss import *\n",
    "from kgl_humanprotein.layers.scheduler import *\n",
    "from kgl_humanprotein.utils.augment_util import train_multi_augment2\n",
    "from kgl_humanprotein.utils.log_util import Logger\n",
    "from kgl_humanprotein.run.train import *"
   ]
  },
  {
   "cell_type": "code",
   "execution_count": 3,
   "metadata": {
    "execution": {
     "iopub.execute_input": "2021-04-21T07:38:26.028263Z",
     "iopub.status.busy": "2021-04-21T07:38:26.027231Z",
     "iopub.status.idle": "2021-04-21T07:38:26.033941Z",
     "shell.execute_reply": "2021-04-21T07:38:26.032843Z"
    },
    "papermill": {
     "duration": 0.037084,
     "end_time": "2021-04-21T07:38:26.034239",
     "exception": false,
     "start_time": "2021-04-21T07:38:25.997155",
     "status": "completed"
    },
    "tags": []
   },
   "outputs": [
    {
     "name": "stdout",
     "output_type": "stream",
     "text": [
      "/kaggle\n"
     ]
    }
   ],
   "source": [
    "%cd /kaggle"
   ]
  },
  {
   "cell_type": "code",
   "execution_count": 4,
   "metadata": {
    "execution": {
     "iopub.execute_input": "2021-04-21T07:38:26.090322Z",
     "iopub.status.busy": "2021-04-21T07:38:26.089636Z",
     "iopub.status.idle": "2021-04-21T07:38:26.093323Z",
     "shell.execute_reply": "2021-04-21T07:38:26.093759Z"
    },
    "papermill": {
     "duration": 0.033674,
     "end_time": "2021-04-21T07:38:26.093948",
     "exception": false,
     "start_time": "2021-04-21T07:38:26.060274",
     "status": "completed"
    },
    "tags": []
   },
   "outputs": [],
   "source": [
    "dir_data = Path('/kaggle/input')\n",
    "dir_mdata = Path('/kaggle/mdata')"
   ]
  },
  {
   "cell_type": "code",
   "execution_count": 5,
   "metadata": {
    "execution": {
     "iopub.execute_input": "2021-04-21T07:38:26.148087Z",
     "iopub.status.busy": "2021-04-21T07:38:26.147348Z",
     "iopub.status.idle": "2021-04-21T07:38:26.151198Z",
     "shell.execute_reply": "2021-04-21T07:38:26.150540Z"
    },
    "papermill": {
     "duration": 0.033318,
     "end_time": "2021-04-21T07:38:26.151367",
     "exception": false,
     "start_time": "2021-04-21T07:38:26.118049",
     "status": "completed"
    },
    "tags": []
   },
   "outputs": [],
   "source": [
    "CPU_COUNT = multiprocessing.cpu_count()"
   ]
  },
  {
   "cell_type": "code",
   "execution_count": 6,
   "metadata": {
    "execution": {
     "iopub.execute_input": "2021-04-21T07:38:26.210440Z",
     "iopub.status.busy": "2021-04-21T07:38:26.209462Z",
     "iopub.status.idle": "2021-04-21T07:38:35.111506Z",
     "shell.execute_reply": "2021-04-21T07:38:35.110461Z"
    },
    "papermill": {
     "duration": 8.935121,
     "end_time": "2021-04-21T07:38:35.111735",
     "exception": false,
     "start_time": "2021-04-21T07:38:26.176614",
     "status": "completed"
    },
    "tags": []
   },
   "outputs": [
    {
     "name": "stdout",
     "output_type": "stream",
     "text": [
      "Processing subset 4...CPU times: user 1.84 s, sys: 1.83 s, total: 3.67 s\n",
      "Wall time: 8.9 s\n"
     ]
    }
   ],
   "source": [
    "%%time\n",
    "\n",
    "n_subsets = 5\n",
    "df_cells = combine_subsets_metadata(dir_data, n_subsets)"
   ]
  },
  {
   "cell_type": "code",
   "execution_count": 7,
   "metadata": {
    "execution": {
     "iopub.execute_input": "2021-04-21T07:38:35.174869Z",
     "iopub.status.busy": "2021-04-21T07:38:35.173480Z",
     "iopub.status.idle": "2021-04-21T07:38:35.178691Z",
     "shell.execute_reply": "2021-04-21T07:38:35.178035Z"
    },
    "papermill": {
     "duration": 0.04011,
     "end_time": "2021-04-21T07:38:35.178852",
     "exception": false,
     "start_time": "2021-04-21T07:38:35.138742",
     "status": "completed"
    },
    "tags": []
   },
   "outputs": [
    {
     "data": {
      "text/plain": [
       "2.7215055555555554"
      ]
     },
     "execution_count": 7,
     "metadata": {},
     "output_type": "execute_result"
    }
   ],
   "source": [
    "len(df_cells) / 1000 * 20 / 60**2"
   ]
  },
  {
   "cell_type": "code",
   "execution_count": 8,
   "metadata": {
    "execution": {
     "iopub.execute_input": "2021-04-21T07:38:35.241115Z",
     "iopub.status.busy": "2021-04-21T07:38:35.240427Z",
     "iopub.status.idle": "2021-04-21T07:38:35.713519Z",
     "shell.execute_reply": "2021-04-21T07:38:35.714100Z"
    },
    "papermill": {
     "duration": 0.506683,
     "end_time": "2021-04-21T07:38:35.714312",
     "exception": false,
     "start_time": "2021-04-21T07:38:35.207629",
     "status": "completed"
    },
    "tags": []
   },
   "outputs": [],
   "source": [
    "nsample = len(df_cells)\n",
    "df_cells = df_cells.sample(nsample).reset_index(drop=True)"
   ]
  },
  {
   "cell_type": "code",
   "execution_count": 9,
   "metadata": {
    "execution": {
     "iopub.execute_input": "2021-04-21T07:38:35.778797Z",
     "iopub.status.busy": "2021-04-21T07:38:35.778022Z",
     "iopub.status.idle": "2021-04-21T07:38:35.781401Z",
     "shell.execute_reply": "2021-04-21T07:38:35.780827Z"
    },
    "papermill": {
     "duration": 0.03851,
     "end_time": "2021-04-21T07:38:35.781558",
     "exception": false,
     "start_time": "2021-04-21T07:38:35.743048",
     "status": "completed"
    },
    "tags": []
   },
   "outputs": [],
   "source": [
    "def load_image(r, dir_data):\n",
    "    dir_img = (dir_data\n",
    "               /f'humanpro-train-cells-subset{r.subset}'\n",
    "               /f'humanpro_train_cells_subset{r.subset}'/'train'/'images_384')\n",
    "    img = load_RGBY_image(dir_img, r.Id)\n",
    "    return img\n",
    "\n",
    "def get_max_rgby(img):\n",
    "    return np.array([np.max(img[...,i]) for i in range(img.shape[-1])])\n",
    "\n",
    "def iget_max_rgby(i):\n",
    "    r = df_cells.iloc[i]\n",
    "    img = load_image(r, dir_data)\n",
    "    chmax = get_max_rgby(img)\n",
    "    return chmax"
   ]
  },
  {
   "cell_type": "code",
   "execution_count": 10,
   "metadata": {
    "execution": {
     "iopub.execute_input": "2021-04-21T07:38:35.844518Z",
     "iopub.status.busy": "2021-04-21T07:38:35.843454Z",
     "iopub.status.idle": "2021-04-21T09:43:42.046873Z",
     "shell.execute_reply": "2021-04-21T09:43:42.047468Z"
    },
    "papermill": {
     "duration": 7506.23888,
     "end_time": "2021-04-21T09:43:42.047739",
     "exception": false,
     "start_time": "2021-04-21T07:38:35.808859",
     "status": "completed"
    },
    "tags": []
   },
   "outputs": [
    {
     "name": "stdout",
     "output_type": "stream",
     "text": [
      "CPU times: user 1min 59s, sys: 28.6 s, total: 2min 27s\n",
      "Wall time: 2h 5min 6s\n"
     ]
    }
   ],
   "source": [
    "%%time\n",
    "\n",
    "with multiprocessing.Pool(processes=CPU_COUNT) as pool:\n",
    "    chmaxs = []\n",
    "    for chmax in pool.imap(iget_max_rgby, range(len(df_cells))):\n",
    "        chmaxs.append(chmax)\n",
    "    \n",
    "chmaxs = np.stack(chmaxs, axis=0)"
   ]
  },
  {
   "cell_type": "code",
   "execution_count": 11,
   "metadata": {
    "execution": {
     "iopub.execute_input": "2021-04-21T09:43:42.122721Z",
     "iopub.status.busy": "2021-04-21T09:43:42.121890Z",
     "iopub.status.idle": "2021-04-21T09:43:43.097450Z",
     "shell.execute_reply": "2021-04-21T09:43:43.096700Z"
    },
    "papermill": {
     "duration": 1.021549,
     "end_time": "2021-04-21T09:43:43.097605",
     "exception": false,
     "start_time": "2021-04-21T09:43:42.076056",
     "status": "completed"
    },
    "tags": []
   },
   "outputs": [],
   "source": [
    "df_cells[['max_red', 'max_green', 'max_blue', 'max_yellow']] = chmaxs"
   ]
  },
  {
   "cell_type": "code",
   "execution_count": 12,
   "metadata": {
    "execution": {
     "iopub.execute_input": "2021-04-21T09:43:43.160241Z",
     "iopub.status.busy": "2021-04-21T09:43:43.159554Z",
     "iopub.status.idle": "2021-04-21T09:43:43.190801Z",
     "shell.execute_reply": "2021-04-21T09:43:43.190277Z"
    },
    "papermill": {
     "duration": 0.065648,
     "end_time": "2021-04-21T09:43:43.190963",
     "exception": false,
     "start_time": "2021-04-21T09:43:43.125315",
     "status": "completed"
    },
    "tags": []
   },
   "outputs": [
    {
     "data": {
      "text/html": [
       "<div>\n",
       "<style scoped>\n",
       "    .dataframe tbody tr th:only-of-type {\n",
       "        vertical-align: middle;\n",
       "    }\n",
       "\n",
       "    .dataframe tbody tr th {\n",
       "        vertical-align: top;\n",
       "    }\n",
       "\n",
       "    .dataframe thead th {\n",
       "        text-align: right;\n",
       "    }\n",
       "</style>\n",
       "<table border=\"1\" class=\"dataframe\">\n",
       "  <thead>\n",
       "    <tr style=\"text-align: right;\">\n",
       "      <th></th>\n",
       "      <th>Id</th>\n",
       "      <th>rle</th>\n",
       "      <th>bbox</th>\n",
       "      <th>Target</th>\n",
       "      <th>max_green</th>\n",
       "      <th>subset</th>\n",
       "      <th>max_red</th>\n",
       "      <th>max_blue</th>\n",
       "      <th>max_yellow</th>\n",
       "    </tr>\n",
       "  </thead>\n",
       "  <tbody>\n",
       "    <tr>\n",
       "      <th>0</th>\n",
       "      <td>f0f9a766-bba2-11e8-b2b9-ac1f6b6435d0_41</td>\n",
       "      <td>{'counts': b'iVWV37io13L2N2N2aPN5fn1e0L3L4N2N1...</td>\n",
       "      <td>[1635, 1146, 1872, 1562]</td>\n",
       "      <td>2</td>\n",
       "      <td>250</td>\n",
       "      <td>4</td>\n",
       "      <td>194</td>\n",
       "      <td>128</td>\n",
       "      <td>238</td>\n",
       "    </tr>\n",
       "    <tr>\n",
       "      <th>1</th>\n",
       "      <td>8ec3411e-bbbc-11e8-b2ba-ac1f6b6435d0_12</td>\n",
       "      <td>{'counts': b'eYo&lt;W1hn22N2N4K9TO`NiRMb1Vm2^NiRM...</td>\n",
       "      <td>[138, 1224, 486, 1525]</td>\n",
       "      <td>5|0</td>\n",
       "      <td>254</td>\n",
       "      <td>2</td>\n",
       "      <td>170</td>\n",
       "      <td>59</td>\n",
       "      <td>197</td>\n",
       "    </tr>\n",
       "    <tr>\n",
       "      <th>2</th>\n",
       "      <td>6d2d0024-bbc8-11e8-b2bc-ac1f6b6435d0_3</td>\n",
       "      <td>{'counts': b'\\\\add24d&lt;0`CX1_a1jNojN`1oT1bNojN`...</td>\n",
       "      <td>[1354, 310, 1846, 1098]</td>\n",
       "      <td>9|12|4|3</td>\n",
       "      <td>255</td>\n",
       "      <td>2</td>\n",
       "      <td>236</td>\n",
       "      <td>255</td>\n",
       "      <td>255</td>\n",
       "    </tr>\n",
       "    <tr>\n",
       "      <th>3</th>\n",
       "      <td>a5450940-bbc1-11e8-b2bb-ac1f6b6435d0_3</td>\n",
       "      <td>{'counts': b'TPdk22ko14N10001O1O1O001O1O1O1O2N...</td>\n",
       "      <td>[1466, 0, 2048, 446]</td>\n",
       "      <td>6</td>\n",
       "      <td>153</td>\n",
       "      <td>3</td>\n",
       "      <td>255</td>\n",
       "      <td>138</td>\n",
       "      <td>255</td>\n",
       "    </tr>\n",
       "    <tr>\n",
       "      <th>4</th>\n",
       "      <td>0d716f64-bbc1-11e8-b2bb-ac1f6b6435d0_0</td>\n",
       "      <td>{'counts': b'Z1d1\\\\n10001N2N2N2N100O2N1O10O10O...</td>\n",
       "      <td>[0, 0, 570, 424]</td>\n",
       "      <td>0</td>\n",
       "      <td>251</td>\n",
       "      <td>0</td>\n",
       "      <td>255</td>\n",
       "      <td>226</td>\n",
       "      <td>255</td>\n",
       "    </tr>\n",
       "  </tbody>\n",
       "</table>\n",
       "</div>"
      ],
      "text/plain": [
       "                                        Id  \\\n",
       "0  f0f9a766-bba2-11e8-b2b9-ac1f6b6435d0_41   \n",
       "1  8ec3411e-bbbc-11e8-b2ba-ac1f6b6435d0_12   \n",
       "2   6d2d0024-bbc8-11e8-b2bc-ac1f6b6435d0_3   \n",
       "3   a5450940-bbc1-11e8-b2bb-ac1f6b6435d0_3   \n",
       "4   0d716f64-bbc1-11e8-b2bb-ac1f6b6435d0_0   \n",
       "\n",
       "                                                 rle  \\\n",
       "0  {'counts': b'iVWV37io13L2N2N2aPN5fn1e0L3L4N2N1...   \n",
       "1  {'counts': b'eYo<W1hn22N2N4K9TO`NiRMb1Vm2^NiRM...   \n",
       "2  {'counts': b'\\\\add24d<0`CX1_a1jNojN`1oT1bNojN`...   \n",
       "3  {'counts': b'TPdk22ko14N10001O1O1O001O1O1O1O2N...   \n",
       "4  {'counts': b'Z1d1\\\\n10001N2N2N2N100O2N1O10O10O...   \n",
       "\n",
       "                       bbox    Target  max_green  subset  max_red  max_blue  \\\n",
       "0  [1635, 1146, 1872, 1562]         2        250       4      194       128   \n",
       "1    [138, 1224, 486, 1525]       5|0        254       2      170        59   \n",
       "2   [1354, 310, 1846, 1098]  9|12|4|3        255       2      236       255   \n",
       "3      [1466, 0, 2048, 446]         6        153       3      255       138   \n",
       "4          [0, 0, 570, 424]         0        251       0      255       226   \n",
       "\n",
       "   max_yellow  \n",
       "0         238  \n",
       "1         197  \n",
       "2         255  \n",
       "3         255  \n",
       "4         255  "
      ]
     },
     "execution_count": 12,
     "metadata": {},
     "output_type": "execute_result"
    }
   ],
   "source": [
    "df_cells.head()"
   ]
  },
  {
   "cell_type": "code",
   "execution_count": 13,
   "metadata": {
    "execution": {
     "iopub.execute_input": "2021-04-21T09:43:43.253525Z",
     "iopub.status.busy": "2021-04-21T09:43:43.252839Z",
     "iopub.status.idle": "2021-04-21T09:43:48.847675Z",
     "shell.execute_reply": "2021-04-21T09:43:48.847082Z"
    },
    "papermill": {
     "duration": 5.628496,
     "end_time": "2021-04-21T09:43:48.847822",
     "exception": false,
     "start_time": "2021-04-21T09:43:43.219326",
     "status": "completed"
    },
    "tags": []
   },
   "outputs": [],
   "source": [
    "df_cells.to_feather('/kaggle/working/train.feather')"
   ]
  },
  {
   "cell_type": "code",
   "execution_count": 14,
   "metadata": {
    "execution": {
     "iopub.execute_input": "2021-04-21T09:43:48.910709Z",
     "iopub.status.busy": "2021-04-21T09:43:48.910032Z",
     "iopub.status.idle": "2021-04-21T09:43:48.913383Z",
     "shell.execute_reply": "2021-04-21T09:43:48.912720Z"
    },
    "papermill": {
     "duration": 0.036273,
     "end_time": "2021-04-21T09:43:48.913533",
     "exception": false,
     "start_time": "2021-04-21T09:43:48.877260",
     "status": "completed"
    },
    "tags": []
   },
   "outputs": [],
   "source": [
    "# CHANNEL_THRES = 120\n",
    "\n",
    "# is_dark_red = df_cells.max_red < CHANNEL_THRES\n",
    "# is_dark_green = df_cells.max_green < CHANNEL_THRES\n",
    "# is_dark_blue = df_cells.max_blue < CHANNEL_THRES\n",
    "# is_dark_yellow = df_cells.max_yellow < CHANNEL_THRES\n",
    "# is_dark = is_dark_red & is_dark_green & is_dark_blue & is_dark_yellow"
   ]
  },
  {
   "cell_type": "code",
   "execution_count": 15,
   "metadata": {
    "execution": {
     "iopub.execute_input": "2021-04-21T09:43:48.974329Z",
     "iopub.status.busy": "2021-04-21T09:43:48.973584Z",
     "iopub.status.idle": "2021-04-21T09:43:48.976636Z",
     "shell.execute_reply": "2021-04-21T09:43:48.977146Z"
    },
    "papermill": {
     "duration": 0.035201,
     "end_time": "2021-04-21T09:43:48.977328",
     "exception": false,
     "start_time": "2021-04-21T09:43:48.942127",
     "status": "completed"
    },
    "tags": []
   },
   "outputs": [],
   "source": [
    "# df_dark = df_cells[is_dark].reset_index(drop=True)"
   ]
  },
  {
   "cell_type": "code",
   "execution_count": 16,
   "metadata": {
    "execution": {
     "iopub.execute_input": "2021-04-21T09:43:49.040032Z",
     "iopub.status.busy": "2021-04-21T09:43:49.039374Z",
     "iopub.status.idle": "2021-04-21T09:43:49.043114Z",
     "shell.execute_reply": "2021-04-21T09:43:49.043791Z"
    },
    "papermill": {
     "duration": 0.037584,
     "end_time": "2021-04-21T09:43:49.044019",
     "exception": false,
     "start_time": "2021-04-21T09:43:49.006435",
     "status": "completed"
    },
    "tags": []
   },
   "outputs": [],
   "source": [
    "# nplot = 10\n",
    "# df = df_dark.sample(nplot).reset_index(drop=True) if len(df_dark) > nplot else df_dark.copy()"
   ]
  },
  {
   "cell_type": "code",
   "execution_count": 17,
   "metadata": {
    "execution": {
     "iopub.execute_input": "2021-04-21T09:43:49.107791Z",
     "iopub.status.busy": "2021-04-21T09:43:49.107152Z",
     "iopub.status.idle": "2021-04-21T09:43:49.110319Z",
     "shell.execute_reply": "2021-04-21T09:43:49.109559Z"
    },
    "papermill": {
     "duration": 0.036646,
     "end_time": "2021-04-21T09:43:49.110498",
     "exception": false,
     "start_time": "2021-04-21T09:43:49.073852",
     "status": "completed"
    },
    "tags": []
   },
   "outputs": [],
   "source": [
    "# ncols = 4\n",
    "# nrows = (nplot - 1) // ncols + 1\n",
    "# fig, axs = plt.subplots(nrows=nrows, ncols=ncols, figsize=(4*ncols, 4*nrows))\n",
    "# axs = axs.flatten()\n",
    "# for ax in axs:\n",
    "#     ax.axis('off')\n",
    "# for ax, (_, r) in zip(axs, df.iterrows()):\n",
    "#     img = load_image(r, dir_data)\n",
    "#     chmaxs = get_max_rgby(img)\n",
    "#     ax.imshow(img[...,[0,1,2]])\n",
    "#     ax.set_title(f'{r.Target} {chmaxs}')\n",
    "    \n",
    "# plt.tight_layout()"
   ]
  },
  {
   "cell_type": "code",
   "execution_count": null,
   "metadata": {
    "papermill": {
     "duration": 0.029335,
     "end_time": "2021-04-21T09:43:49.169759",
     "exception": false,
     "start_time": "2021-04-21T09:43:49.140424",
     "status": "completed"
    },
    "tags": []
   },
   "outputs": [],
   "source": []
  }
 ],
 "metadata": {
  "kernelspec": {
   "display_name": "Python 3",
   "language": "python",
   "name": "python3"
  },
  "language_info": {
   "codemirror_mode": {
    "name": "ipython",
    "version": 3
   },
   "file_extension": ".py",
   "mimetype": "text/x-python",
   "name": "python",
   "nbconvert_exporter": "python",
   "pygments_lexer": "ipython3",
   "version": "3.7.9"
  },
  "papermill": {
   "default_parameters": {},
   "duration": 7685.211132,
   "end_time": "2021-04-21T09:43:52.044892",
   "environment_variables": {},
   "exception": null,
   "input_path": "__notebook__.ipynb",
   "output_path": "__notebook__.ipynb",
   "parameters": {},
   "start_time": "2021-04-21T07:35:46.833760",
   "version": "2.2.2"
  }
 },
 "nbformat": 4,
 "nbformat_minor": 4
}
