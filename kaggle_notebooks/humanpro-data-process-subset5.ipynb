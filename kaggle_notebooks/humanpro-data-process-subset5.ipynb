{
 "cells": [
  {
   "cell_type": "markdown",
   "metadata": {
    "papermill": {
     "duration": 0.01066,
     "end_time": "2021-05-04T21:07:03.145956",
     "exception": false,
     "start_time": "2021-05-04T21:07:03.135296",
     "status": "completed"
    },
    "tags": []
   },
   "source": [
    "# Data processing"
   ]
  },
  {
   "cell_type": "markdown",
   "metadata": {
    "papermill": {
     "duration": 0.009139,
     "end_time": "2021-05-04T21:07:03.165458",
     "exception": false,
     "start_time": "2021-05-04T21:07:03.156319",
     "status": "completed"
    },
    "tags": []
   },
   "source": [
    "Subset 5 consists of external samples."
   ]
  },
  {
   "cell_type": "code",
   "execution_count": 1,
   "metadata": {
    "_kg_hide-output": true,
    "execution": {
     "iopub.execute_input": "2021-05-04T21:07:03.187942Z",
     "iopub.status.busy": "2021-05-04T21:07:03.187059Z",
     "iopub.status.idle": "2021-05-04T21:09:18.347897Z",
     "shell.execute_reply": "2021-05-04T21:09:18.347076Z"
    },
    "papermill": {
     "duration": 135.173212,
     "end_time": "2021-05-04T21:09:18.348121",
     "exception": false,
     "start_time": "2021-05-04T21:07:03.174909",
     "status": "completed"
    },
    "tags": []
   },
   "outputs": [
    {
     "name": "stdout",
     "output_type": "stream",
     "text": [
      "Processing /kaggle/input/mmdetection-v280/src/mmpycocotools-12.0.3/mmpycocotools-12.0.3\r\n",
      "Requirement already satisfied: setuptools>=18.0 in /opt/conda/lib/python3.7/site-packages (from mmpycocotools==12.0.3) (49.6.0.post20201009)\r\n",
      "Requirement already satisfied: cython>=0.27.3 in /opt/conda/lib/python3.7/site-packages (from mmpycocotools==12.0.3) (0.29.21)\r\n",
      "Requirement already satisfied: matplotlib>=2.1.0 in /opt/conda/lib/python3.7/site-packages (from mmpycocotools==12.0.3) (3.3.3)\r\n",
      "Requirement already satisfied: kiwisolver>=1.0.1 in /opt/conda/lib/python3.7/site-packages (from matplotlib>=2.1.0->mmpycocotools==12.0.3) (1.3.1)\r\n",
      "Requirement already satisfied: pillow>=6.2.0 in /opt/conda/lib/python3.7/site-packages (from matplotlib>=2.1.0->mmpycocotools==12.0.3) (7.2.0)\r\n",
      "Requirement already satisfied: numpy>=1.15 in /opt/conda/lib/python3.7/site-packages (from matplotlib>=2.1.0->mmpycocotools==12.0.3) (1.19.5)\r\n",
      "Requirement already satisfied: cycler>=0.10 in /opt/conda/lib/python3.7/site-packages (from matplotlib>=2.1.0->mmpycocotools==12.0.3) (0.10.0)\r\n",
      "Requirement already satisfied: pyparsing!=2.0.4,!=2.1.2,!=2.1.6,>=2.0.3 in /opt/conda/lib/python3.7/site-packages (from matplotlib>=2.1.0->mmpycocotools==12.0.3) (2.4.7)\r\n",
      "Requirement already satisfied: python-dateutil>=2.1 in /opt/conda/lib/python3.7/site-packages (from matplotlib>=2.1.0->mmpycocotools==12.0.3) (2.8.1)\r\n",
      "Requirement already satisfied: six in /opt/conda/lib/python3.7/site-packages (from cycler>=0.10->matplotlib>=2.1.0->mmpycocotools==12.0.3) (1.15.0)\r\n",
      "Building wheels for collected packages: mmpycocotools\r\n",
      "  Building wheel for mmpycocotools (setup.py) ... \u001b[?25l-\b \b\\\b \b|\b \b/\b \b-\b \b\\\b \b|\b \b/\b \b-\b \bdone\r\n",
      "\u001b[?25h  Created wheel for mmpycocotools: filename=mmpycocotools-12.0.3-cp37-cp37m-linux_x86_64.whl size=272907 sha256=fe35af9d3fa08194e0e794370a60aa56b4f27e934ee4cd4f7d0a7b8a31eb7bb3\r\n",
      "  Stored in directory: /root/.cache/pip/wheels/80/e0/da/3288fdf3965b5c9090f368462db9d28be2c82013f51821090a\r\n",
      "Successfully built mmpycocotools\r\n",
      "Installing collected packages: mmpycocotools\r\n",
      "Successfully installed mmpycocotools-12.0.3\r\n",
      "Processing /kaggle/input/hpapytorchzoo/pytorch_zoo-master\r\n",
      "Building wheels for collected packages: pytorch-zoo\r\n",
      "  Building wheel for pytorch-zoo (setup.py) ... \u001b[?25l-\b \b\\\b \bdone\r\n",
      "\u001b[?25h  Created wheel for pytorch-zoo: filename=pytorch_zoo-0.0.0-py3-none-any.whl size=30139 sha256=e1676013b0c5ce2f6820f4f0316037a321b73bbaae9baa10dbac79bcf8661f7e\r\n",
      "  Stored in directory: /root/.cache/pip/wheels/7f/18/21/aff5a8914e22461b2b025a9629c2b70464c36183caaf12bc09\r\n",
      "Successfully built pytorch-zoo\r\n",
      "Installing collected packages: pytorch-zoo\r\n",
      "Successfully installed pytorch-zoo-0.0.0\r\n",
      "Processing /kaggle/input/hpacellsegmentation/HPA-Cell-Segmentation\r\n",
      "Building wheels for collected packages: hpacellseg\r\n",
      "  Building wheel for hpacellseg (setup.py) ... \u001b[?25l-\b \bdone\r\n",
      "\u001b[?25h  Created wheel for hpacellseg: filename=hpacellseg-0.1.8-py3-none-any.whl size=14815 sha256=aab92d85b823386ef9f802fda8f60dbdfbdc9fe6488502216f5f14fb80728794\r\n",
      "  Stored in directory: /root/.cache/pip/wheels/50/41/15/9f15b23726cf96bdbc26670ce1c7526c719d4bce49418c1a20\r\n",
      "Successfully built hpacellseg\r\n",
      "Installing collected packages: hpacellseg\r\n",
      "Successfully installed hpacellseg-0.1.8\r\n",
      "Processing /kaggle/input/iterative-stratification/iterative-stratification-master\r\n",
      "Requirement already satisfied: numpy in /opt/conda/lib/python3.7/site-packages (from iterative-stratification==0.1.6) (1.19.5)\r\n",
      "Requirement already satisfied: scipy in /opt/conda/lib/python3.7/site-packages (from iterative-stratification==0.1.6) (1.5.4)\r\n",
      "Requirement already satisfied: scikit-learn in /opt/conda/lib/python3.7/site-packages (from iterative-stratification==0.1.6) (0.24.1)\r\n",
      "Requirement already satisfied: joblib>=0.11 in /opt/conda/lib/python3.7/site-packages (from scikit-learn->iterative-stratification==0.1.6) (1.0.0)\r\n",
      "Requirement already satisfied: threadpoolctl>=2.0.0 in /opt/conda/lib/python3.7/site-packages (from scikit-learn->iterative-stratification==0.1.6) (2.1.0)\r\n",
      "Building wheels for collected packages: iterative-stratification\r\n",
      "  Building wheel for iterative-stratification (setup.py) ... \u001b[?25l-\b \bdone\r\n",
      "\u001b[?25h  Created wheel for iterative-stratification: filename=iterative_stratification-0.1.6-py3-none-any.whl size=8401 sha256=65215212e76ea81be9e199d615cc85d9c14705301d480a552b771d6d88f39e76\r\n",
      "  Stored in directory: /root/.cache/pip/wheels/b8/47/3f/eb4af42d124f37d23d6f13a4c8bbc32c1d70140e6e1cecb4aa\r\n",
      "Successfully built iterative-stratification\r\n",
      "Installing collected packages: iterative-stratification\r\n",
      "Successfully installed iterative-stratification-0.1.6\r\n"
     ]
    }
   ],
   "source": [
    "! rsync -a /kaggle/input/mmdetection-v280/mmdetection /\n",
    "! pip install /kaggle/input/mmdetection-v280/src/mmpycocotools-12.0.3/mmpycocotools-12.0.3/\n",
    "! pip install /kaggle/input/hpapytorchzoo/pytorch_zoo-master/\n",
    "! pip install /kaggle/input/hpacellsegmentation/HPA-Cell-Segmentation/\n",
    "! pip install /kaggle/input/iterative-stratification/iterative-stratification-master/\n",
    "\n",
    "! cp -r /kaggle/input/kgl-humanprotein-data/kgl_humanprotein_data /\n",
    "! cp -r /kaggle/input/humanpro/kgl_humanprotein /\n",
    "\n",
    "import sys\n",
    "sys.path.append('/kgl_humanprotein/')"
   ]
  },
  {
   "cell_type": "code",
   "execution_count": 2,
   "metadata": {
    "execution": {
     "iopub.execute_input": "2021-05-04T21:09:18.389177Z",
     "iopub.status.busy": "2021-05-04T21:09:18.388464Z",
     "iopub.status.idle": "2021-05-04T21:09:21.574488Z",
     "shell.execute_reply": "2021-05-04T21:09:21.573430Z"
    },
    "papermill": {
     "duration": 3.209054,
     "end_time": "2021-05-04T21:09:21.574730",
     "exception": false,
     "start_time": "2021-05-04T21:09:18.365676",
     "status": "completed"
    },
    "tags": []
   },
   "outputs": [
    {
     "name": "stdout",
     "output_type": "stream",
     "text": [
      "run on 774c74c165df\n"
     ]
    }
   ],
   "source": [
    "from pathlib import Path\n",
    "import multiprocessing\n",
    "import shutil\n",
    "import zipfile\n",
    "import numpy as np\n",
    "import pandas as pd\n",
    "import cv2\n",
    "import pycocotools.mask as mutils\n",
    "import matplotlib.pyplot as plt\n",
    "\n",
    "from kgl_humanprotein.utils.common_util import *\n",
    "from kgl_humanprotein.config.config import *\n",
    "from kgl_humanprotein.data_process import *"
   ]
  },
  {
   "cell_type": "code",
   "execution_count": 3,
   "metadata": {
    "execution": {
     "iopub.execute_input": "2021-05-04T21:09:21.615497Z",
     "iopub.status.busy": "2021-05-04T21:09:21.614831Z",
     "iopub.status.idle": "2021-05-04T21:09:21.618238Z",
     "shell.execute_reply": "2021-05-04T21:09:21.618644Z"
    },
    "papermill": {
     "duration": 0.026346,
     "end_time": "2021-05-04T21:09:21.618839",
     "exception": false,
     "start_time": "2021-05-04T21:09:21.592493",
     "status": "completed"
    },
    "tags": []
   },
   "outputs": [
    {
     "name": "stdout",
     "output_type": "stream",
     "text": [
      "/kaggle\n"
     ]
    }
   ],
   "source": [
    "%cd /kaggle"
   ]
  },
  {
   "cell_type": "code",
   "execution_count": 4,
   "metadata": {
    "execution": {
     "iopub.execute_input": "2021-05-04T21:09:21.661703Z",
     "iopub.status.busy": "2021-05-04T21:09:21.661028Z",
     "iopub.status.idle": "2021-05-04T21:09:21.664350Z",
     "shell.execute_reply": "2021-05-04T21:09:21.663831Z"
    },
    "papermill": {
     "duration": 0.025686,
     "end_time": "2021-05-04T21:09:21.664492",
     "exception": false,
     "start_time": "2021-05-04T21:09:21.638806",
     "status": "completed"
    },
    "tags": []
   },
   "outputs": [],
   "source": [
    "dir_img = Path('/kaggle/input/humanpro-publichpa-grey/publichpa/')"
   ]
  },
  {
   "cell_type": "code",
   "execution_count": 5,
   "metadata": {
    "execution": {
     "iopub.execute_input": "2021-05-04T21:09:21.705695Z",
     "iopub.status.busy": "2021-05-04T21:09:21.705034Z",
     "iopub.status.idle": "2021-05-04T21:09:21.881693Z",
     "shell.execute_reply": "2021-05-04T21:09:21.880468Z"
    },
    "papermill": {
     "duration": 0.197828,
     "end_time": "2021-05-04T21:09:21.881841",
     "exception": false,
     "start_time": "2021-05-04T21:09:21.684013",
     "status": "completed"
    },
    "tags": []
   },
   "outputs": [],
   "source": [
    "imgids = list(set('_'.join(pth.name.split('_')[:-1]) for pth in dir_img.ls()))"
   ]
  },
  {
   "cell_type": "code",
   "execution_count": 6,
   "metadata": {
    "execution": {
     "iopub.execute_input": "2021-05-04T21:09:21.924112Z",
     "iopub.status.busy": "2021-05-04T21:09:21.923351Z",
     "iopub.status.idle": "2021-05-04T21:09:21.982497Z",
     "shell.execute_reply": "2021-05-04T21:09:21.981423Z"
    },
    "papermill": {
     "duration": 0.082593,
     "end_time": "2021-05-04T21:09:21.982666",
     "exception": false,
     "start_time": "2021-05-04T21:09:21.900073",
     "status": "completed"
    },
    "tags": []
   },
   "outputs": [],
   "source": [
    "df_img = pd.read_feather('/kaggle/input/humanpro-publichpa-1/publichpa.feather')\n",
    "df_img['Id'] = df_img.Image.apply(lambda o: o.split('/')[-1])\n",
    "df_img = df_img[df_img.Id.isin(imgids)].reset_index(drop=True)"
   ]
  },
  {
   "cell_type": "code",
   "execution_count": 7,
   "metadata": {
    "execution": {
     "iopub.execute_input": "2021-05-04T21:09:22.024065Z",
     "iopub.status.busy": "2021-05-04T21:09:22.023172Z",
     "iopub.status.idle": "2021-05-04T21:09:22.025500Z",
     "shell.execute_reply": "2021-05-04T21:09:22.025939Z"
    },
    "papermill": {
     "duration": 0.025044,
     "end_time": "2021-05-04T21:09:22.026108",
     "exception": false,
     "start_time": "2021-05-04T21:09:22.001064",
     "status": "completed"
    },
    "tags": []
   },
   "outputs": [],
   "source": [
    "dir_mask = Path('/kaggle/input/humanpro-publichpa-1-masks/publichpa_masks')"
   ]
  },
  {
   "cell_type": "markdown",
   "metadata": {
    "papermill": {
     "duration": 0.018139,
     "end_time": "2021-05-04T21:09:22.062689",
     "exception": false,
     "start_time": "2021-05-04T21:09:22.044550",
     "status": "completed"
    },
    "tags": []
   },
   "source": [
    "# Segmentation masks ---> RLEs, bboxes."
   ]
  },
  {
   "cell_type": "code",
   "execution_count": 8,
   "metadata": {
    "execution": {
     "iopub.execute_input": "2021-05-04T21:09:22.117864Z",
     "iopub.status.busy": "2021-05-04T21:09:22.116964Z",
     "iopub.status.idle": "2021-05-04T21:29:04.930342Z",
     "shell.execute_reply": "2021-05-04T21:29:04.930838Z"
    },
    "papermill": {
     "duration": 1182.844847,
     "end_time": "2021-05-04T21:29:04.931305",
     "exception": false,
     "start_time": "2021-05-04T21:09:22.086458",
     "status": "completed"
    },
    "tags": []
   },
   "outputs": [
    {
     "name": "stdout",
     "output_type": "stream",
     "text": [
      "Processed image 1247_C12_1CPU times: user 13.1 s, sys: 1.23 s, total: 14.3 s\n",
      "Wall time: 19min 42s\n"
     ]
    }
   ],
   "source": [
    "%%time\n",
    "\n",
    "imgids = imgids[:]\n",
    "\n",
    "def isplit_img2cells(i):\n",
    "    imgid = imgids[i]\n",
    "    pth_mask = dir_mask/f'{imgid}_predictedmask.png'\n",
    "    mask = cv2.imread(str(pth_mask), cv2.IMREAD_UNCHANGED)\n",
    "    rles = mask2rles(mask)\n",
    "    bboxes = rles2bboxes(rles)\n",
    "    ids = [f'{imgid}_{i}' for i in range(len(bboxes))]\n",
    "    df = pd.DataFrame({'Id':ids, 'rle':rles, 'bbox':list(bboxes)})\n",
    "    df['Target'] = df_img.set_index('Id').loc[imgid, 'Label_idx']\n",
    "    return imgid, df\n",
    "\n",
    "cpu_count = multiprocessing.cpu_count()\n",
    "with multiprocessing.Pool(processes=cpu_count) as pool:\n",
    "    df_cells = pd.DataFrame()\n",
    "    for imgid, df in pool.imap(isplit_img2cells, range(len(imgids))):\n",
    "        print(f'\\rProcessed image {imgid}', end='')\n",
    "        df_cells = df_cells.append(df, ignore_index=True)"
   ]
  },
  {
   "cell_type": "code",
   "execution_count": 9,
   "metadata": {
    "execution": {
     "iopub.execute_input": "2021-05-04T21:29:05.213887Z",
     "iopub.status.busy": "2021-05-04T21:29:05.213239Z",
     "iopub.status.idle": "2021-05-04T21:29:05.217120Z",
     "shell.execute_reply": "2021-05-04T21:29:05.217563Z"
    },
    "papermill": {
     "duration": 0.151611,
     "end_time": "2021-05-04T21:29:05.217759",
     "exception": false,
     "start_time": "2021-05-04T21:29:05.066148",
     "status": "completed"
    },
    "tags": []
   },
   "outputs": [
    {
     "data": {
      "text/plain": [
       "0.3048102777777778"
      ]
     },
     "execution_count": 9,
     "metadata": {},
     "output_type": "execute_result"
    }
   ],
   "source": [
    "1963 / 10 * 5.59 / 60**2"
   ]
  },
  {
   "cell_type": "code",
   "execution_count": 10,
   "metadata": {
    "execution": {
     "iopub.execute_input": "2021-05-04T21:29:05.488878Z",
     "iopub.status.busy": "2021-05-04T21:29:05.488326Z",
     "iopub.status.idle": "2021-05-04T21:29:05.513306Z",
     "shell.execute_reply": "2021-05-04T21:29:05.513866Z"
    },
    "papermill": {
     "duration": 0.161547,
     "end_time": "2021-05-04T21:29:05.514038",
     "exception": false,
     "start_time": "2021-05-04T21:29:05.352491",
     "status": "completed"
    },
    "tags": []
   },
   "outputs": [
    {
     "data": {
      "text/html": [
       "<div>\n",
       "<style scoped>\n",
       "    .dataframe tbody tr th:only-of-type {\n",
       "        vertical-align: middle;\n",
       "    }\n",
       "\n",
       "    .dataframe tbody tr th {\n",
       "        vertical-align: top;\n",
       "    }\n",
       "\n",
       "    .dataframe thead th {\n",
       "        text-align: right;\n",
       "    }\n",
       "</style>\n",
       "<table border=\"1\" class=\"dataframe\">\n",
       "  <thead>\n",
       "    <tr style=\"text-align: right;\">\n",
       "      <th></th>\n",
       "      <th>Id</th>\n",
       "      <th>rle</th>\n",
       "      <th>bbox</th>\n",
       "      <th>Target</th>\n",
       "    </tr>\n",
       "  </thead>\n",
       "  <tbody>\n",
       "    <tr>\n",
       "      <th>0</th>\n",
       "      <td>183_B3_2_0</td>\n",
       "      <td>{'size': [1728, 1728], 'counts': b'V2d1\\\\d10O1...</td>\n",
       "      <td>[0.0, 0.0, 154.0, 122.0]</td>\n",
       "      <td>0|3|10</td>\n",
       "    </tr>\n",
       "    <tr>\n",
       "      <th>1</th>\n",
       "      <td>183_B3_2_1</td>\n",
       "      <td>{'size': [1728, 1728], 'counts': b'P\\\\Zj18he11...</td>\n",
       "      <td>[1106.0, 0.0, 1542.0, 330.0]</td>\n",
       "      <td>0|3|10</td>\n",
       "    </tr>\n",
       "    <tr>\n",
       "      <th>2</th>\n",
       "      <td>183_B3_2_2</td>\n",
       "      <td>{'size': [1728, 1728], 'counts': b'm`Sk0a0^e12...</td>\n",
       "      <td>[514.0, 98.0, 902.0, 362.0]</td>\n",
       "      <td>0|3|10</td>\n",
       "    </tr>\n",
       "    <tr>\n",
       "      <th>3</th>\n",
       "      <td>183_B3_2_3</td>\n",
       "      <td>{'size': [1728, 1728], 'counts': b'QihW17he12N...</td>\n",
       "      <td>[754.0, 294.0, 1230.0, 706.0]</td>\n",
       "      <td>0|3|10</td>\n",
       "    </tr>\n",
       "    <tr>\n",
       "      <th>4</th>\n",
       "      <td>183_B3_2_4</td>\n",
       "      <td>{'size': [1728, 1728], 'counts': b'dWQ:c0\\\\e12...</td>\n",
       "      <td>[190.0, 338.0, 574.0, 714.0]</td>\n",
       "      <td>0|3|10</td>\n",
       "    </tr>\n",
       "  </tbody>\n",
       "</table>\n",
       "</div>"
      ],
      "text/plain": [
       "           Id                                                rle  \\\n",
       "0  183_B3_2_0  {'size': [1728, 1728], 'counts': b'V2d1\\\\d10O1...   \n",
       "1  183_B3_2_1  {'size': [1728, 1728], 'counts': b'P\\\\Zj18he11...   \n",
       "2  183_B3_2_2  {'size': [1728, 1728], 'counts': b'm`Sk0a0^e12...   \n",
       "3  183_B3_2_3  {'size': [1728, 1728], 'counts': b'QihW17he12N...   \n",
       "4  183_B3_2_4  {'size': [1728, 1728], 'counts': b'dWQ:c0\\\\e12...   \n",
       "\n",
       "                            bbox  Target  \n",
       "0       [0.0, 0.0, 154.0, 122.0]  0|3|10  \n",
       "1   [1106.0, 0.0, 1542.0, 330.0]  0|3|10  \n",
       "2    [514.0, 98.0, 902.0, 362.0]  0|3|10  \n",
       "3  [754.0, 294.0, 1230.0, 706.0]  0|3|10  \n",
       "4   [190.0, 338.0, 574.0, 714.0]  0|3|10  "
      ]
     },
     "execution_count": 10,
     "metadata": {},
     "output_type": "execute_result"
    }
   ],
   "source": [
    "df_cells.head()"
   ]
  },
  {
   "cell_type": "markdown",
   "metadata": {
    "papermill": {
     "duration": 0.134145,
     "end_time": "2021-05-04T21:29:05.782615",
     "exception": false,
     "start_time": "2021-05-04T21:29:05.648470",
     "status": "completed"
    },
    "tags": []
   },
   "source": [
    "# Crop out cells\n",
    "Save to disk and record max value in each color channel."
   ]
  },
  {
   "cell_type": "code",
   "execution_count": 11,
   "metadata": {
    "execution": {
     "iopub.execute_input": "2021-05-04T21:29:06.058053Z",
     "iopub.status.busy": "2021-05-04T21:29:06.057481Z",
     "iopub.status.idle": "2021-05-04T21:29:06.061772Z",
     "shell.execute_reply": "2021-05-04T21:29:06.062255Z"
    },
    "papermill": {
     "duration": 0.142631,
     "end_time": "2021-05-04T21:29:06.062421",
     "exception": false,
     "start_time": "2021-05-04T21:29:05.919790",
     "status": "completed"
    },
    "tags": []
   },
   "outputs": [],
   "source": [
    "def get_max_rgby(img):\n",
    "    return np.array([np.max(img[...,i]) for i in range(img.shape[-1])])"
   ]
  },
  {
   "cell_type": "code",
   "execution_count": 12,
   "metadata": {
    "execution": {
     "iopub.execute_input": "2021-05-04T21:29:06.342701Z",
     "iopub.status.busy": "2021-05-04T21:29:06.342073Z",
     "iopub.status.idle": "2021-05-04T22:10:58.143860Z",
     "shell.execute_reply": "2021-05-04T22:10:58.134341Z"
    },
    "papermill": {
     "duration": 2511.944798,
     "end_time": "2021-05-04T22:10:58.144065",
     "exception": false,
     "start_time": "2021-05-04T21:29:06.199267",
     "status": "completed"
    },
    "tags": []
   },
   "outputs": [
    {
     "name": "stdout",
     "output_type": "stream",
     "text": [
      "Cropped cell 1247_C12_1_11CPU times: user 35.4 s, sys: 6.28 s, total: 41.7 s\n",
      "Wall time: 41min 51s\n"
     ]
    }
   ],
   "source": [
    "%%time\n",
    "\n",
    "crop_sz = 384\n",
    "dir_train = Path('/kaggle/train')\n",
    "dir_cell = dir_train / f'images_{crop_sz}'\n",
    "\n",
    "def icrop_cell(i):\n",
    "    r = df_cells.iloc[i]\n",
    "    \n",
    "    imgid = '_'.join(r.Id.split('_')[:-1])\n",
    "    img = load_RGBY_image(dir_img, imgid)\n",
    "    \n",
    "    bmask = mutils.decode(r.rle)\n",
    "    crop = crop_image(img, r.bbox, bmask=bmask)\n",
    "    crop = pad_to_square(crop)\n",
    "    crop = resize_image(crop, crop_sz)\n",
    "    save_image(dir_cell, r.Id, crop)\n",
    "    \n",
    "    chmax = get_max_rgby(crop)\n",
    "    return r.Id, chmax\n",
    "\n",
    "\n",
    "dir_cell.mkdir(exist_ok=True, parents=True)\n",
    "\n",
    "# 1. Crop out each cell and save to disk.\n",
    "# 2. Record the max value in each channel.\n",
    "cpu_count = multiprocessing.cpu_count()\n",
    "with multiprocessing.Pool(processes=cpu_count) as pool:\n",
    "    chmaxs = []\n",
    "    for cellid, chmax in pool.imap(icrop_cell, range(len(df_cells))):\n",
    "        print(f'\\rCropped cell {cellid}', end='')\n",
    "        chmaxs.append(chmax)\n",
    "        \n",
    "chmaxs = np.array(chmaxs)"
   ]
  },
  {
   "cell_type": "code",
   "execution_count": 13,
   "metadata": {
    "execution": {
     "iopub.execute_input": "2021-05-04T22:11:02.653472Z",
     "iopub.status.busy": "2021-05-04T22:11:02.652938Z",
     "iopub.status.idle": "2021-05-04T22:11:02.657755Z",
     "shell.execute_reply": "2021-05-04T22:11:02.657271Z"
    },
    "papermill": {
     "duration": 2.237235,
     "end_time": "2021-05-04T22:11:02.657899",
     "exception": false,
     "start_time": "2021-05-04T22:11:00.420664",
     "status": "completed"
    },
    "tags": []
   },
   "outputs": [
    {
     "data": {
      "text/plain": [
       "0.5071083333333334"
      ]
     },
     "execution_count": 13,
     "metadata": {},
     "output_type": "execute_result"
    }
   ],
   "source": [
    "1963 / 10 * 9.3 / 60**2"
   ]
  },
  {
   "cell_type": "code",
   "execution_count": 14,
   "metadata": {
    "execution": {
     "iopub.execute_input": "2021-05-04T22:11:07.278500Z",
     "iopub.status.busy": "2021-05-04T22:11:07.277911Z",
     "iopub.status.idle": "2021-05-04T22:11:07.321783Z",
     "shell.execute_reply": "2021-05-04T22:11:07.321263Z"
    },
    "papermill": {
     "duration": 2.312481,
     "end_time": "2021-05-04T22:11:07.321933",
     "exception": false,
     "start_time": "2021-05-04T22:11:05.009452",
     "status": "completed"
    },
    "tags": []
   },
   "outputs": [],
   "source": [
    "df_cells[['max_red', 'max_green', 'max_blue', 'max_yellow']] = chmaxs"
   ]
  },
  {
   "cell_type": "code",
   "execution_count": 15,
   "metadata": {
    "execution": {
     "iopub.execute_input": "2021-05-04T22:11:11.851430Z",
     "iopub.status.busy": "2021-05-04T22:11:11.850501Z",
     "iopub.status.idle": "2021-05-04T22:11:12.314924Z",
     "shell.execute_reply": "2021-05-04T22:11:12.314148Z"
    },
    "papermill": {
     "duration": 2.685487,
     "end_time": "2021-05-04T22:11:12.315074",
     "exception": false,
     "start_time": "2021-05-04T22:11:09.629587",
     "status": "completed"
    },
    "tags": []
   },
   "outputs": [],
   "source": [
    "df_cells.to_feather(dir_train/'train.feather')"
   ]
  },
  {
   "cell_type": "code",
   "execution_count": 16,
   "metadata": {
    "execution": {
     "iopub.execute_input": "2021-05-04T22:11:16.868466Z",
     "iopub.status.busy": "2021-05-04T22:11:16.867864Z",
     "iopub.status.idle": "2021-05-04T22:11:17.028372Z",
     "shell.execute_reply": "2021-05-04T22:11:17.027886Z"
    },
    "papermill": {
     "duration": 2.453051,
     "end_time": "2021-05-04T22:11:17.028517",
     "exception": false,
     "start_time": "2021-05-04T22:11:14.575466",
     "status": "completed"
    },
    "tags": []
   },
   "outputs": [
    {
     "data": {
      "image/png": "[encoded data removed]",
      "text/plain": [
       "<Figure size 432x288 with 1 Axes>"
      ]
     },
     "metadata": {
      "needs_background": "light"
     },
     "output_type": "display_data"
    }
   ],
   "source": [
    "plt.imshow(load_RGBY_image(dir_cell, df_cells.Id.iloc[104])[...,[0,3,2]]); plt.axis('off');"
   ]
  },
  {
   "cell_type": "code",
   "execution_count": 17,
   "metadata": {
    "execution": {
     "iopub.execute_input": "2021-05-04T22:11:21.533419Z",
     "iopub.status.busy": "2021-05-04T22:11:21.531961Z",
     "iopub.status.idle": "2021-05-04T22:17:03.458602Z",
     "shell.execute_reply": "2021-05-04T22:17:03.459403Z"
    },
    "papermill": {
     "duration": 344.150213,
     "end_time": "2021-05-04T22:17:03.459678",
     "exception": false,
     "start_time": "2021-05-04T22:11:19.309465",
     "status": "completed"
    },
    "tags": []
   },
   "outputs": [
    {
     "name": "stdout",
     "output_type": "stream",
     "text": [
      "/kaggle\n",
      "/kaggle\n"
     ]
    }
   ],
   "source": [
    "isubset = 5  \n",
    "\n",
    "%cd /kaggle\n",
    "! mkdir humanpro_train_cells_subset{isubset}\n",
    "! mv train humanpro_train_cells_subset{isubset}/.\n",
    "! zip -qr humanpro_train_cells_subset{isubset}.zip humanpro_train_cells_subset{isubset}/\n",
    "! cp humanpro_train_cells_subset{isubset}.zip /kaggle/working\n",
    "%cd /kaggle"
   ]
  }
 ],
 "metadata": {
  "kernelspec": {
   "display_name": "Python 3",
   "language": "python",
   "name": "python3"
  },
  "language_info": {
   "codemirror_mode": {
    "name": "ipython",
    "version": 3
   },
   "file_extension": ".py",
   "mimetype": "text/x-python",
   "name": "python",
   "nbconvert_exporter": "python",
   "pygments_lexer": "ipython3",
   "version": "3.7.9"
  },
  "papermill": {
   "default_parameters": {},
   "duration": 4209.638008,
   "end_time": "2021-05-04T22:17:07.557371",
   "environment_variables": {},
   "exception": null,
   "input_path": "__notebook__.ipynb",
   "output_path": "__notebook__.ipynb",
   "parameters": {},
   "start_time": "2021-05-04T21:06:57.919363",
   "version": "2.2.2"
  }
 },
 "nbformat": 4,
 "nbformat_minor": 4
}
