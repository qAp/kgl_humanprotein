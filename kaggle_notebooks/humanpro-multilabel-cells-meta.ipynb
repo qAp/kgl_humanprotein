{
 "cells": [
  {
   "cell_type": "markdown",
   "metadata": {
    "papermill": {
     "duration": 0.016462,
     "end_time": "2021-04-19T06:23:29.321651",
     "exception": false,
     "start_time": "2021-04-19T06:23:29.305189",
     "status": "completed"
    },
    "tags": []
   },
   "source": [
    "# Classifier Training"
   ]
  },
  {
   "cell_type": "code",
   "execution_count": 1,
   "metadata": {
    "_kg_hide-output": true,
    "execution": {
     "iopub.execute_input": "2021-04-19T06:23:29.368989Z",
     "iopub.status.busy": "2021-04-19T06:23:29.368452Z",
     "iopub.status.idle": "2021-04-19T06:25:50.210624Z",
     "shell.execute_reply": "2021-04-19T06:25:50.209621Z"
    },
    "papermill": {
     "duration": 140.873737,
     "end_time": "2021-04-19T06:25:50.210850",
     "exception": false,
     "start_time": "2021-04-19T06:23:29.337113",
     "status": "completed"
    },
    "tags": []
   },
   "outputs": [
    {
     "name": "stdout",
     "output_type": "stream",
     "text": [
      "Processing /kaggle/input/mmdetection-v280/src/mmpycocotools-12.0.3/mmpycocotools-12.0.3\r\n",
      "Requirement already satisfied: setuptools>=18.0 in /opt/conda/lib/python3.7/site-packages (from mmpycocotools==12.0.3) (49.6.0.post20201009)\r\n",
      "Requirement already satisfied: cython>=0.27.3 in /opt/conda/lib/python3.7/site-packages (from mmpycocotools==12.0.3) (0.29.21)\r\n",
      "Requirement already satisfied: matplotlib>=2.1.0 in /opt/conda/lib/python3.7/site-packages (from mmpycocotools==12.0.3) (3.3.3)\r\n",
      "Requirement already satisfied: kiwisolver>=1.0.1 in /opt/conda/lib/python3.7/site-packages (from matplotlib>=2.1.0->mmpycocotools==12.0.3) (1.3.1)\r\n",
      "Requirement already satisfied: numpy>=1.15 in /opt/conda/lib/python3.7/site-packages (from matplotlib>=2.1.0->mmpycocotools==12.0.3) (1.19.5)\r\n",
      "Requirement already satisfied: pillow>=6.2.0 in /opt/conda/lib/python3.7/site-packages (from matplotlib>=2.1.0->mmpycocotools==12.0.3) (7.2.0)\r\n",
      "Requirement already satisfied: cycler>=0.10 in /opt/conda/lib/python3.7/site-packages (from matplotlib>=2.1.0->mmpycocotools==12.0.3) (0.10.0)\r\n",
      "Requirement already satisfied: python-dateutil>=2.1 in /opt/conda/lib/python3.7/site-packages (from matplotlib>=2.1.0->mmpycocotools==12.0.3) (2.8.1)\r\n",
      "Requirement already satisfied: pyparsing!=2.0.4,!=2.1.2,!=2.1.6,>=2.0.3 in /opt/conda/lib/python3.7/site-packages (from matplotlib>=2.1.0->mmpycocotools==12.0.3) (2.4.7)\r\n",
      "Requirement already satisfied: six in /opt/conda/lib/python3.7/site-packages (from cycler>=0.10->matplotlib>=2.1.0->mmpycocotools==12.0.3) (1.15.0)\r\n",
      "Building wheels for collected packages: mmpycocotools\r\n",
      "  Building wheel for mmpycocotools (setup.py) ... \u001b[?25l-\b \b\\\b \b|\b \b/\b \b-\b \b\\\b \b|\b \b/\b \b-\b \bdone\r\n",
      "\u001b[?25h  Created wheel for mmpycocotools: filename=mmpycocotools-12.0.3-cp37-cp37m-linux_x86_64.whl size=272906 sha256=8f8785e8e8d2895ed1acee813300b4f8aed66cee1bad7dd55335b6fe483c6852\r\n",
      "  Stored in directory: /root/.cache/pip/wheels/80/e0/da/3288fdf3965b5c9090f368462db9d28be2c82013f51821090a\r\n",
      "Successfully built mmpycocotools\r\n",
      "Installing collected packages: mmpycocotools\r\n",
      "Successfully installed mmpycocotools-12.0.3\r\n",
      "Processing /kaggle/input/hpapytorchzoo/pytorch_zoo-master\r\n",
      "Building wheels for collected packages: pytorch-zoo\r\n",
      "  Building wheel for pytorch-zoo (setup.py) ... \u001b[?25l-\b \bdone\r\n",
      "\u001b[?25h  Created wheel for pytorch-zoo: filename=pytorch_zoo-0.0.0-py3-none-any.whl size=30139 sha256=bb75f7da229f0298f5639cae2ec4d9e45bcf6711e748ee8b4c4358875a2758e8\r\n",
      "  Stored in directory: /root/.cache/pip/wheels/7f/18/21/aff5a8914e22461b2b025a9629c2b70464c36183caaf12bc09\r\n",
      "Successfully built pytorch-zoo\r\n",
      "Installing collected packages: pytorch-zoo\r\n",
      "Successfully installed pytorch-zoo-0.0.0\r\n",
      "Processing /kaggle/input/hpacellsegmentation/HPA-Cell-Segmentation\r\n",
      "Building wheels for collected packages: hpacellseg\r\n",
      "  Building wheel for hpacellseg (setup.py) ... \u001b[?25l-\b \bdone\r\n",
      "\u001b[?25h  Created wheel for hpacellseg: filename=hpacellseg-0.1.8-py3-none-any.whl size=14815 sha256=71ba0b9caa19350949720fead8fdc1f0594432dc42e3eff5cc97f3836863e729\r\n",
      "  Stored in directory: /root/.cache/pip/wheels/50/41/15/9f15b23726cf96bdbc26670ce1c7526c719d4bce49418c1a20\r\n",
      "Successfully built hpacellseg\r\n",
      "Installing collected packages: hpacellseg\r\n",
      "Successfully installed hpacellseg-0.1.8\r\n",
      "Processing /kaggle/input/iterative-stratification/iterative-stratification-master\r\n",
      "Requirement already satisfied: numpy in /opt/conda/lib/python3.7/site-packages (from iterative-stratification==0.1.6) (1.19.5)\r\n",
      "Requirement already satisfied: scipy in /opt/conda/lib/python3.7/site-packages (from iterative-stratification==0.1.6) (1.5.4)\r\n",
      "Requirement already satisfied: scikit-learn in /opt/conda/lib/python3.7/site-packages (from iterative-stratification==0.1.6) (0.24.1)\r\n",
      "Requirement already satisfied: threadpoolctl>=2.0.0 in /opt/conda/lib/python3.7/site-packages (from scikit-learn->iterative-stratification==0.1.6) (2.1.0)\r\n",
      "Requirement already satisfied: joblib>=0.11 in /opt/conda/lib/python3.7/site-packages (from scikit-learn->iterative-stratification==0.1.6) (1.0.0)\r\n",
      "Building wheels for collected packages: iterative-stratification\r\n",
      "  Building wheel for iterative-stratification (setup.py) ... \u001b[?25l-\b \bdone\r\n",
      "\u001b[?25h  Created wheel for iterative-stratification: filename=iterative_stratification-0.1.6-py3-none-any.whl size=8401 sha256=35d413cc3c2e3be7c02e1c093e3a2af39a612fa2edf721e57d7d246c9d6f5830\r\n",
      "  Stored in directory: /root/.cache/pip/wheels/b8/47/3f/eb4af42d124f37d23d6f13a4c8bbc32c1d70140e6e1cecb4aa\r\n",
      "Successfully built iterative-stratification\r\n",
      "Installing collected packages: iterative-stratification\r\n",
      "Successfully installed iterative-stratification-0.1.6\r\n"
     ]
    }
   ],
   "source": [
    "! rsync -a /kaggle/input/mmdetection-v280/mmdetection /\n",
    "! pip install /kaggle/input/mmdetection-v280/src/mmpycocotools-12.0.3/mmpycocotools-12.0.3/\n",
    "! pip install /kaggle/input/hpapytorchzoo/pytorch_zoo-master/\n",
    "! pip install /kaggle/input/hpacellsegmentation/HPA-Cell-Segmentation/\n",
    "! pip install /kaggle/input/iterative-stratification/iterative-stratification-master/\n",
    "\n",
    "! cp -r /kaggle/input/kgl-humanprotein-data/kgl_humanprotein_data /\n",
    "! cp -r /kaggle/input/humanpro/kgl_humanprotein /\n",
    "\n",
    "import sys\n",
    "sys.path.append('/kgl_humanprotein/')"
   ]
  },
  {
   "cell_type": "code",
   "execution_count": 2,
   "metadata": {
    "execution": {
     "iopub.execute_input": "2021-04-19T06:25:50.268790Z",
     "iopub.status.busy": "2021-04-19T06:25:50.268125Z",
     "iopub.status.idle": "2021-04-19T06:25:54.656583Z",
     "shell.execute_reply": "2021-04-19T06:25:54.655576Z"
    },
    "papermill": {
     "duration": 4.419887,
     "end_time": "2021-04-19T06:25:54.656719",
     "exception": false,
     "start_time": "2021-04-19T06:25:50.236832",
     "status": "completed"
    },
    "tags": []
   },
   "outputs": [
    {
     "name": "stdout",
     "output_type": "stream",
     "text": [
      "run on 8b77f733f61f\n"
     ]
    }
   ],
   "source": [
    "import os\n",
    "import time\n",
    "from pathlib import Path\n",
    "import shutil\n",
    "import zipfile\n",
    "import functools\n",
    "import multiprocessing\n",
    "import numpy as np\n",
    "import pandas as pd\n",
    "import cv2\n",
    "from sklearn.model_selection import KFold,StratifiedKFold\n",
    "from iterstrat.ml_stratifiers import MultilabelStratifiedKFold\n",
    "import torch\n",
    "from torch.backends import cudnn\n",
    "from torch.utils.data import Dataset, DataLoader, RandomSampler, SequentialSampler\n",
    "from torch.nn import DataParallel\n",
    "import matplotlib.pyplot as plt\n",
    "from tqdm import tqdm\n",
    "\n",
    "from kgl_humanprotein.utils.common_util import *\n",
    "from kgl_humanprotein.config.config import *\n",
    "from kgl_humanprotein.data_process import *\n",
    "from kgl_humanprotein.datasets.tool import image_to_tensor\n",
    "from kgl_humanprotein.datasets.protein_dataset import *\n",
    "from kgl_humanprotein.networks.imageclsnet import init_network\n",
    "from kgl_humanprotein.layers.loss import *\n",
    "from kgl_humanprotein.layers.scheduler import *\n",
    "from kgl_humanprotein.utils.augment_util import train_multi_augment2\n",
    "from kgl_humanprotein.utils.log_util import Logger\n",
    "from kgl_humanprotein.run.train import *"
   ]
  },
  {
   "cell_type": "code",
   "execution_count": 3,
   "metadata": {
    "execution": {
     "iopub.execute_input": "2021-04-19T06:25:54.709906Z",
     "iopub.status.busy": "2021-04-19T06:25:54.709348Z",
     "iopub.status.idle": "2021-04-19T06:25:54.715661Z",
     "shell.execute_reply": "2021-04-19T06:25:54.715100Z"
    },
    "papermill": {
     "duration": 0.03478,
     "end_time": "2021-04-19T06:25:54.715861",
     "exception": false,
     "start_time": "2021-04-19T06:25:54.681081",
     "status": "completed"
    },
    "tags": []
   },
   "outputs": [
    {
     "name": "stdout",
     "output_type": "stream",
     "text": [
      "/kaggle\n"
     ]
    }
   ],
   "source": [
    "%cd /kaggle"
   ]
  },
  {
   "cell_type": "markdown",
   "metadata": {
    "papermill": {
     "duration": 0.024438,
     "end_time": "2021-04-19T06:25:54.764945",
     "exception": false,
     "start_time": "2021-04-19T06:25:54.740507",
     "status": "completed"
    },
    "tags": []
   },
   "source": [
    "## Combine subsets' meta data"
   ]
  },
  {
   "cell_type": "code",
   "execution_count": 4,
   "metadata": {
    "execution": {
     "iopub.execute_input": "2021-04-19T06:25:54.817623Z",
     "iopub.status.busy": "2021-04-19T06:25:54.816997Z",
     "iopub.status.idle": "2021-04-19T06:25:54.819884Z",
     "shell.execute_reply": "2021-04-19T06:25:54.819364Z"
    },
    "papermill": {
     "duration": 0.030661,
     "end_time": "2021-04-19T06:25:54.819997",
     "exception": false,
     "start_time": "2021-04-19T06:25:54.789336",
     "status": "completed"
    },
    "tags": []
   },
   "outputs": [],
   "source": [
    "dir_data = Path('/kaggle/input')\n",
    "dir_mdata = Path('/kaggle/mdata')\n",
    "n_subsets = 5"
   ]
  },
  {
   "cell_type": "code",
   "execution_count": 5,
   "metadata": {
    "execution": {
     "iopub.execute_input": "2021-04-19T06:25:54.873718Z",
     "iopub.status.busy": "2021-04-19T06:25:54.873148Z",
     "iopub.status.idle": "2021-04-19T06:26:01.859284Z",
     "shell.execute_reply": "2021-04-19T06:26:01.859928Z"
    },
    "papermill": {
     "duration": 7.015821,
     "end_time": "2021-04-19T06:26:01.860123",
     "exception": false,
     "start_time": "2021-04-19T06:25:54.844302",
     "status": "completed"
    },
    "tags": []
   },
   "outputs": [
    {
     "name": "stdout",
     "output_type": "stream",
     "text": [
      "Processing subset 4...CPU times: user 1.55 s, sys: 870 ms, total: 2.42 s\n",
      "Wall time: 6.98 s\n"
     ]
    }
   ],
   "source": [
    "%%time\n",
    "df_cells = combine_subsets_metadata(dir_data, n_subsets)"
   ]
  },
  {
   "cell_type": "code",
   "execution_count": 6,
   "metadata": {
    "execution": {
     "iopub.execute_input": "2021-04-19T06:26:01.918217Z",
     "iopub.status.busy": "2021-04-19T06:26:01.917447Z",
     "iopub.status.idle": "2021-04-19T06:26:05.454259Z",
     "shell.execute_reply": "2021-04-19T06:26:05.455237Z"
    },
    "papermill": {
     "duration": 3.567843,
     "end_time": "2021-04-19T06:26:05.455444",
     "exception": false,
     "start_time": "2021-04-19T06:26:01.887601",
     "status": "completed"
    },
    "tags": []
   },
   "outputs": [],
   "source": [
    "dir_mdata_raw = dir_mdata/'raw'\n",
    "dir_mdata_raw.mkdir(exist_ok=True, parents=True)\n",
    "\n",
    "df_cells.to_feather(dir_mdata_raw/'train.feather')"
   ]
  },
  {
   "cell_type": "code",
   "execution_count": 7,
   "metadata": {
    "execution": {
     "iopub.execute_input": "2021-04-19T06:26:05.981108Z",
     "iopub.status.busy": "2021-04-19T06:26:05.980285Z",
     "iopub.status.idle": "2021-04-19T06:26:05.984791Z",
     "shell.execute_reply": "2021-04-19T06:26:05.985772Z"
    },
    "papermill": {
     "duration": 0.489098,
     "end_time": "2021-04-19T06:26:05.985975",
     "exception": false,
     "start_time": "2021-04-19T06:26:05.496877",
     "status": "completed"
    },
    "tags": []
   },
   "outputs": [],
   "source": [
    "del df_cells"
   ]
  },
  {
   "cell_type": "markdown",
   "metadata": {
    "papermill": {
     "duration": 0.052316,
     "end_time": "2021-04-19T06:26:06.105602",
     "exception": false,
     "start_time": "2021-04-19T06:26:06.053286",
     "status": "completed"
    },
    "tags": []
   },
   "source": [
    "## Filter samples"
   ]
  },
  {
   "cell_type": "code",
   "execution_count": 8,
   "metadata": {
    "execution": {
     "iopub.execute_input": "2021-04-19T06:26:06.205847Z",
     "iopub.status.busy": "2021-04-19T06:26:06.205093Z",
     "iopub.status.idle": "2021-04-19T06:26:06.208897Z",
     "shell.execute_reply": "2021-04-19T06:26:06.209852Z"
    },
    "papermill": {
     "duration": 0.059689,
     "end_time": "2021-04-19T06:26:06.210040",
     "exception": false,
     "start_time": "2021-04-19T06:26:06.150351",
     "status": "completed"
    },
    "tags": []
   },
   "outputs": [],
   "source": [
    "# Limit number of samples per label\n",
    "\n",
    "def cap_number_per_label(df_cells, cap=10_000, idx_start=0):\n",
    "    df_cells_cap = pd.DataFrame()\n",
    "    for label in df_cells.Target.unique():\n",
    "        df = df_cells[df_cells.Target==label]\n",
    "        if len(df) > cap:\n",
    "            df = df.iloc[idx_start:idx_start + cap]\n",
    "        df_cells_cap = df_cells_cap.append(df, ignore_index=True)\n",
    "    return df_cells_cap"
   ]
  },
  {
   "cell_type": "code",
   "execution_count": 9,
   "metadata": {
    "execution": {
     "iopub.execute_input": "2021-04-19T06:26:06.319200Z",
     "iopub.status.busy": "2021-04-19T06:26:06.318476Z",
     "iopub.status.idle": "2021-04-19T06:26:08.207257Z",
     "shell.execute_reply": "2021-04-19T06:26:08.206773Z"
    },
    "papermill": {
     "duration": 1.953829,
     "end_time": "2021-04-19T06:26:08.207398",
     "exception": false,
     "start_time": "2021-04-19T06:26:06.253569",
     "status": "completed"
    },
    "tags": []
   },
   "outputs": [],
   "source": [
    "df_cells = pd.read_feather(dir_mdata_raw/'train.feather')"
   ]
  },
  {
   "cell_type": "code",
   "execution_count": 10,
   "metadata": {
    "execution": {
     "iopub.execute_input": "2021-04-19T06:26:08.266330Z",
     "iopub.status.busy": "2021-04-19T06:26:08.265230Z",
     "iopub.status.idle": "2021-04-19T06:26:08.934035Z",
     "shell.execute_reply": "2021-04-19T06:26:08.934618Z"
    },
    "papermill": {
     "duration": 0.700615,
     "end_time": "2021-04-19T06:26:08.934844",
     "exception": false,
     "start_time": "2021-04-19T06:26:08.234229",
     "status": "completed"
    },
    "tags": []
   },
   "outputs": [],
   "source": [
    "# Take only multi-label samples\n",
    "n_labels = df_cells['Target'].apply(lambda o: len(o.split('|')))\n",
    "df_cells = df_cells[n_labels > 1]"
   ]
  },
  {
   "cell_type": "code",
   "execution_count": 11,
   "metadata": {
    "execution": {
     "iopub.execute_input": "2021-04-19T06:26:09.009265Z",
     "iopub.status.busy": "2021-04-19T06:26:09.008750Z",
     "iopub.status.idle": "2021-04-19T06:26:09.013945Z",
     "shell.execute_reply": "2021-04-19T06:26:09.013529Z"
    },
    "papermill": {
     "duration": 0.045523,
     "end_time": "2021-04-19T06:26:09.014061",
     "exception": false,
     "start_time": "2021-04-19T06:26:08.968538",
     "status": "completed"
    },
    "tags": []
   },
   "outputs": [
    {
     "data": {
      "text/plain": [
       "4.362222222222222"
      ]
     },
     "execution_count": 11,
     "metadata": {},
     "output_type": "execute_result"
    }
   ],
   "source": [
    "len(df_cells) / 100 * 6.5 / 60**2"
   ]
  },
  {
   "cell_type": "code",
   "execution_count": 12,
   "metadata": {
    "execution": {
     "iopub.execute_input": "2021-04-19T06:26:09.072990Z",
     "iopub.status.busy": "2021-04-19T06:26:09.072490Z",
     "iopub.status.idle": "2021-04-19T06:26:09.174372Z",
     "shell.execute_reply": "2021-04-19T06:26:09.173759Z"
    },
    "papermill": {
     "duration": 0.1334,
     "end_time": "2021-04-19T06:26:09.174526",
     "exception": false,
     "start_time": "2021-04-19T06:26:09.041126",
     "status": "completed"
    },
    "tags": []
   },
   "outputs": [],
   "source": [
    "# For testing, just take a few samples\n",
    "n_sample = len(df_cells)  # 100\n",
    "\n",
    "df_cells = df_cells.sample(n_sample).reset_index(drop=True)"
   ]
  },
  {
   "cell_type": "code",
   "execution_count": 13,
   "metadata": {
    "execution": {
     "iopub.execute_input": "2021-04-19T06:26:09.283542Z",
     "iopub.status.busy": "2021-04-19T06:26:09.278758Z",
     "iopub.status.idle": "2021-04-19T06:26:09.286938Z",
     "shell.execute_reply": "2021-04-19T06:26:09.286527Z"
    },
    "papermill": {
     "duration": 0.084948,
     "end_time": "2021-04-19T06:26:09.287056",
     "exception": false,
     "start_time": "2021-04-19T06:26:09.202108",
     "status": "completed"
    },
    "tags": []
   },
   "outputs": [
    {
     "data": {
      "text/plain": [
       "16|0        29562\n",
       "2|0         13113\n",
       "12|0        11575\n",
       "7|0         11129\n",
       "0|13        10728\n",
       "            ...  \n",
       "9|1             8\n",
       "16|6|2|0        8\n",
       "14|1|2|0        8\n",
       "9|7|13          8\n",
       "16|7|3          7\n",
       "Name: Target, Length: 413, dtype: int64"
      ]
     },
     "execution_count": 13,
     "metadata": {},
     "output_type": "execute_result"
    }
   ],
   "source": [
    "df_cells.Target.value_counts()"
   ]
  },
  {
   "cell_type": "code",
   "execution_count": 14,
   "metadata": {
    "execution": {
     "iopub.execute_input": "2021-04-19T06:26:10.234002Z",
     "iopub.status.busy": "2021-04-19T06:26:09.346517Z",
     "iopub.status.idle": "2021-04-19T06:26:12.102747Z",
     "shell.execute_reply": "2021-04-19T06:26:12.101719Z"
    },
    "papermill": {
     "duration": 2.787948,
     "end_time": "2021-04-19T06:26:12.102890",
     "exception": false,
     "start_time": "2021-04-19T06:26:09.314942",
     "status": "completed"
    },
    "tags": []
   },
   "outputs": [],
   "source": [
    "df_cells.to_feather(dir_mdata_raw/'train.feather')"
   ]
  },
  {
   "cell_type": "markdown",
   "metadata": {
    "papermill": {
     "duration": 0.028012,
     "end_time": "2021-04-19T06:26:12.159213",
     "exception": false,
     "start_time": "2021-04-19T06:26:12.131201",
     "status": "completed"
    },
    "tags": []
   },
   "source": [
    "## One-hot encode labels"
   ]
  },
  {
   "cell_type": "code",
   "execution_count": 15,
   "metadata": {
    "execution": {
     "iopub.execute_input": "2021-04-19T06:26:12.219024Z",
     "iopub.status.busy": "2021-04-19T06:26:12.218171Z",
     "iopub.status.idle": "2021-04-19T06:27:34.148966Z",
     "shell.execute_reply": "2021-04-19T06:27:34.149365Z"
    },
    "papermill": {
     "duration": 81.962821,
     "end_time": "2021-04-19T06:27:34.149531",
     "exception": false,
     "start_time": "2021-04-19T06:26:12.186710",
     "status": "completed"
    },
    "tags": []
   },
   "outputs": [
    {
     "name": "stdout",
     "output_type": "stream",
     "text": [
      "CPU times: user 1min 20s, sys: 1.09 s, total: 1min 22s\n",
      "Wall time: 1min 21s\n"
     ]
    }
   ],
   "source": [
    "%%time\n",
    "generate_meta(dir_mdata, 'train.feather')"
   ]
  },
  {
   "cell_type": "markdown",
   "metadata": {
    "papermill": {
     "duration": 0.028473,
     "end_time": "2021-04-19T06:27:34.206503",
     "exception": false,
     "start_time": "2021-04-19T06:27:34.178030",
     "status": "completed"
    },
    "tags": []
   },
   "source": [
    "## Validation"
   ]
  },
  {
   "cell_type": "code",
   "execution_count": 16,
   "metadata": {
    "execution": {
     "iopub.execute_input": "2021-04-19T06:27:34.269127Z",
     "iopub.status.busy": "2021-04-19T06:27:34.268543Z",
     "iopub.status.idle": "2021-04-19T06:27:34.275585Z",
     "shell.execute_reply": "2021-04-19T06:27:34.274944Z"
    },
    "papermill": {
     "duration": 0.040586,
     "end_time": "2021-04-19T06:27:34.275708",
     "exception": false,
     "start_time": "2021-04-19T06:27:34.235122",
     "status": "completed"
    },
    "tags": []
   },
   "outputs": [],
   "source": [
    "# set cuda visible device\n",
    "\n",
    "gpu_id = '0'\n",
    "\n",
    "os.environ['CUDA_VISIBLE_DEVICES'] = gpu_id\n",
    "cudnn.benchmark = True\n",
    "\n",
    "# set random seeds\n",
    "torch.manual_seed(0)\n",
    "torch.cuda.manual_seed_all(0)\n",
    "np.random.seed(0)"
   ]
  },
  {
   "cell_type": "code",
   "execution_count": 17,
   "metadata": {
    "execution": {
     "iopub.execute_input": "2021-04-19T06:27:34.354092Z",
     "iopub.status.busy": "2021-04-19T06:27:34.353555Z",
     "iopub.status.idle": "2021-04-19T06:27:40.894279Z",
     "shell.execute_reply": "2021-04-19T06:27:40.895181Z"
    },
    "papermill": {
     "duration": 6.580332,
     "end_time": "2021-04-19T06:27:40.895831",
     "exception": false,
     "start_time": "2021-04-19T06:27:34.315499",
     "status": "completed"
    },
    "tags": []
   },
   "outputs": [
    {
     "name": "stdout",
     "output_type": "stream",
     "text": [
      ">> Using pre-trained model.\n"
     ]
    },
    {
     "data": {
      "text/plain": [
       "<All keys matched successfully>"
      ]
     },
     "execution_count": 17,
     "metadata": {},
     "output_type": "execute_result"
    }
   ],
   "source": [
    "# Load trained model\n",
    "\n",
    "arch = 'class_densenet121_dropout'\n",
    "num_classes = len(LABEL_NAME_LIST)\n",
    "in_channels = 4\n",
    "resume = Path('/kaggle/input/humanpro-classifier-crop/results/models/'\n",
    "              'external_crop256_focal_slov_hardlog_class_densenet121_dropout_i384_aug2_5folds/'\n",
    "              'fold0/final.pth')\n",
    "\n",
    "model_params = {}\n",
    "model_params['architecture'] = arch\n",
    "model_params['num_classes'] = num_classes\n",
    "model_params['in_channels'] = in_channels\n",
    "model = init_network(model_params)\n",
    "\n",
    "# move network to gpu\n",
    "model = DataParallel(model)\n",
    "model.to(DEVICE)\n",
    "\n",
    "checkpoint = torch.load(resume)\n",
    "model.module.load_state_dict(checkpoint['state_dict'])"
   ]
  },
  {
   "cell_type": "code",
   "execution_count": 18,
   "metadata": {
    "execution": {
     "iopub.execute_input": "2021-04-19T06:27:41.022417Z",
     "iopub.status.busy": "2021-04-19T06:27:41.011325Z",
     "iopub.status.idle": "2021-04-19T06:27:42.213200Z",
     "shell.execute_reply": "2021-04-19T06:27:42.212707Z"
    },
    "papermill": {
     "duration": 1.258634,
     "end_time": "2021-04-19T06:27:42.213324",
     "exception": false,
     "start_time": "2021-04-19T06:27:40.954690",
     "status": "completed"
    },
    "tags": []
   },
   "outputs": [],
   "source": [
    "# Load validation samples\n",
    "\n",
    "img_size = 384\n",
    "crop_size = 256 \n",
    "batch_size = 64\n",
    "workers = 3\n",
    "pin_memory = True\n",
    "valid_file = Path(dir_mdata/'meta'/'train_meta.feather')\n",
    "\n",
    "\n",
    "assert valid_file.exists()\n",
    "    \n",
    "valid_dataset = ProteinDataset(dir_data, valid_file, img_size=img_size, is_trainset=True,\n",
    "                               return_label=True, in_channels=in_channels, transform=None,\n",
    "                               crop_size=crop_size, random_crop=False)\n",
    "    \n",
    "valid_loader = DataLoader(valid_dataset, sampler=SequentialSampler(valid_dataset),\n",
    "                          batch_size=batch_size, drop_last=False, \n",
    "                          num_workers=workers, pin_memory=pin_memory)"
   ]
  },
  {
   "cell_type": "code",
   "execution_count": 19,
   "metadata": {
    "execution": {
     "iopub.execute_input": "2021-04-19T06:27:42.277980Z",
     "iopub.status.busy": "2021-04-19T06:27:42.276218Z",
     "iopub.status.idle": "2021-04-19T06:27:42.278586Z",
     "shell.execute_reply": "2021-04-19T06:27:42.278976Z"
    },
    "papermill": {
     "duration": 0.036006,
     "end_time": "2021-04-19T06:27:42.279100",
     "exception": false,
     "start_time": "2021-04-19T06:27:42.243094",
     "status": "completed"
    },
    "tags": []
   },
   "outputs": [],
   "source": [
    "# loss function\n",
    "\n",
    "criterion = FocalSymmetricLovaszHardLogLoss().to(DEVICE)\n",
    "focal_loss = FocalLoss().to(DEVICE)"
   ]
  },
  {
   "cell_type": "code",
   "execution_count": 20,
   "metadata": {
    "execution": {
     "iopub.execute_input": "2021-04-19T06:27:42.349866Z",
     "iopub.status.busy": "2021-04-19T06:27:42.348720Z",
     "iopub.status.idle": "2021-04-19T06:27:42.351250Z",
     "shell.execute_reply": "2021-04-19T06:27:42.351675Z"
    },
    "papermill": {
     "duration": 0.04368,
     "end_time": "2021-04-19T06:27:42.351796",
     "exception": false,
     "start_time": "2021-04-19T06:27:42.308116",
     "status": "completed"
    },
    "tags": []
   },
   "outputs": [],
   "source": [
    "from torch.autograd import Variable\n",
    "import torch.nn.functional as F\n",
    "from sklearn.metrics import f1_score\n",
    "\n",
    "def validate(valid_loader, model, criterion, epoch, focal_loss, threshold=0.5):\n",
    "    batch_time = AverageMeter()\n",
    "    losses = AverageMeter()\n",
    "    accuracy = AverageMeter()\n",
    "\n",
    "    # switch to evaluate mode\n",
    "    model.eval()\n",
    "\n",
    "    probs_list = []\n",
    "    labels_list = []\n",
    "    logits_list = []\n",
    "    loss_list = []\n",
    "    acc_list = []\n",
    "\n",
    "    end = time.time()\n",
    "    for it, iter_data in enumerate(valid_loader, 0):\n",
    "        images, labels, indices = iter_data\n",
    "        images = Variable(images.to(DEVICE))\n",
    "        labels = Variable(labels.to(DEVICE))\n",
    "\n",
    "        outputs = model(images)\n",
    "        loss = criterion(outputs, labels, epoch=epoch)\n",
    "\n",
    "        logits = outputs\n",
    "        probs = F.sigmoid(logits)\n",
    "        acc = multi_class_acc(probs, labels)\n",
    "\n",
    "        probs_list.append(probs.cpu().detach().numpy())\n",
    "        labels_list.append(labels.cpu().detach().numpy())\n",
    "        logits_list.append(logits.cpu().detach().numpy())\n",
    "        loss_list.append(loss.item())\n",
    "        acc_list.append(acc.item())\n",
    "\n",
    "        losses.update(loss.item())\n",
    "        accuracy.update(acc.item())\n",
    "\n",
    "        # measure elapsed time\n",
    "        batch_time.update(time.time() - end)\n",
    "        end = time.time()\n",
    "\n",
    "    probs = np.vstack(probs_list)\n",
    "    y_true = np.vstack(labels_list)\n",
    "    logits = np.vstack(logits_list)\n",
    "    loss = np.vstack(loss_list)\n",
    "    acc = np.vstack(acc_list)\n",
    "    valid_focal_loss = focal_loss.forward(torch.from_numpy(logits), torch.from_numpy(y_true))\n",
    "\n",
    "    y_pred = probs > threshold\n",
    "    kaggle_score = f1_score(y_true, y_pred, average='macro')\n",
    "\n",
    "#     return losses.avg, accuracy.avg, valid_focal_loss, kaggle_score\n",
    "    return losses.avg, accuracy.avg, valid_focal_loss, kaggle_score, probs, y_true, logits, loss, acc"
   ]
  },
  {
   "cell_type": "code",
   "execution_count": 21,
   "metadata": {
    "execution": {
     "iopub.execute_input": "2021-04-19T06:27:42.427086Z",
     "iopub.status.busy": "2021-04-19T06:27:42.426501Z",
     "iopub.status.idle": "2021-04-19T07:45:07.253453Z",
     "shell.execute_reply": "2021-04-19T07:45:07.253917Z"
    },
    "papermill": {
     "duration": 4644.865133,
     "end_time": "2021-04-19T07:45:07.254083",
     "exception": false,
     "start_time": "2021-04-19T06:27:42.388950",
     "status": "completed"
    },
    "tags": []
   },
   "outputs": [
    {
     "name": "stdout",
     "output_type": "stream",
     "text": [
      "CPU times: user 8min 40s, sys: 2min 52s, total: 11min 33s\n",
      "Wall time: 1h 17min 24s\n"
     ]
    }
   ],
   "source": [
    "%%time \n",
    "\n",
    "with torch.no_grad():\n",
    "    (valid_loss, valid_acc, valid_focal_loss, kaggle_score, \n",
    "     probs, y_true, logits, loss, acc) = validate(valid_loader, model, criterion, 0, focal_loss)"
   ]
  },
  {
   "cell_type": "code",
   "execution_count": 22,
   "metadata": {
    "execution": {
     "iopub.execute_input": "2021-04-19T07:45:07.319129Z",
     "iopub.status.busy": "2021-04-19T07:45:07.318615Z",
     "iopub.status.idle": "2021-04-19T08:25:45.776249Z",
     "shell.execute_reply": "2021-04-19T08:25:45.775480Z"
    },
    "papermill": {
     "duration": 2438.492283,
     "end_time": "2021-04-19T08:25:45.776473",
     "exception": false,
     "start_time": "2021-04-19T07:45:07.284190",
     "status": "completed"
    },
    "tags": []
   },
   "outputs": [],
   "source": [
    "loss = []\n",
    "for i in range(len(logits)):\n",
    "    loss.append(criterion(torch.from_numpy(logits[[i]]), torch.from_numpy(y_true[[i]])))\n",
    "    \n",
    "loss = np.array(loss)"
   ]
  },
  {
   "cell_type": "code",
   "execution_count": 23,
   "metadata": {
    "execution": {
     "iopub.execute_input": "2021-04-19T08:25:45.869528Z",
     "iopub.status.busy": "2021-04-19T08:25:45.868687Z",
     "iopub.status.idle": "2021-04-19T08:25:48.113573Z",
     "shell.execute_reply": "2021-04-19T08:25:48.106168Z"
    },
    "papermill": {
     "duration": 2.28847,
     "end_time": "2021-04-19T08:25:48.113718",
     "exception": false,
     "start_time": "2021-04-19T08:25:45.825248",
     "status": "completed"
    },
    "tags": []
   },
   "outputs": [],
   "source": [
    "prediction_threshold = 0.3\n",
    "\n",
    "preds = (probs > prediction_threshold).astype(np.int16)\n",
    "\n",
    "ptargets = [np.where(pred)[0] for pred in preds]\n",
    "ptargets = ['|'.join(str(class_id) for class_id in target) for target in ptargets]\n",
    "\n",
    "ntargets = [np.where(pred)[0] for pred in y_true * preds]\n",
    "ntargets = ['|'.join(str(class_id) for class_id in target) for target in ntargets]"
   ]
  },
  {
   "cell_type": "code",
   "execution_count": 24,
   "metadata": {
    "execution": {
     "iopub.execute_input": "2021-04-19T08:25:48.183056Z",
     "iopub.status.busy": "2021-04-19T08:25:48.182238Z",
     "iopub.status.idle": "2021-04-19T08:25:48.221845Z",
     "shell.execute_reply": "2021-04-19T08:25:48.221427Z"
    },
    "papermill": {
     "duration": 0.078112,
     "end_time": "2021-04-19T08:25:48.221962",
     "exception": false,
     "start_time": "2021-04-19T08:25:48.143850",
     "status": "completed"
    },
    "tags": []
   },
   "outputs": [],
   "source": [
    "df_cells.rename({'Target': 'original_target'}, axis=1, inplace=True)\n",
    "df_cells['predicted_target'] = ptargets\n",
    "df_cells['predicted_target_loss'] = loss.flatten()\n",
    "df_cells['Target'] = ntargets"
   ]
  },
  {
   "cell_type": "code",
   "execution_count": 25,
   "metadata": {
    "execution": {
     "iopub.execute_input": "2021-04-19T08:25:48.286658Z",
     "iopub.status.busy": "2021-04-19T08:25:48.286128Z",
     "iopub.status.idle": "2021-04-19T08:25:50.203254Z",
     "shell.execute_reply": "2021-04-19T08:25:50.202780Z"
    },
    "papermill": {
     "duration": 1.951377,
     "end_time": "2021-04-19T08:25:50.203412",
     "exception": false,
     "start_time": "2021-04-19T08:25:48.252035",
     "status": "completed"
    },
    "tags": []
   },
   "outputs": [],
   "source": [
    "df_cells.to_feather('/kaggle/working/train.feather')"
   ]
  },
  {
   "cell_type": "code",
   "execution_count": 26,
   "metadata": {
    "execution": {
     "iopub.execute_input": "2021-04-19T08:25:50.279972Z",
     "iopub.status.busy": "2021-04-19T08:25:50.279226Z",
     "iopub.status.idle": "2021-04-19T08:25:50.291609Z",
     "shell.execute_reply": "2021-04-19T08:25:50.291176Z"
    },
    "papermill": {
     "duration": 0.057913,
     "end_time": "2021-04-19T08:25:50.291725",
     "exception": false,
     "start_time": "2021-04-19T08:25:50.233812",
     "status": "completed"
    },
    "tags": []
   },
   "outputs": [
    {
     "data": {
      "text/html": [
       "<div>\n",
       "<style scoped>\n",
       "    .dataframe tbody tr th:only-of-type {\n",
       "        vertical-align: middle;\n",
       "    }\n",
       "\n",
       "    .dataframe tbody tr th {\n",
       "        vertical-align: top;\n",
       "    }\n",
       "\n",
       "    .dataframe thead th {\n",
       "        text-align: right;\n",
       "    }\n",
       "</style>\n",
       "<table border=\"1\" class=\"dataframe\">\n",
       "  <thead>\n",
       "    <tr style=\"text-align: right;\">\n",
       "      <th></th>\n",
       "      <th>Id</th>\n",
       "      <th>rle</th>\n",
       "      <th>bbox</th>\n",
       "      <th>original_target</th>\n",
       "      <th>max_green</th>\n",
       "      <th>subset</th>\n",
       "      <th>predicted_target</th>\n",
       "      <th>predicted_target_loss</th>\n",
       "      <th>Target</th>\n",
       "    </tr>\n",
       "  </thead>\n",
       "  <tbody>\n",
       "    <tr>\n",
       "      <th>0</th>\n",
       "      <td>3d386b44-bba3-11e8-b2b9-ac1f6b6435d0_16</td>\n",
       "      <td>{'counts': b'`o]g04ko12N2L6F&gt;H1O1M3M3O1O1M3fNZ...</td>\n",
       "      <td>[374, 1726, 874, 2048]</td>\n",
       "      <td>16|5</td>\n",
       "      <td>255</td>\n",
       "      <td>1</td>\n",
       "      <td>5|6</td>\n",
       "      <td>4.119574</td>\n",
       "      <td>5</td>\n",
       "    </tr>\n",
       "    <tr>\n",
       "      <th>1</th>\n",
       "      <td>e4cd80b2-bba1-11e8-b2b9-ac1f6b6435d0_16</td>\n",
       "      <td>{'counts': b'`oU3480Wo14cPNO\\\\o1;M3I7O1O1M3I7O...</td>\n",
       "      <td>[50, 1955, 150, 2048]</td>\n",
       "      <td>14|0</td>\n",
       "      <td>255</td>\n",
       "      <td>4</td>\n",
       "      <td>4</td>\n",
       "      <td>1.931588</td>\n",
       "      <td></td>\n",
       "    </tr>\n",
       "    <tr>\n",
       "      <th>2</th>\n",
       "      <td>d6855b58-bbbd-11e8-b2ba-ac1f6b6435d0_11</td>\n",
       "      <td>{'counts': b'YeeU2c0\\\\o12N2N4L4L2N2N4Lj0VO2N1O...</td>\n",
       "      <td>[1114, 1293, 1970, 1910]</td>\n",
       "      <td>14|4</td>\n",
       "      <td>255</td>\n",
       "      <td>4</td>\n",
       "      <td>14</td>\n",
       "      <td>2.521235</td>\n",
       "      <td>14</td>\n",
       "    </tr>\n",
       "    <tr>\n",
       "      <th>3</th>\n",
       "      <td>ec7dca56-bbc4-11e8-b2bc-ac1f6b6435d0_13</td>\n",
       "      <td>{'counts': b'\\\\RUl0&lt;co12N2L6G9L2N2N4K8I2N2L4M4...</td>\n",
       "      <td>[450, 1007, 814, 1310]</td>\n",
       "      <td>2|0</td>\n",
       "      <td>255</td>\n",
       "      <td>4</td>\n",
       "      <td>0|6</td>\n",
       "      <td>2.242480</td>\n",
       "      <td>0</td>\n",
       "    </tr>\n",
       "    <tr>\n",
       "      <th>4</th>\n",
       "      <td>76bed770-bbb9-11e8-b2ba-ac1f6b6435d0_10</td>\n",
       "      <td>{'counts': b'nUUi0\\\\14PO0H00^m2[2M3L4K5N1O2N2N...</td>\n",
       "      <td>[268, 851, 1150, 1517]</td>\n",
       "      <td>0|13</td>\n",
       "      <td>50</td>\n",
       "      <td>2</td>\n",
       "      <td>9|13</td>\n",
       "      <td>3.471165</td>\n",
       "      <td>13</td>\n",
       "    </tr>\n",
       "  </tbody>\n",
       "</table>\n",
       "</div>"
      ],
      "text/plain": [
       "                                        Id  \\\n",
       "0  3d386b44-bba3-11e8-b2b9-ac1f6b6435d0_16   \n",
       "1  e4cd80b2-bba1-11e8-b2b9-ac1f6b6435d0_16   \n",
       "2  d6855b58-bbbd-11e8-b2ba-ac1f6b6435d0_11   \n",
       "3  ec7dca56-bbc4-11e8-b2bc-ac1f6b6435d0_13   \n",
       "4  76bed770-bbb9-11e8-b2ba-ac1f6b6435d0_10   \n",
       "\n",
       "                                                 rle  \\\n",
       "0  {'counts': b'`o]g04ko12N2L6F>H1O1M3M3O1O1M3fNZ...   \n",
       "1  {'counts': b'`oU3480Wo14cPNO\\\\o1;M3I7O1O1M3I7O...   \n",
       "2  {'counts': b'YeeU2c0\\\\o12N2N4L4L2N2N4Lj0VO2N1O...   \n",
       "3  {'counts': b'\\\\RUl0<co12N2L6G9L2N2N4K8I2N2L4M4...   \n",
       "4  {'counts': b'nUUi0\\\\14PO0H00^m2[2M3L4K5N1O2N2N...   \n",
       "\n",
       "                       bbox original_target  max_green  subset  \\\n",
       "0    [374, 1726, 874, 2048]            16|5        255       1   \n",
       "1     [50, 1955, 150, 2048]            14|0        255       4   \n",
       "2  [1114, 1293, 1970, 1910]            14|4        255       4   \n",
       "3    [450, 1007, 814, 1310]             2|0        255       4   \n",
       "4    [268, 851, 1150, 1517]            0|13         50       2   \n",
       "\n",
       "  predicted_target  predicted_target_loss Target  \n",
       "0              5|6               4.119574      5  \n",
       "1                4               1.931588         \n",
       "2               14               2.521235     14  \n",
       "3              0|6               2.242480      0  \n",
       "4             9|13               3.471165     13  "
      ]
     },
     "execution_count": 26,
     "metadata": {},
     "output_type": "execute_result"
    }
   ],
   "source": [
    "df_cells.head()"
   ]
  },
  {
   "cell_type": "code",
   "execution_count": 27,
   "metadata": {
    "execution": {
     "iopub.execute_input": "2021-04-19T08:25:50.366349Z",
     "iopub.status.busy": "2021-04-19T08:25:50.365586Z",
     "iopub.status.idle": "2021-04-19T08:25:50.371293Z",
     "shell.execute_reply": "2021-04-19T08:25:50.370746Z"
    },
    "papermill": {
     "duration": 0.044213,
     "end_time": "2021-04-19T08:25:50.371439",
     "exception": false,
     "start_time": "2021-04-19T08:25:50.327226",
     "status": "completed"
    },
    "tags": []
   },
   "outputs": [],
   "source": [
    "# ntop = 5\n",
    "# idxs = loss.flatten().argsort()[::-1][:ntop]\n",
    "\n",
    "# ncols = 4\n",
    "# nrows = (ntop - 1) // ncols + 1\n",
    "# fig, axs = plt.subplots(nrows=nrows, ncols=ncols, figsize=(ncols * 5, nrows * 5))\n",
    "# axs = axs.flatten()\n",
    "# for ax in axs:\n",
    "#     ax.axis('off')\n",
    "\n",
    "# for ax, i in zip(axs, idxs):\n",
    "#     img = valid_dataset[i][0].permute(1, 2, 0).numpy()\n",
    "#     ax.imshow(img[...,[0, 3, 2]])\n",
    "    \n",
    "#     ax.set_title(f'GT {df_cells.original_target.iloc[i]}    Pred {ptargets[i]}  Loss {loss[i].item():.2f}')"
   ]
  },
  {
   "cell_type": "code",
   "execution_count": null,
   "metadata": {
    "papermill": {
     "duration": 0.031053,
     "end_time": "2021-04-19T08:25:50.434904",
     "exception": false,
     "start_time": "2021-04-19T08:25:50.403851",
     "status": "completed"
    },
    "tags": []
   },
   "outputs": [],
   "source": []
  }
 ],
 "metadata": {
  "kernelspec": {
   "display_name": "Python 3",
   "language": "python",
   "name": "python3"
  },
  "language_info": {
   "codemirror_mode": {
    "name": "ipython",
    "version": 3
   },
   "file_extension": ".py",
   "mimetype": "text/x-python",
   "name": "python",
   "nbconvert_exporter": "python",
   "pygments_lexer": "ipython3",
   "version": "3.7.9"
  },
  "papermill": {
   "default_parameters": {},
   "duration": 7348.786125,
   "end_time": "2021-04-19T08:25:53.398340",
   "environment_variables": {},
   "exception": null,
   "input_path": "__notebook__.ipynb",
   "output_path": "__notebook__.ipynb",
   "parameters": {},
   "start_time": "2021-04-19T06:23:24.612215",
   "version": "2.2.2"
  }
 },
 "nbformat": 4,
 "nbformat_minor": 4
}
