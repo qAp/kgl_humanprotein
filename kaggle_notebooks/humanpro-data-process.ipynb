{
 "cells": [
  {
   "cell_type": "markdown",
   "metadata": {
    "papermill": {
     "duration": 0.011822,
     "end_time": "2021-04-08T04:03:27.549700",
     "exception": false,
     "start_time": "2021-04-08T04:03:27.537878",
     "status": "completed"
    },
    "tags": []
   },
   "source": [
    "# Data processing"
   ]
  },
  {
   "cell_type": "code",
   "execution_count": 1,
   "metadata": {
    "execution": {
     "iopub.execute_input": "2021-04-08T04:03:27.578559Z",
     "iopub.status.busy": "2021-04-08T04:03:27.577922Z",
     "iopub.status.idle": "2021-04-08T04:03:28.353358Z",
     "shell.execute_reply": "2021-04-08T04:03:28.352565Z"
    },
    "papermill": {
     "duration": 0.791788,
     "end_time": "2021-04-08T04:03:28.353587",
     "exception": false,
     "start_time": "2021-04-08T04:03:27.561799",
     "status": "completed"
    },
    "tags": []
   },
   "outputs": [],
   "source": [
    "! mkdir /kaggle/working/test_tmp/"
   ]
  },
  {
   "cell_type": "code",
   "execution_count": 2,
   "metadata": {
    "execution": {
     "iopub.execute_input": "2021-04-08T04:03:28.384431Z",
     "iopub.status.busy": "2021-04-08T04:03:28.381500Z",
     "iopub.status.idle": "2021-04-08T04:03:29.364780Z",
     "shell.execute_reply": "2021-04-08T04:03:29.364157Z"
    },
    "papermill": {
     "duration": 0.999928,
     "end_time": "2021-04-08T04:03:29.364965",
     "exception": false,
     "start_time": "2021-04-08T04:03:28.365037",
     "status": "completed"
    },
    "tags": []
   },
   "outputs": [],
   "source": [
    "! cp /kaggle/input/hpa-single-cell-image-classification/test/0040581b-f1f2-4fbe-b043-b6bfea5404bb_red.png /kaggle/working/test_tmp/."
   ]
  },
  {
   "cell_type": "code",
   "execution_count": 3,
   "metadata": {
    "collapsed": true,
    "execution": {
     "iopub.execute_input": "2021-04-08T04:03:29.391543Z",
     "iopub.status.busy": "2021-04-08T04:03:29.390746Z",
     "iopub.status.idle": "2021-04-08T04:03:29.394195Z",
     "shell.execute_reply": "2021-04-08T04:03:29.393542Z"
    },
    "jupyter": {
     "outputs_hidden": true
    },
    "papermill": {
     "duration": 0.01855,
     "end_time": "2021-04-08T04:03:29.394343",
     "exception": false,
     "start_time": "2021-04-08T04:03:29.375793",
     "status": "completed"
    },
    "tags": []
   },
   "outputs": [],
   "source": [
    "# ! ls -n 5 /kaggle//input/hpa-single-cell-image-classification/test"
   ]
  },
  {
   "cell_type": "code",
   "execution_count": 4,
   "metadata": {
    "_kg_hide-output": true,
    "collapsed": true,
    "execution": {
     "iopub.execute_input": "2021-04-08T04:03:29.421918Z",
     "iopub.status.busy": "2021-04-08T04:03:29.421202Z",
     "iopub.status.idle": "2021-04-08T04:03:29.424178Z",
     "shell.execute_reply": "2021-04-08T04:03:29.424650Z"
    },
    "jupyter": {
     "outputs_hidden": true
    },
    "papermill": {
     "duration": 0.019311,
     "end_time": "2021-04-08T04:03:29.424859",
     "exception": false,
     "start_time": "2021-04-08T04:03:29.405548",
     "status": "completed"
    },
    "tags": []
   },
   "outputs": [],
   "source": [
    "# ! rsync -a /kaggle/input/mmdetection-v280/mmdetection /\n",
    "# ! pip install /kaggle/input/mmdetection-v280/src/mmpycocotools-12.0.3/mmpycocotools-12.0.3/\n",
    "# ! pip install /kaggle/input/hpapytorchzoo/pytorch_zoo-master/\n",
    "# ! pip install /kaggle/input/hpacellsegmentation/HPA-Cell-Segmentation/\n",
    "# ! pip install /kaggle/input/iterative-stratification/iterative-stratification-master/\n",
    "\n",
    "# ! cp -r /kaggle/input/kgl-humanprotein-data/kgl_humanprotein_data /\n",
    "# ! cp -r /kaggle/input/kgl-humanpro/kgl_humanprotein /\n",
    "\n",
    "# %cd /kgl_humanprotein/nbs/\n",
    "# import sys\n",
    "# sys.path.append('/kgl_humanprotein/')"
   ]
  },
  {
   "cell_type": "code",
   "execution_count": 5,
   "metadata": {
    "execution": {
     "iopub.execute_input": "2021-04-08T04:03:29.452389Z",
     "iopub.status.busy": "2021-04-08T04:03:29.451677Z",
     "iopub.status.idle": "2021-04-08T04:03:29.455713Z",
     "shell.execute_reply": "2021-04-08T04:03:29.455175Z"
    },
    "papermill": {
     "duration": 0.019676,
     "end_time": "2021-04-08T04:03:29.455874",
     "exception": false,
     "start_time": "2021-04-08T04:03:29.436198",
     "status": "completed"
    },
    "tags": []
   },
   "outputs": [],
   "source": [
    "# from pathlib import Path\n",
    "# import shutil\n",
    "# import zipfile\n",
    "# import numpy as np\n",
    "# import pandas as pd\n",
    "# import matplotlib.pyplot as plt\n",
    "\n",
    "# from kgl_humanprotein.utils.common_util import *\n",
    "# from kgl_humanprotein.config.config import *\n",
    "# from kgl_humanprotein.data_process import *"
   ]
  },
  {
   "cell_type": "code",
   "execution_count": 6,
   "metadata": {
    "execution": {
     "iopub.execute_input": "2021-04-08T04:03:29.482910Z",
     "iopub.status.busy": "2021-04-08T04:03:29.482280Z",
     "iopub.status.idle": "2021-04-08T04:03:29.485520Z",
     "shell.execute_reply": "2021-04-08T04:03:29.485055Z"
    },
    "papermill": {
     "duration": 0.018534,
     "end_time": "2021-04-08T04:03:29.485664",
     "exception": false,
     "start_time": "2021-04-08T04:03:29.467130",
     "status": "completed"
    },
    "tags": []
   },
   "outputs": [],
   "source": [
    "# import holoviews as hv\n",
    "# hv.extension('bokeh')"
   ]
  },
  {
   "cell_type": "code",
   "execution_count": 7,
   "metadata": {
    "execution": {
     "iopub.execute_input": "2021-04-08T04:03:29.512481Z",
     "iopub.status.busy": "2021-04-08T04:03:29.511767Z",
     "iopub.status.idle": "2021-04-08T04:03:29.515201Z",
     "shell.execute_reply": "2021-04-08T04:03:29.514701Z"
    },
    "papermill": {
     "duration": 0.018306,
     "end_time": "2021-04-08T04:03:29.515350",
     "exception": false,
     "start_time": "2021-04-08T04:03:29.497044",
     "status": "completed"
    },
    "tags": []
   },
   "outputs": [],
   "source": [
    "# dir_hpa = Path('/kaggle/input/hpa-single-cell-image-classification')\n",
    "# dir_trn = dir_hpa/'train'\n",
    "# dir_test = dir_hpa/'test'"
   ]
  },
  {
   "cell_type": "markdown",
   "metadata": {
    "papermill": {
     "duration": 0.010983,
     "end_time": "2021-04-08T04:03:29.537946",
     "exception": false,
     "start_time": "2021-04-08T04:03:29.526963",
     "status": "completed"
    },
    "tags": []
   },
   "source": [
    "## Segment `train` images"
   ]
  },
  {
   "cell_type": "code",
   "execution_count": 8,
   "metadata": {
    "execution": {
     "iopub.execute_input": "2021-04-08T04:03:29.567069Z",
     "iopub.status.busy": "2021-04-08T04:03:29.566427Z",
     "iopub.status.idle": "2021-04-08T04:03:29.568594Z",
     "shell.execute_reply": "2021-04-08T04:03:29.569025Z"
    },
    "papermill": {
     "duration": 0.01931,
     "end_time": "2021-04-08T04:03:29.569207",
     "exception": false,
     "start_time": "2021-04-08T04:03:29.549897",
     "status": "completed"
    },
    "tags": []
   },
   "outputs": [],
   "source": [
    "# dir_seg_trn = Path('/kaggle/input/hpa-processed-train-dataframe-with-cellwise-rle')\n",
    "# pth_seg_trn = dir_seg_trn / 'train_df_w_masks_shape_bboxes.csv'"
   ]
  },
  {
   "cell_type": "code",
   "execution_count": 9,
   "metadata": {
    "execution": {
     "iopub.execute_input": "2021-04-08T04:03:29.595444Z",
     "iopub.status.busy": "2021-04-08T04:03:29.594692Z",
     "iopub.status.idle": "2021-04-08T04:03:29.598109Z",
     "shell.execute_reply": "2021-04-08T04:03:29.598596Z"
    },
    "papermill": {
     "duration": 0.01784,
     "end_time": "2021-04-08T04:03:29.598765",
     "exception": false,
     "start_time": "2021-04-08T04:03:29.580925",
     "status": "completed"
    },
    "tags": []
   },
   "outputs": [],
   "source": [
    "# df_seg_trn = load_seg_trn(pth_seg_trn)"
   ]
  },
  {
   "cell_type": "code",
   "execution_count": 10,
   "metadata": {
    "execution": {
     "iopub.execute_input": "2021-04-08T04:03:29.625066Z",
     "iopub.status.busy": "2021-04-08T04:03:29.624418Z",
     "iopub.status.idle": "2021-04-08T04:03:29.627466Z",
     "shell.execute_reply": "2021-04-08T04:03:29.627958Z"
    },
    "papermill": {
     "duration": 0.017832,
     "end_time": "2021-04-08T04:03:29.628127",
     "exception": false,
     "start_time": "2021-04-08T04:03:29.610295",
     "status": "completed"
    },
    "tags": []
   },
   "outputs": [],
   "source": [
    "# # This takes ~ 3 hours\n",
    "# df_cells_trn = split_cells(df_seg_trn)"
   ]
  },
  {
   "cell_type": "code",
   "execution_count": 11,
   "metadata": {
    "execution": {
     "iopub.execute_input": "2021-04-08T04:03:29.655050Z",
     "iopub.status.busy": "2021-04-08T04:03:29.654304Z",
     "iopub.status.idle": "2021-04-08T04:03:29.658683Z",
     "shell.execute_reply": "2021-04-08T04:03:29.658185Z"
    },
    "papermill": {
     "duration": 0.019201,
     "end_time": "2021-04-08T04:03:29.658886",
     "exception": false,
     "start_time": "2021-04-08T04:03:29.639685",
     "status": "completed"
    },
    "tags": []
   },
   "outputs": [],
   "source": [
    "# df_cells_trn.to_feather('/kaggle/working/df_cells_trn.feather')"
   ]
  },
  {
   "cell_type": "code",
   "execution_count": 12,
   "metadata": {
    "execution": {
     "iopub.execute_input": "2021-04-08T04:03:29.688454Z",
     "iopub.status.busy": "2021-04-08T04:03:29.687741Z",
     "iopub.status.idle": "2021-04-08T04:03:29.689793Z",
     "shell.execute_reply": "2021-04-08T04:03:29.690236Z"
    },
    "papermill": {
     "duration": 0.019824,
     "end_time": "2021-04-08T04:03:29.690413",
     "exception": false,
     "start_time": "2021-04-08T04:03:29.670589",
     "status": "completed"
    },
    "tags": []
   },
   "outputs": [],
   "source": [
    "# print('Loading cell segmentations...')\n",
    "\n",
    "# df_cells_trn = pd.read_feather('/kaggle/input/humanpro-df-cells-trn/df_cells_trn.feather')"
   ]
  },
  {
   "cell_type": "markdown",
   "metadata": {
    "papermill": {
     "duration": 0.011574,
     "end_time": "2021-04-08T04:03:29.714106",
     "exception": false,
     "start_time": "2021-04-08T04:03:29.702532",
     "status": "completed"
    },
    "tags": []
   },
   "source": [
    "## Generate `train` crops"
   ]
  },
  {
   "cell_type": "markdown",
   "metadata": {
    "papermill": {
     "duration": 0.011508,
     "end_time": "2021-04-08T04:03:29.737482",
     "exception": false,
     "start_time": "2021-04-08T04:03:29.725974",
     "status": "completed"
    },
    "tags": []
   },
   "source": [
    "10 cells at image size 384 equals 1.9 MB."
   ]
  },
  {
   "cell_type": "code",
   "execution_count": 13,
   "metadata": {
    "execution": {
     "iopub.execute_input": "2021-04-08T04:03:29.764383Z",
     "iopub.status.busy": "2021-04-08T04:03:29.763650Z",
     "iopub.status.idle": "2021-04-08T04:03:29.766610Z",
     "shell.execute_reply": "2021-04-08T04:03:29.767061Z"
    },
    "papermill": {
     "duration": 0.017928,
     "end_time": "2021-04-08T04:03:29.767268",
     "exception": false,
     "start_time": "2021-04-08T04:03:29.749340",
     "status": "completed"
    },
    "tags": []
   },
   "outputs": [],
   "source": [
    "# crop_sz = 384"
   ]
  },
  {
   "cell_type": "code",
   "execution_count": 14,
   "metadata": {
    "execution": {
     "iopub.execute_input": "2021-04-08T04:03:29.795225Z",
     "iopub.status.busy": "2021-04-08T04:03:29.794553Z",
     "iopub.status.idle": "2021-04-08T04:03:29.797587Z",
     "shell.execute_reply": "2021-04-08T04:03:29.798011Z"
    },
    "papermill": {
     "duration": 0.018785,
     "end_time": "2021-04-08T04:03:29.798224",
     "exception": false,
     "start_time": "2021-04-08T04:03:29.779439",
     "status": "completed"
    },
    "tags": []
   },
   "outputs": [],
   "source": [
    "# subset_sz = 100_000"
   ]
  },
  {
   "cell_type": "code",
   "execution_count": 15,
   "metadata": {
    "execution": {
     "iopub.execute_input": "2021-04-08T04:03:29.828627Z",
     "iopub.status.busy": "2021-04-08T04:03:29.827642Z",
     "iopub.status.idle": "2021-04-08T04:03:29.832534Z",
     "shell.execute_reply": "2021-04-08T04:03:29.831904Z"
    },
    "papermill": {
     "duration": 0.022413,
     "end_time": "2021-04-08T04:03:29.832680",
     "exception": false,
     "start_time": "2021-04-08T04:03:29.810267",
     "status": "completed"
    },
    "tags": []
   },
   "outputs": [],
   "source": [
    "# idx_subset = 5\n",
    "\n",
    "# df_cells_trn_subset = df_cells_trn.iloc[idx_subset * subset_sz: (idx_subset + 1) * subset_sz]\n",
    "# df_cells_trn_subset.reset_index(inplace=True, drop=True)\n",
    "\n",
    "# df_cells_trn_subset.head()"
   ]
  },
  {
   "cell_type": "code",
   "execution_count": 16,
   "metadata": {
    "execution": {
     "iopub.execute_input": "2021-04-08T04:03:29.862221Z",
     "iopub.status.busy": "2021-04-08T04:03:29.861550Z",
     "iopub.status.idle": "2021-04-08T04:03:29.864794Z",
     "shell.execute_reply": "2021-04-08T04:03:29.864309Z"
    },
    "papermill": {
     "duration": 0.020058,
     "end_time": "2021-04-08T04:03:29.864955",
     "exception": false,
     "start_time": "2021-04-08T04:03:29.844897",
     "status": "completed"
    },
    "tags": []
   },
   "outputs": [],
   "source": [
    "# %%time\n",
    "\n",
    "# print('Writing out crops...')\n",
    "\n",
    "# dir_crops_trn = DATA_DIR / 'train' / f'images_{crop_sz}'\n",
    "# dir_crops_trn.mkdir(exist_ok=True, parents=True)\n",
    "\n",
    "# df_cells_trn_subset = generate_crops(\n",
    "#     df_cells_trn_subset, dir_trn, dir_crops_trn, out_sz=crop_sz)"
   ]
  },
  {
   "cell_type": "code",
   "execution_count": 17,
   "metadata": {
    "execution": {
     "iopub.execute_input": "2021-04-08T04:03:29.894364Z",
     "iopub.status.busy": "2021-04-08T04:03:29.893625Z",
     "iopub.status.idle": "2021-04-08T04:03:29.897407Z",
     "shell.execute_reply": "2021-04-08T04:03:29.896801Z"
    },
    "papermill": {
     "duration": 0.020402,
     "end_time": "2021-04-08T04:03:29.897556",
     "exception": false,
     "start_time": "2021-04-08T04:03:29.877154",
     "status": "completed"
    },
    "tags": []
   },
   "outputs": [],
   "source": [
    "# print('Writing out df_cells_trn_subset...')\n",
    "\n",
    "# dir_data_raw = DATA_DIR / 'raw'\n",
    "# dir_data_raw.mkdir(exist_ok=True)\n",
    "\n",
    "# df_cells_trn_subset.to_feather(dir_data_raw / 'train.feather')"
   ]
  },
  {
   "cell_type": "markdown",
   "metadata": {
    "papermill": {
     "duration": 0.011881,
     "end_time": "2021-04-08T04:03:29.921607",
     "exception": false,
     "start_time": "2021-04-08T04:03:29.909726",
     "status": "completed"
    },
    "tags": []
   },
   "source": [
    "## Backup data"
   ]
  },
  {
   "cell_type": "code",
   "execution_count": 18,
   "metadata": {
    "execution": {
     "iopub.execute_input": "2021-04-08T04:03:29.951661Z",
     "iopub.status.busy": "2021-04-08T04:03:29.950870Z",
     "iopub.status.idle": "2021-04-08T04:03:29.953688Z",
     "shell.execute_reply": "2021-04-08T04:03:29.953178Z"
    },
    "papermill": {
     "duration": 0.019179,
     "end_time": "2021-04-08T04:03:29.953824",
     "exception": false,
     "start_time": "2021-04-08T04:03:29.934645",
     "status": "completed"
    },
    "tags": []
   },
   "outputs": [],
   "source": [
    "# print('Writing to Kaggle output...')\n",
    "\n",
    "# dir_kaggle_output = Path('/kaggle/working')\n",
    "\n",
    "# with zipfile.ZipFile(dir_kaggle_output/f'protein_{idx_subset}.zip', mode='w') as f:\n",
    "    \n",
    "#     for n in dir_data_raw.ls():\n",
    "#         f.write(n)\n",
    "        \n",
    "#     for n in dir_crops_trn.ls():\n",
    "#         f.write(n)"
   ]
  },
  {
   "cell_type": "code",
   "execution_count": null,
   "metadata": {
    "papermill": {
     "duration": 0.011882,
     "end_time": "2021-04-08T04:03:29.978239",
     "exception": false,
     "start_time": "2021-04-08T04:03:29.966357",
     "status": "completed"
    },
    "tags": []
   },
   "outputs": [],
   "source": []
  }
 ],
 "metadata": {
  "kernelspec": {
   "display_name": "Python 3",
   "language": "python",
   "name": "python3"
  },
  "language_info": {
   "codemirror_mode": {
    "name": "ipython",
    "version": 3
   },
   "file_extension": ".py",
   "mimetype": "text/x-python",
   "name": "python",
   "nbconvert_exporter": "python",
   "pygments_lexer": "ipython3",
   "version": "3.7.9"
  },
  "papermill": {
   "default_parameters": {},
   "duration": 8.637425,
   "end_time": "2021-04-08T04:03:30.601291",
   "environment_variables": {},
   "exception": null,
   "input_path": "__notebook__.ipynb",
   "output_path": "__notebook__.ipynb",
   "parameters": {},
   "start_time": "2021-04-08T04:03:21.963866",
   "version": "2.2.2"
  }
 },
 "nbformat": 4,
 "nbformat_minor": 4
}
