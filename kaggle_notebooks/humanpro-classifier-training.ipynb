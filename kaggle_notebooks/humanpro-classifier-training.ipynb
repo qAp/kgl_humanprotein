{
 "cells": [
  {
   "cell_type": "markdown",
   "metadata": {
    "papermill": {
     "duration": 0.014868,
     "end_time": "2021-04-13T14:38:26.052207",
     "exception": false,
     "start_time": "2021-04-13T14:38:26.037339",
     "status": "completed"
    },
    "tags": []
   },
   "source": [
    "# Classifier Training"
   ]
  },
  {
   "cell_type": "code",
   "execution_count": 1,
   "metadata": {
    "_kg_hide-output": true,
    "execution": {
     "iopub.execute_input": "2021-04-13T14:38:26.096144Z",
     "iopub.status.busy": "2021-04-13T14:38:26.095579Z",
     "iopub.status.idle": "2021-04-13T14:40:49.440679Z",
     "shell.execute_reply": "2021-04-13T14:40:49.439821Z"
    },
    "papermill": {
     "duration": 143.374812,
     "end_time": "2021-04-13T14:40:49.440937",
     "exception": false,
     "start_time": "2021-04-13T14:38:26.066125",
     "status": "completed"
    },
    "tags": []
   },
   "outputs": [
    {
     "name": "stdout",
     "output_type": "stream",
     "text": [
      "Processing /kaggle/input/mmdetection-v280/src/mmpycocotools-12.0.3/mmpycocotools-12.0.3\r\n",
      "Requirement already satisfied: setuptools>=18.0 in /opt/conda/lib/python3.7/site-packages (from mmpycocotools==12.0.3) (49.6.0.post20201009)\r\n",
      "Requirement already satisfied: cython>=0.27.3 in /opt/conda/lib/python3.7/site-packages (from mmpycocotools==12.0.3) (0.29.21)\r\n",
      "Requirement already satisfied: matplotlib>=2.1.0 in /opt/conda/lib/python3.7/site-packages (from mmpycocotools==12.0.3) (3.3.3)\r\n",
      "Requirement already satisfied: cycler>=0.10 in /opt/conda/lib/python3.7/site-packages (from matplotlib>=2.1.0->mmpycocotools==12.0.3) (0.10.0)\r\n",
      "Requirement already satisfied: pillow>=6.2.0 in /opt/conda/lib/python3.7/site-packages (from matplotlib>=2.1.0->mmpycocotools==12.0.3) (7.2.0)\r\n",
      "Requirement already satisfied: python-dateutil>=2.1 in /opt/conda/lib/python3.7/site-packages (from matplotlib>=2.1.0->mmpycocotools==12.0.3) (2.8.1)\r\n",
      "Requirement already satisfied: numpy>=1.15 in /opt/conda/lib/python3.7/site-packages (from matplotlib>=2.1.0->mmpycocotools==12.0.3) (1.19.5)\r\n",
      "Requirement already satisfied: kiwisolver>=1.0.1 in /opt/conda/lib/python3.7/site-packages (from matplotlib>=2.1.0->mmpycocotools==12.0.3) (1.3.1)\r\n",
      "Requirement already satisfied: pyparsing!=2.0.4,!=2.1.2,!=2.1.6,>=2.0.3 in /opt/conda/lib/python3.7/site-packages (from matplotlib>=2.1.0->mmpycocotools==12.0.3) (2.4.7)\r\n",
      "Requirement already satisfied: six in /opt/conda/lib/python3.7/site-packages (from cycler>=0.10->matplotlib>=2.1.0->mmpycocotools==12.0.3) (1.15.0)\r\n",
      "Building wheels for collected packages: mmpycocotools\r\n",
      "  Building wheel for mmpycocotools (setup.py) ... \u001b[?25l-\b \b\\\b \b|\b \b/\b \b-\b \b\\\b \b|\b \b/\b \b-\b \bdone\r\n",
      "\u001b[?25h  Created wheel for mmpycocotools: filename=mmpycocotools-12.0.3-cp37-cp37m-linux_x86_64.whl size=272905 sha256=59d5728e20dde77ee9d3f3cc11e112340990447aa19a7b9085838806d0a3b10c\r\n",
      "  Stored in directory: /root/.cache/pip/wheels/80/e0/da/3288fdf3965b5c9090f368462db9d28be2c82013f51821090a\r\n",
      "Successfully built mmpycocotools\r\n",
      "Installing collected packages: mmpycocotools\r\n",
      "Successfully installed mmpycocotools-12.0.3\r\n",
      "Processing /kaggle/input/hpapytorchzoo/pytorch_zoo-master\r\n",
      "Building wheels for collected packages: pytorch-zoo\r\n",
      "  Building wheel for pytorch-zoo (setup.py) ... \u001b[?25l-\b \bdone\r\n",
      "\u001b[?25h  Created wheel for pytorch-zoo: filename=pytorch_zoo-0.0.0-py3-none-any.whl size=30139 sha256=186324a2b0fa5d2dd7f75fa9018ed68c23285009774ac7ad39d93dd42179cc4f\r\n",
      "  Stored in directory: /root/.cache/pip/wheels/7f/18/21/aff5a8914e22461b2b025a9629c2b70464c36183caaf12bc09\r\n",
      "Successfully built pytorch-zoo\r\n",
      "Installing collected packages: pytorch-zoo\r\n",
      "Successfully installed pytorch-zoo-0.0.0\r\n",
      "Processing /kaggle/input/hpacellsegmentation/HPA-Cell-Segmentation\r\n",
      "Building wheels for collected packages: hpacellseg\r\n",
      "  Building wheel for hpacellseg (setup.py) ... \u001b[?25l-\b \b\\\b \bdone\r\n",
      "\u001b[?25h  Created wheel for hpacellseg: filename=hpacellseg-0.1.8-py3-none-any.whl size=14815 sha256=ee58c58dca1a6de8a012c8520c940119d7fb331d980a231cbd61f447bade615f\r\n",
      "  Stored in directory: /root/.cache/pip/wheels/50/41/15/9f15b23726cf96bdbc26670ce1c7526c719d4bce49418c1a20\r\n",
      "Successfully built hpacellseg\r\n",
      "Installing collected packages: hpacellseg\r\n",
      "Successfully installed hpacellseg-0.1.8\r\n",
      "Processing /kaggle/input/iterative-stratification/iterative-stratification-master\r\n",
      "Requirement already satisfied: numpy in /opt/conda/lib/python3.7/site-packages (from iterative-stratification==0.1.6) (1.19.5)\r\n",
      "Requirement already satisfied: scipy in /opt/conda/lib/python3.7/site-packages (from iterative-stratification==0.1.6) (1.5.4)\r\n",
      "Requirement already satisfied: scikit-learn in /opt/conda/lib/python3.7/site-packages (from iterative-stratification==0.1.6) (0.24.1)\r\n",
      "Requirement already satisfied: joblib>=0.11 in /opt/conda/lib/python3.7/site-packages (from scikit-learn->iterative-stratification==0.1.6) (1.0.0)\r\n",
      "Requirement already satisfied: threadpoolctl>=2.0.0 in /opt/conda/lib/python3.7/site-packages (from scikit-learn->iterative-stratification==0.1.6) (2.1.0)\r\n",
      "Building wheels for collected packages: iterative-stratification\r\n",
      "  Building wheel for iterative-stratification (setup.py) ... \u001b[?25l-\b \bdone\r\n",
      "\u001b[?25h  Created wheel for iterative-stratification: filename=iterative_stratification-0.1.6-py3-none-any.whl size=8401 sha256=f0126fe80bf313d1befb89b01f6d9a872ecbe15c7482a2f83ff66ed3071dfae6\r\n",
      "  Stored in directory: /root/.cache/pip/wheels/b8/47/3f/eb4af42d124f37d23d6f13a4c8bbc32c1d70140e6e1cecb4aa\r\n",
      "Successfully built iterative-stratification\r\n",
      "Installing collected packages: iterative-stratification\r\n",
      "Successfully installed iterative-stratification-0.1.6\r\n"
     ]
    }
   ],
   "source": [
    "! rsync -a /kaggle/input/mmdetection-v280/mmdetection /\n",
    "! pip install /kaggle/input/mmdetection-v280/src/mmpycocotools-12.0.3/mmpycocotools-12.0.3/\n",
    "! pip install /kaggle/input/hpapytorchzoo/pytorch_zoo-master/\n",
    "! pip install /kaggle/input/hpacellsegmentation/HPA-Cell-Segmentation/\n",
    "! pip install /kaggle/input/iterative-stratification/iterative-stratification-master/\n",
    "\n",
    "! cp -r /kaggle/input/kgl-humanprotein-data/kgl_humanprotein_data /\n",
    "! cp -r /kaggle/input/humanpro/kgl_humanprotein /\n",
    "\n",
    "import sys\n",
    "sys.path.append('/kgl_humanprotein/')"
   ]
  },
  {
   "cell_type": "code",
   "execution_count": 2,
   "metadata": {
    "execution": {
     "iopub.execute_input": "2021-04-13T14:40:49.498317Z",
     "iopub.status.busy": "2021-04-13T14:40:49.497537Z",
     "iopub.status.idle": "2021-04-13T14:40:52.965366Z",
     "shell.execute_reply": "2021-04-13T14:40:52.964321Z"
    },
    "papermill": {
     "duration": 3.497942,
     "end_time": "2021-04-13T14:40:52.965516",
     "exception": false,
     "start_time": "2021-04-13T14:40:49.467574",
     "status": "completed"
    },
    "tags": []
   },
   "outputs": [
    {
     "name": "stdout",
     "output_type": "stream",
     "text": [
      "run on a92f13a3e4ea\n"
     ]
    }
   ],
   "source": [
    "import os\n",
    "import time\n",
    "from pathlib import Path\n",
    "import shutil\n",
    "import zipfile\n",
    "import functools\n",
    "import multiprocessing\n",
    "import numpy as np\n",
    "import pandas as pd\n",
    "import cv2\n",
    "from sklearn.model_selection import KFold,StratifiedKFold\n",
    "from iterstrat.ml_stratifiers import MultilabelStratifiedKFold\n",
    "import torch\n",
    "from torch.backends import cudnn\n",
    "from torch.utils.data import Dataset, DataLoader, RandomSampler, SequentialSampler\n",
    "from torch.nn import DataParallel\n",
    "import matplotlib.pyplot as plt\n",
    "from tqdm import tqdm\n",
    "\n",
    "from kgl_humanprotein.utils.common_util import *\n",
    "from kgl_humanprotein.config.config import *\n",
    "from kgl_humanprotein.data_process import *\n",
    "from kgl_humanprotein.datasets.tool import image_to_tensor\n",
    "from kgl_humanprotein.networks.imageclsnet import init_network\n",
    "from kgl_humanprotein.layers.loss import *\n",
    "from kgl_humanprotein.layers.scheduler import *\n",
    "from kgl_humanprotein.utils.augment_util import train_multi_augment2\n",
    "from kgl_humanprotein.utils.log_util import Logger\n",
    "from kgl_humanprotein.run.train import *"
   ]
  },
  {
   "cell_type": "code",
   "execution_count": 3,
   "metadata": {
    "execution": {
     "iopub.execute_input": "2021-04-13T14:40:53.018522Z",
     "iopub.status.busy": "2021-04-13T14:40:53.016915Z",
     "iopub.status.idle": "2021-04-13T14:40:53.021393Z",
     "shell.execute_reply": "2021-04-13T14:40:53.020805Z"
    },
    "papermill": {
     "duration": 0.032865,
     "end_time": "2021-04-13T14:40:53.021510",
     "exception": false,
     "start_time": "2021-04-13T14:40:52.988645",
     "status": "completed"
    },
    "tags": []
   },
   "outputs": [
    {
     "name": "stdout",
     "output_type": "stream",
     "text": [
      "/kaggle\n"
     ]
    }
   ],
   "source": [
    "%cd /kaggle"
   ]
  },
  {
   "cell_type": "code",
   "execution_count": 4,
   "metadata": {
    "execution": {
     "iopub.execute_input": "2021-04-13T14:40:53.073165Z",
     "iopub.status.busy": "2021-04-13T14:40:53.071344Z",
     "iopub.status.idle": "2021-04-13T14:40:53.073776Z",
     "shell.execute_reply": "2021-04-13T14:40:53.074196Z"
    },
    "papermill": {
     "duration": 0.029417,
     "end_time": "2021-04-13T14:40:53.074327",
     "exception": false,
     "start_time": "2021-04-13T14:40:53.044910",
     "status": "completed"
    },
    "tags": []
   },
   "outputs": [],
   "source": [
    "CPU_COUNT = multiprocessing.cpu_count()"
   ]
  },
  {
   "cell_type": "markdown",
   "metadata": {
    "papermill": {
     "duration": 0.023419,
     "end_time": "2021-04-13T14:40:53.120820",
     "exception": false,
     "start_time": "2021-04-13T14:40:53.097401",
     "status": "completed"
    },
    "tags": []
   },
   "source": [
    "## Write out 6 image-level samples from each subset for testing on laptop"
   ]
  },
  {
   "cell_type": "code",
   "execution_count": 5,
   "metadata": {
    "execution": {
     "iopub.execute_input": "2021-04-13T14:40:53.171297Z",
     "iopub.status.busy": "2021-04-13T14:40:53.170769Z",
     "iopub.status.idle": "2021-04-13T14:40:53.174769Z",
     "shell.execute_reply": "2021-04-13T14:40:53.174350Z"
    },
    "papermill": {
     "duration": 0.030147,
     "end_time": "2021-04-13T14:40:53.174869",
     "exception": false,
     "start_time": "2021-04-13T14:40:53.144722",
     "status": "completed"
    },
    "tags": []
   },
   "outputs": [],
   "source": [
    "# import shutil"
   ]
  },
  {
   "cell_type": "code",
   "execution_count": 6,
   "metadata": {
    "execution": {
     "iopub.execute_input": "2021-04-13T14:40:53.227112Z",
     "iopub.status.busy": "2021-04-13T14:40:53.225481Z",
     "iopub.status.idle": "2021-04-13T14:40:53.227764Z",
     "shell.execute_reply": "2021-04-13T14:40:53.228308Z"
    },
    "papermill": {
     "duration": 0.030155,
     "end_time": "2021-04-13T14:40:53.228471",
     "exception": false,
     "start_time": "2021-04-13T14:40:53.198316",
     "status": "completed"
    },
    "tags": []
   },
   "outputs": [],
   "source": [
    "# def generate_testing_samples(isubset, n_images=6, sz_img=384, dir_out=None):\n",
    "#     dir_subset = Path(f'/kaggle/input/humanpro-train-cells-subset{isubset}')\n",
    "#     dir_subset = dir_subset / f'humanpro_train_cells_subset{isubset}/train'\n",
    "    \n",
    "#     df = pd.read_feather(dir_subset / 'train.feather')\n",
    "#     imgids = df['Id'].apply(lambda o: o.split('_')[0])\n",
    "#     sample_imgids = np.random.choice(imgids.unique(), n_images)\n",
    "#     df_sample = df[imgids.isin(sample_imgids)].reset_index(drop=True)\n",
    "    \n",
    "#     if dir_out is not None:\n",
    "#         dir_subset_out = dir_out/'train'\n",
    "#         dir_subset_out.mkdir(exist_ok=True, parents=True)\n",
    "#         df_sample.to_feather(dir_subset_out/'train.feather')\n",
    "        \n",
    "#         dir_img = dir_subset/f'images_{sz_img}'\n",
    "#         dir_img_out = dir_subset_out/f'images_{sz_img}'\n",
    "#         dir_img_out.mkdir(exist_ok=True, parents=True)\n",
    "#         for _, row in df_sample.iterrows():\n",
    "#             srcs = list(dir_img.glob(f\"{row['Id']}*.png\"))\n",
    "#             for src in srcs:\n",
    "#                 shutil.copy(src, dir_img_out/src.name)\n",
    "                \n",
    "#     return df_sample"
   ]
  },
  {
   "cell_type": "code",
   "execution_count": 7,
   "metadata": {
    "execution": {
     "iopub.execute_input": "2021-04-13T14:40:53.278820Z",
     "iopub.status.busy": "2021-04-13T14:40:53.278165Z",
     "iopub.status.idle": "2021-04-13T14:40:53.280574Z",
     "shell.execute_reply": "2021-04-13T14:40:53.281146Z"
    },
    "papermill": {
     "duration": 0.029339,
     "end_time": "2021-04-13T14:40:53.281321",
     "exception": false,
     "start_time": "2021-04-13T14:40:53.251982",
     "status": "completed"
    },
    "tags": []
   },
   "outputs": [],
   "source": [
    "# n_subsets = 5\n",
    "\n",
    "# for isubset in range(n_subsets):\n",
    "#     print(f'\\rProcessing subset {isubset}...', end='', flush=True)\n",
    "#     dir_out = Path(f'/kaggle/working/humanpro_train_cells_subset{isubset}')\n",
    "#     generate_testing_samples(isubset, dir_out=dir_out)"
   ]
  },
  {
   "cell_type": "code",
   "execution_count": 8,
   "metadata": {
    "execution": {
     "iopub.execute_input": "2021-04-13T14:40:53.331603Z",
     "iopub.status.busy": "2021-04-13T14:40:53.330926Z",
     "iopub.status.idle": "2021-04-13T14:40:53.333717Z",
     "shell.execute_reply": "2021-04-13T14:40:53.333311Z"
    },
    "papermill": {
     "duration": 0.028975,
     "end_time": "2021-04-13T14:40:53.333823",
     "exception": false,
     "start_time": "2021-04-13T14:40:53.304848",
     "status": "completed"
    },
    "tags": []
   },
   "outputs": [],
   "source": [
    "# ! zip -qr humanpro_train_cells_subset0.zip humanpro_train_cells_subset0/\n",
    "# ! zip -qr humanpro_train_cells_subset1.zip humanpro_train_cells_subset1/\n",
    "# ! zip -qr humanpro_train_cells_subset2.zip humanpro_train_cells_subset2/\n",
    "# ! zip -qr humanpro_train_cells_subset3.zip humanpro_train_cells_subset3/\n",
    "# ! zip -qr humanpro_train_cells_subset4.zip humanpro_train_cells_subset4/"
   ]
  },
  {
   "cell_type": "markdown",
   "metadata": {
    "papermill": {
     "duration": 0.023644,
     "end_time": "2021-04-13T14:40:53.381053",
     "exception": false,
     "start_time": "2021-04-13T14:40:53.357409",
     "status": "completed"
    },
    "tags": []
   },
   "source": [
    "## Combine subsets' meta data"
   ]
  },
  {
   "cell_type": "code",
   "execution_count": 9,
   "metadata": {
    "execution": {
     "iopub.execute_input": "2021-04-13T14:40:53.432516Z",
     "iopub.status.busy": "2021-04-13T14:40:53.431799Z",
     "iopub.status.idle": "2021-04-13T14:40:53.434099Z",
     "shell.execute_reply": "2021-04-13T14:40:53.434554Z"
    },
    "papermill": {
     "duration": 0.029729,
     "end_time": "2021-04-13T14:40:53.434682",
     "exception": false,
     "start_time": "2021-04-13T14:40:53.404953",
     "status": "completed"
    },
    "tags": []
   },
   "outputs": [],
   "source": [
    "dir_data = Path('/kaggle/input')\n",
    "dir_mdata = Path('/kaggle/mdata')\n",
    "n_subsets = 5\n",
    "# sz_img = 384"
   ]
  },
  {
   "cell_type": "code",
   "execution_count": 10,
   "metadata": {
    "execution": {
     "iopub.execute_input": "2021-04-13T14:40:53.486929Z",
     "iopub.status.busy": "2021-04-13T14:40:53.486211Z",
     "iopub.status.idle": "2021-04-13T14:40:59.974829Z",
     "shell.execute_reply": "2021-04-13T14:40:59.975515Z"
    },
    "papermill": {
     "duration": 6.517291,
     "end_time": "2021-04-13T14:40:59.975681",
     "exception": false,
     "start_time": "2021-04-13T14:40:53.458390",
     "status": "completed"
    },
    "tags": []
   },
   "outputs": [
    {
     "name": "stdout",
     "output_type": "stream",
     "text": [
      "Processing subset 4...CPU times: user 1.47 s, sys: 851 ms, total: 2.32 s\n",
      "Wall time: 6.49 s\n"
     ]
    }
   ],
   "source": [
    "%%time\n",
    "df_cells = combine_subsets_metadata(dir_data, n_subsets)"
   ]
  },
  {
   "cell_type": "code",
   "execution_count": 11,
   "metadata": {
    "execution": {
     "iopub.execute_input": "2021-04-13T14:41:00.031997Z",
     "iopub.status.busy": "2021-04-13T14:41:00.031512Z",
     "iopub.status.idle": "2021-04-13T14:41:04.133997Z",
     "shell.execute_reply": "2021-04-13T14:41:04.134867Z"
    },
    "papermill": {
     "duration": 4.13217,
     "end_time": "2021-04-13T14:41:04.135026",
     "exception": false,
     "start_time": "2021-04-13T14:41:00.002856",
     "status": "completed"
    },
    "tags": []
   },
   "outputs": [],
   "source": [
    "dir_mdata_raw = dir_mdata/'raw'\n",
    "dir_mdata_raw.mkdir(exist_ok=True, parents=True)\n",
    "\n",
    "df_cells.to_feather(dir_mdata_raw/'train.feather')"
   ]
  },
  {
   "cell_type": "code",
   "execution_count": 12,
   "metadata": {
    "execution": {
     "iopub.execute_input": "2021-04-13T14:41:04.484858Z",
     "iopub.status.busy": "2021-04-13T14:41:04.483581Z",
     "iopub.status.idle": "2021-04-13T14:41:04.487110Z",
     "shell.execute_reply": "2021-04-13T14:41:04.486690Z"
    },
    "papermill": {
     "duration": 0.322001,
     "end_time": "2021-04-13T14:41:04.487252",
     "exception": false,
     "start_time": "2021-04-13T14:41:04.165251",
     "status": "completed"
    },
    "tags": []
   },
   "outputs": [],
   "source": [
    "del df_cells"
   ]
  },
  {
   "cell_type": "markdown",
   "metadata": {
    "papermill": {
     "duration": 0.025846,
     "end_time": "2021-04-13T14:41:04.539037",
     "exception": false,
     "start_time": "2021-04-13T14:41:04.513191",
     "status": "completed"
    },
    "tags": []
   },
   "source": [
    "## Filter samples"
   ]
  },
  {
   "cell_type": "code",
   "execution_count": 13,
   "metadata": {
    "execution": {
     "iopub.execute_input": "2021-04-13T14:41:04.601915Z",
     "iopub.status.busy": "2021-04-13T14:41:04.601091Z",
     "iopub.status.idle": "2021-04-13T14:41:07.226961Z",
     "shell.execute_reply": "2021-04-13T14:41:07.222077Z"
    },
    "papermill": {
     "duration": 2.662588,
     "end_time": "2021-04-13T14:41:07.227102",
     "exception": false,
     "start_time": "2021-04-13T14:41:04.564514",
     "status": "completed"
    },
    "tags": []
   },
   "outputs": [],
   "source": [
    "# Keep single labels\n",
    "df_cells = pd.read_feather(dir_mdata_raw/'train.feather')\n",
    "df_cells = (df_cells[df_cells['Target'].apply(lambda o: len(o.split('|'))==1)]\n",
    "            .reset_index(drop=True))"
   ]
  },
  {
   "cell_type": "code",
   "execution_count": 14,
   "metadata": {
    "execution": {
     "iopub.execute_input": "2021-04-13T14:41:07.285775Z",
     "iopub.status.busy": "2021-04-13T14:41:07.285020Z",
     "iopub.status.idle": "2021-04-13T14:41:07.289096Z",
     "shell.execute_reply": "2021-04-13T14:41:07.288631Z"
    },
    "papermill": {
     "duration": 0.034995,
     "end_time": "2021-04-13T14:41:07.289229",
     "exception": false,
     "start_time": "2021-04-13T14:41:07.254234",
     "status": "completed"
    },
    "tags": []
   },
   "outputs": [],
   "source": [
    "# Limit number of samples per label\n",
    "\n",
    "def cap_number_per_label(df_cells, cap=10_000, idx_start=0):\n",
    "    df_cells_cap = pd.DataFrame()\n",
    "    for label in df_cells.Target.unique():\n",
    "        df = df_cells[df_cells.Target==label]\n",
    "        if len(df) > cap:\n",
    "            df = df.iloc[idx_start:idx_start + cap]\n",
    "        df_cells_cap = df_cells_cap.append(df, ignore_index=True)\n",
    "    return df_cells_cap"
   ]
  },
  {
   "cell_type": "code",
   "execution_count": 15,
   "metadata": {
    "execution": {
     "iopub.execute_input": "2021-04-13T14:41:07.362075Z",
     "iopub.status.busy": "2021-04-13T14:41:07.361346Z",
     "iopub.status.idle": "2021-04-13T14:41:08.167382Z",
     "shell.execute_reply": "2021-04-13T14:41:08.166295Z"
    },
    "papermill": {
     "duration": 0.8524,
     "end_time": "2021-04-13T14:41:08.167535",
     "exception": false,
     "start_time": "2021-04-13T14:41:07.315135",
     "status": "completed"
    },
    "tags": []
   },
   "outputs": [],
   "source": [
    "df_cells = cap_number_per_label(df_cells, cap=5_000, idx_start=5_000) "
   ]
  },
  {
   "cell_type": "code",
   "execution_count": 16,
   "metadata": {
    "execution": {
     "iopub.execute_input": "2021-04-13T14:41:08.245271Z",
     "iopub.status.busy": "2021-04-13T14:41:08.244738Z",
     "iopub.status.idle": "2021-04-13T14:41:08.249728Z",
     "shell.execute_reply": "2021-04-13T14:41:08.250127Z"
    },
    "papermill": {
     "duration": 0.055081,
     "end_time": "2021-04-13T14:41:08.250271",
     "exception": false,
     "start_time": "2021-04-13T14:41:08.195190",
     "status": "completed"
    },
    "tags": []
   },
   "outputs": [
    {
     "data": {
      "text/plain": [
       "14    5000\n",
       "3     5000\n",
       "16    5000\n",
       "6     5000\n",
       "8     5000\n",
       "0     5000\n",
       "13    5000\n",
       "2     5000\n",
       "4     5000\n",
       "5     5000\n",
       "7     5000\n",
       "12    5000\n",
       "1     4845\n",
       "10    2789\n",
       "15    2275\n",
       "18     952\n",
       "17     619\n",
       "9      322\n",
       "11      10\n",
       "Name: Target, dtype: int64"
      ]
     },
     "execution_count": 16,
     "metadata": {},
     "output_type": "execute_result"
    }
   ],
   "source": [
    "df_cells.Target.value_counts()"
   ]
  },
  {
   "cell_type": "code",
   "execution_count": 17,
   "metadata": {
    "execution": {
     "iopub.execute_input": "2021-04-13T14:41:08.519026Z",
     "iopub.status.busy": "2021-04-13T14:41:08.518242Z",
     "iopub.status.idle": "2021-04-13T14:41:08.855528Z",
     "shell.execute_reply": "2021-04-13T14:41:08.854962Z"
    },
    "papermill": {
     "duration": 0.579267,
     "end_time": "2021-04-13T14:41:08.855670",
     "exception": false,
     "start_time": "2021-04-13T14:41:08.276403",
     "status": "completed"
    },
    "tags": []
   },
   "outputs": [],
   "source": [
    "df_cells.to_feather(dir_mdata_raw/'train.feather')"
   ]
  },
  {
   "cell_type": "markdown",
   "metadata": {
    "papermill": {
     "duration": 0.027716,
     "end_time": "2021-04-13T14:41:08.910550",
     "exception": false,
     "start_time": "2021-04-13T14:41:08.882834",
     "status": "completed"
    },
    "tags": []
   },
   "source": [
    "## One-hot encode labels"
   ]
  },
  {
   "cell_type": "code",
   "execution_count": 18,
   "metadata": {
    "execution": {
     "iopub.execute_input": "2021-04-13T14:41:08.967961Z",
     "iopub.status.busy": "2021-04-13T14:41:08.967199Z",
     "iopub.status.idle": "2021-04-13T14:41:27.725973Z",
     "shell.execute_reply": "2021-04-13T14:41:27.725016Z"
    },
    "papermill": {
     "duration": 18.78935,
     "end_time": "2021-04-13T14:41:27.726166",
     "exception": false,
     "start_time": "2021-04-13T14:41:08.936816",
     "status": "completed"
    },
    "tags": []
   },
   "outputs": [
    {
     "name": "stdout",
     "output_type": "stream",
     "text": [
      "CPU times: user 18.6 s, sys: 189 ms, total: 18.8 s\n",
      "Wall time: 18.8 s\n"
     ]
    }
   ],
   "source": [
    "%%time\n",
    "generate_meta(dir_mdata, 'train.feather')"
   ]
  },
  {
   "cell_type": "markdown",
   "metadata": {
    "papermill": {
     "duration": 0.026501,
     "end_time": "2021-04-13T14:41:27.780087",
     "exception": false,
     "start_time": "2021-04-13T14:41:27.753586",
     "status": "completed"
    },
    "tags": []
   },
   "source": [
    "## Split generation"
   ]
  },
  {
   "cell_type": "code",
   "execution_count": 19,
   "metadata": {
    "execution": {
     "iopub.execute_input": "2021-04-13T14:41:27.838945Z",
     "iopub.status.busy": "2021-04-13T14:41:27.838135Z",
     "iopub.status.idle": "2021-04-13T14:41:32.888616Z",
     "shell.execute_reply": "2021-04-13T14:41:32.887757Z"
    },
    "papermill": {
     "duration": 5.08205,
     "end_time": "2021-04-13T14:41:32.888794",
     "exception": false,
     "start_time": "2021-04-13T14:41:27.806744",
     "status": "completed"
    },
    "tags": []
   },
   "outputs": [
    {
     "name": "stdout",
     "output_type": "stream",
     "text": [
      "Nucleoplasm 4000 1000\n",
      "Nuclear membrane 3876 969\n",
      "Nucleoli 4000 1000\n",
      "Nucleoli fibrillar center 4000 1000\n",
      "Nuclear speckles 4000 1000\n",
      "Nuclear bodies 4000 1000\n",
      "Endoplasmic reticulum 4000 1000\n",
      "Golgi apparatus 4000 1000\n",
      "Intermediate filaments 4000 1000\n",
      "Actin filaments 257 65\n",
      "Microtubules 2231 558\n",
      "Mitotic spindle 8 2\n",
      "Centrosome 4000 1000\n",
      "Plasma membrane 4000 1000\n",
      "Mitochondria 4000 1000\n",
      "Aggresome 1820 455\n",
      "Cytosol 4000 1000\n",
      "Vesicles and punctate cytosolic patterns 495 124\n",
      "Negative 762 190\n",
      "create split file: /kaggle/mdata/split/random_folds5/random_train_cv0.feather, shape: (57449, 26)\n",
      "create split file: /kaggle/mdata/split/random_folds5/random_valid_cv0.feather, shape: (14363, 26)\n",
      "create split file: /kaggle/mdata/split/random_folds5/random_train_cv1.feather, shape: (57450, 26)\n",
      "create split file: /kaggle/mdata/split/random_folds5/random_valid_cv1.feather, shape: (14362, 26)\n",
      "create split file: /kaggle/mdata/split/random_folds5/random_train_cv2.feather, shape: (57449, 26)\n",
      "create split file: /kaggle/mdata/split/random_folds5/random_valid_cv2.feather, shape: (14363, 26)\n",
      "create split file: /kaggle/mdata/split/random_folds5/random_train_cv3.feather, shape: (57450, 26)\n",
      "create split file: /kaggle/mdata/split/random_folds5/random_valid_cv3.feather, shape: (14362, 26)\n",
      "create split file: /kaggle/mdata/split/random_folds5/random_train_cv4.feather, shape: (57450, 26)\n",
      "create split file: /kaggle/mdata/split/random_folds5/random_valid_cv4.feather, shape: (14362, 26)\n",
      "CPU times: user 4.68 s, sys: 531 ms, total: 5.21 s\n",
      "Wall time: 5.04 s\n"
     ]
    }
   ],
   "source": [
    "%%time\n",
    "train_meta = pd.read_feather(dir_mdata/'meta'/'train_meta.feather')\n",
    "create_random_split(dir_mdata, train_meta, n_splits=5, alias='random')\n",
    "del train_meta"
   ]
  },
  {
   "cell_type": "markdown",
   "metadata": {
    "papermill": {
     "duration": 0.028419,
     "end_time": "2021-04-13T14:41:32.946450",
     "exception": false,
     "start_time": "2021-04-13T14:41:32.918031",
     "status": "completed"
    },
    "tags": []
   },
   "source": [
    "## Training"
   ]
  },
  {
   "cell_type": "code",
   "execution_count": 20,
   "metadata": {
    "execution": {
     "iopub.execute_input": "2021-04-13T14:41:33.010170Z",
     "iopub.status.busy": "2021-04-13T14:41:33.009616Z",
     "iopub.status.idle": "2021-04-13T14:41:33.013279Z",
     "shell.execute_reply": "2021-04-13T14:41:33.012797Z"
    },
    "papermill": {
     "duration": 0.038247,
     "end_time": "2021-04-13T14:41:33.013448",
     "exception": false,
     "start_time": "2021-04-13T14:41:32.975201",
     "status": "completed"
    },
    "tags": []
   },
   "outputs": [],
   "source": [
    "model_multicell = (\n",
    "    '../../kgl_humanprotein_data/result/models/'\n",
    "    'external_crop512_focal_slov_hardlog_class_densenet121_dropout_i768_aug2_5folds/'\n",
    "    'fold0/final.pth')\n",
    "gpu_id = '0' # '0,1,2,3'\n",
    "arch = 'class_densenet121_dropout'\n",
    "num_classes = len(LABEL_NAME_LIST)\n",
    "scheduler = 'Adam55'\n",
    "epochs = 42 #55\n",
    "resume = ('/kaggle/input/humanpro-classifier/results/models/'\n",
    "          'external_crop256_focal_slov_hardlog_class_densenet121_dropout_i384_aug2_5folds/'\n",
    "          'fold0/final.pth')\n",
    "sz_img = 384\n",
    "crop_size = 256 #512\n",
    "batch_size = 76\n",
    "split_name = 'random_folds5'\n",
    "fold = 0\n",
    "workers = 3\n",
    "pin_memory = True\n",
    "\n",
    "dir_results = Path('results')\n",
    "dir_results.mkdir(exist_ok=True, parents=True)\n",
    "\n",
    "out_dir = Path(f'external_crop{crop_size}_focal_slov_hardlog_class_densenet121_dropout_i384_aug2_5folds')"
   ]
  },
  {
   "cell_type": "code",
   "execution_count": 21,
   "metadata": {
    "execution": {
     "iopub.execute_input": "2021-04-13T14:41:33.075035Z",
     "iopub.status.busy": "2021-04-13T14:41:33.074535Z",
     "iopub.status.idle": "2021-04-13T16:13:29.249296Z",
     "shell.execute_reply": "2021-04-13T16:13:29.248802Z"
    },
    "papermill": {
     "duration": 5516.207345,
     "end_time": "2021-04-13T16:13:29.249426",
     "exception": false,
     "start_time": "2021-04-13T14:41:33.042081",
     "status": "completed"
    },
    "tags": []
   },
   "outputs": [
    {
     "name": "stdout",
     "output_type": "stream",
     "text": [
      ">> Creating directory if it does not exist:\n",
      ">> 'results/models/external_crop256_focal_slov_hardlog_class_densenet121_dropout_i384_aug2_5folds/fold0'\n",
      ">> Using pre-trained model.\n",
      ">> Loading multi-cell model.\n",
      ">> Loading checkpoint:\n",
      ">> '/kaggle/input/humanpro-classifier/results/models/external_crop256_focal_slov_hardlog_class_densenet121_dropout_i384_aug2_5folds/fold0/final.pth'\n",
      ">> Loading checkpoint:\n",
      ">> '/kaggle/input/humanpro-classifier/results/models/external_crop256_focal_slov_hardlog_class_densenet121_dropout_i384_aug2_5folds/fold0/final_optim.pth'\n",
      ">>>> loaded checkpoint:\n",
      ">>>> '/kaggle/input/humanpro-classifier/results/models/external_crop256_focal_slov_hardlog_class_densenet121_dropout_i384_aug2_5folds/fold0/final.pth' (epoch 36)\n",
      "** start training here! **\n",
      "\n",
      "epoch    iter      rate     |  train_loss/acc  |    valid_loss/acc/focal/kaggle     |best_epoch/best_focal|  min \n",
      "-----------------------------------------------------------------------------------------------------------------\n",
      " 37.0     755    0.000075   |  0.5980  0.9755  |    0.4904  0.9749 0.4094 0.7236    |    36.0    0.2797   | 19.7 min \n",
      " 38.0     755    0.000075   |  0.4768  0.9791  |    0.4596  0.9770 0.3643 0.7538    |    36.0    0.2797   | 15.1 min \n",
      " 39.0     755    0.000075   |  0.4413  0.9808  |    0.4415  0.9783 0.3447 0.7741    |    36.0    0.2797   | 14.6 min \n",
      " 40.0     755    0.000075   |  0.4235  0.9820  |    0.4429  0.9792 0.3331 0.7885    |    36.0    0.2797   | 14.3 min \n",
      " 41.0     755    0.000075   |  0.3874  0.9834  |    0.4493  0.9798 0.3441 0.7890    |    36.0    0.2797   | 14.0 min \n",
      " 42.0     755    0.000075   |  0.3730  0.9842  |    0.4347  0.9807 0.3359 0.8018    |    36.0    0.2797   | 14.0 min \n"
     ]
    }
   ],
   "source": [
    "main_training(dir_data, dir_mdata, dir_results, out_dir, \n",
    "              split_name=split_name, fold=fold,\n",
    "              arch=arch, model_multicell=model_multicell, scheduler=scheduler,\n",
    "              epochs=epochs, resume=resume,\n",
    "              img_size=sz_img, crop_size=crop_size, batch_size=batch_size, \n",
    "              gpu_id=gpu_id, workers=workers, pin_memory=pin_memory)"
   ]
  },
  {
   "cell_type": "code",
   "execution_count": 22,
   "metadata": {
    "execution": {
     "iopub.execute_input": "2021-04-13T16:13:31.855896Z",
     "iopub.status.busy": "2021-04-13T16:13:31.828563Z",
     "iopub.status.idle": "2021-04-13T16:13:33.918136Z",
     "shell.execute_reply": "2021-04-13T16:13:33.917658Z"
    },
    "papermill": {
     "duration": 3.319772,
     "end_time": "2021-04-13T16:13:33.918305",
     "exception": false,
     "start_time": "2021-04-13T16:13:30.598533",
     "status": "completed"
    },
    "tags": []
   },
   "outputs": [],
   "source": [
    "! cp -r results/ /kaggle/working/."
   ]
  },
  {
   "cell_type": "code",
   "execution_count": null,
   "metadata": {
    "papermill": {
     "duration": 1.339706,
     "end_time": "2021-04-13T16:13:36.567609",
     "exception": false,
     "start_time": "2021-04-13T16:13:35.227903",
     "status": "completed"
    },
    "tags": []
   },
   "outputs": [],
   "source": []
  }
 ],
 "metadata": {
  "kernelspec": {
   "display_name": "Python 3",
   "language": "python",
   "name": "python3"
  },
  "language_info": {
   "codemirror_mode": {
    "name": "ipython",
    "version": 3
   },
   "file_extension": ".py",
   "mimetype": "text/x-python",
   "name": "python",
   "nbconvert_exporter": "python",
   "pygments_lexer": "ipython3",
   "version": "3.7.9"
  },
  "papermill": {
   "default_parameters": {},
   "duration": 5720.833281,
   "end_time": "2021-04-13T16:13:42.220115",
   "environment_variables": {},
   "exception": null,
   "input_path": "__notebook__.ipynb",
   "output_path": "__notebook__.ipynb",
   "parameters": {},
   "start_time": "2021-04-13T14:38:21.386834",
   "version": "2.2.2"
  }
 },
 "nbformat": 4,
 "nbformat_minor": 4
}
