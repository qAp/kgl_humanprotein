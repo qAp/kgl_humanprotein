{
 "cells": [
  {
   "cell_type": "code",
   "execution_count": 1,
   "metadata": {
    "execution": {
     "iopub.execute_input": "2021-04-25T13:07:08.820930Z",
     "iopub.status.busy": "2021-04-25T13:07:08.819792Z",
     "iopub.status.idle": "2021-04-25T13:27:09.459656Z",
     "shell.execute_reply": "2021-04-25T13:27:09.460776Z"
    },
    "papermill": {
     "duration": 1200.660376,
     "end_time": "2021-04-25T13:27:09.461991",
     "exception": false,
     "start_time": "2021-04-25T13:07:08.801615",
     "status": "completed"
    },
    "tags": []
   },
   "outputs": [
    {
     "name": "stdout",
     "output_type": "stream",
     "text": [
      "/kaggle\n",
      "/kaggle\n"
     ]
    }
   ],
   "source": [
    "%cd /kaggle\n",
    "\n",
    "! cp -r /kaggle/input/humanpro-train-cells-subset5 /kaggle/.\n",
    "! mv /kaggle/humanpro-train-cells-subset5 /kaggle/humanpro_train_cells_subset5 \n",
    "! zip -rq humanpro_train_cells_subset5.zip humanpro_train_cells_subset5/\n",
    "! cp humanpro_train_cells_subset5.zip /kaggle/working/.\n",
    "\n",
    "%cd /kaggle"
   ]
  },
  {
   "cell_type": "code",
   "execution_count": 2,
   "metadata": {
    "execution": {
     "iopub.execute_input": "2021-04-25T13:27:09.667501Z",
     "iopub.status.busy": "2021-04-25T13:27:09.666428Z",
     "iopub.status.idle": "2021-04-25T13:27:09.669285Z",
     "shell.execute_reply": "2021-04-25T13:27:09.670173Z"
    },
    "papermill": {
     "duration": 0.117652,
     "end_time": "2021-04-25T13:27:09.670394",
     "exception": false,
     "start_time": "2021-04-25T13:27:09.552742",
     "status": "completed"
    },
    "tags": []
   },
   "outputs": [],
   "source": [
    "# %cd /kaggle\n",
    "# ! mkdir -p tmp_data/train\n",
    "# ! touch tmp_data/train/image.txt\n",
    "# ! zip -rq tmp_data.zip tmp_data/\n",
    "# ! cp tmp_data.zip /kaggle/working/.\n",
    "# %cd /kaggle"
   ]
  },
  {
   "cell_type": "code",
   "execution_count": null,
   "metadata": {
    "papermill": {
     "duration": 40.673466,
     "end_time": "2021-04-25T13:27:50.359991",
     "exception": false,
     "start_time": "2021-04-25T13:27:09.686525",
     "status": "completed"
    },
    "tags": []
   },
   "outputs": [],
   "source": []
  }
 ],
 "metadata": {
  "kernelspec": {
   "display_name": "Python 3",
   "language": "python",
   "name": "python3"
  },
  "language_info": {
   "codemirror_mode": {
    "name": "ipython",
    "version": 3
   },
   "file_extension": ".py",
   "mimetype": "text/x-python",
   "name": "python",
   "nbconvert_exporter": "python",
   "pygments_lexer": "ipython3",
   "version": "3.7.9"
  },
  "papermill": {
   "default_parameters": {},
   "duration": 1248.513025,
   "end_time": "2021-04-25T13:27:51.076963",
   "environment_variables": {},
   "exception": null,
   "input_path": "__notebook__.ipynb",
   "output_path": "__notebook__.ipynb",
   "parameters": {},
   "start_time": "2021-04-25T13:07:02.563938",
   "version": "2.2.2"
  }
 },
 "nbformat": 4,
 "nbformat_minor": 4
}
